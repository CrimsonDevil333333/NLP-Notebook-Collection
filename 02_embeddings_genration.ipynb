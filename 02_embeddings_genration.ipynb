{
 "cells": [
  {
   "cell_type": "markdown",
   "metadata": {},
   "source": [
    "### Sample program to create embeddings using 'gensim'\n",
    "\n",
    "<!-- ```py\n",
    "from gensim.models import Word2Vec\n",
    "\n",
    "# Sample sentences\n",
    "sentences = [\n",
    "    ['this', 'is', 'a', 'sample', 'sentence'],\n",
    "    ['another', 'example', 'sentence'],\n",
    "    ['yet', 'another', 'sentence'],\n",
    "    ['one', 'more', 'example'],\n",
    "    ['one', 'more', 'examples'],\n",
    "]\n",
    "\n",
    "# Train Word2Vec model\n",
    "model = Word2Vec(sentences, vector_size=100, window=100, min_count=1, workers=4)\n",
    "\n",
    "# Get the embedding vector for a word\n",
    "word_embedding = model.wv['examples']\n",
    "print(\"Embedding for 'examples':\", word_embedding[:4])\n",
    "\n",
    "# Find similar words\n",
    "similar_words = model.wv.most_similar('example', topn=3)\n",
    "print(\"Similar words to 'example':\", similar_words)\n",
    "\n",
    "model.wv.key_to_index.keys()\n",
    "``` -->"
   ]
  },
  {
   "cell_type": "code",
   "execution_count": 1,
   "metadata": {},
   "outputs": [],
   "source": [
    "import logging\n",
    "logging.basicConfig(format='%(asctime)s : %(levelname)s : %(message)s', level=logging.DEBUG)"
   ]
  },
  {
   "cell_type": "code",
   "execution_count": 2,
   "metadata": {},
   "outputs": [],
   "source": [
    "# Creating random data with there embedings\n",
    "\n",
    "import pandas as pd\n",
    "from gensim.models import Word2Vec\n",
    "import numpy as np\n",
    "from faker import Faker\n",
    "\n",
    "dummy_data_genrator = Faker()\n",
    "data_volume = 1_000"
   ]
  },
  {
   "cell_type": "code",
   "execution_count": 3,
   "metadata": {},
   "outputs": [],
   "source": [
    "payload_data = []\n",
    "\n",
    "for r in range(data_volume):\n",
    "    payload_data.append(\n",
    "        {\n",
    "            \"name\":dummy_data_genrator.name(),\n",
    "            \"address\":dummy_data_genrator.address(),\n",
    "            \"country\":dummy_data_genrator.country(),\n",
    "            \"url\":dummy_data_genrator.url(),\n",
    "            \"year\":dummy_data_genrator.year(),\n",
    "            \"color\":dummy_data_genrator.color()\n",
    "        }\n",
    "    )"
   ]
  },
  {
   "cell_type": "code",
   "execution_count": 4,
   "metadata": {},
   "outputs": [
    {
     "data": {
      "text/html": [
       "<div>\n",
       "<style scoped>\n",
       "    .dataframe tbody tr th:only-of-type {\n",
       "        vertical-align: middle;\n",
       "    }\n",
       "\n",
       "    .dataframe tbody tr th {\n",
       "        vertical-align: top;\n",
       "    }\n",
       "\n",
       "    .dataframe thead th {\n",
       "        text-align: right;\n",
       "    }\n",
       "</style>\n",
       "<table border=\"1\" class=\"dataframe\">\n",
       "  <thead>\n",
       "    <tr style=\"text-align: right;\">\n",
       "      <th></th>\n",
       "      <th>name</th>\n",
       "      <th>address</th>\n",
       "      <th>country</th>\n",
       "      <th>url</th>\n",
       "      <th>year</th>\n",
       "      <th>color</th>\n",
       "    </tr>\n",
       "  </thead>\n",
       "  <tbody>\n",
       "    <tr>\n",
       "      <th>0</th>\n",
       "      <td>Paul Wilson</td>\n",
       "      <td>541 Sawyer Hills Apt. 549\\nSharonbury, MD 03559</td>\n",
       "      <td>Seychelles</td>\n",
       "      <td>http://www.rodriguez.org/</td>\n",
       "      <td>2016</td>\n",
       "      <td>#e9f473</td>\n",
       "    </tr>\n",
       "    <tr>\n",
       "      <th>1</th>\n",
       "      <td>Alexis Kidd</td>\n",
       "      <td>563 Miller Heights\\nJohnsonmouth, CA 05548</td>\n",
       "      <td>Cambodia</td>\n",
       "      <td>http://www.duffy.com/</td>\n",
       "      <td>2010</td>\n",
       "      <td>#5bf94f</td>\n",
       "    </tr>\n",
       "  </tbody>\n",
       "</table>\n",
       "</div>"
      ],
      "text/plain": [
       "          name                                          address     country  \\\n",
       "0  Paul Wilson  541 Sawyer Hills Apt. 549\\nSharonbury, MD 03559  Seychelles   \n",
       "1  Alexis Kidd       563 Miller Heights\\nJohnsonmouth, CA 05548    Cambodia   \n",
       "\n",
       "                         url  year    color  \n",
       "0  http://www.rodriguez.org/  2016  #e9f473  \n",
       "1      http://www.duffy.com/  2010  #5bf94f  "
      ]
     },
     "execution_count": 4,
     "metadata": {},
     "output_type": "execute_result"
    }
   ],
   "source": [
    "df = pd.DataFrame(payload_data)\n",
    "df.head(2)"
   ]
  },
  {
   "cell_type": "code",
   "execution_count": 5,
   "metadata": {},
   "outputs": [
    {
     "data": {
      "text/plain": [
       "[['Seychelles', '2016'], ['Cambodia', '2010'], ['Belize', '2002']]"
      ]
     },
     "execution_count": 5,
     "metadata": {},
     "output_type": "execute_result"
    }
   ],
   "source": [
    "extracted_country_data = [[data['country'], data['year']] for index, data in df.iterrows()]\n",
    "extracted_country_data[:3]"
   ]
  },
  {
   "cell_type": "code",
   "execution_count": 6,
   "metadata": {},
   "outputs": [
    {
     "name": "stderr",
     "output_type": "stream",
     "text": [
      "2024-03-20 23:16:13,136 : INFO : collecting all words and their counts\n",
      "2024-03-20 23:16:13,138 : INFO : PROGRESS: at sentence #0, processed 0 words, keeping 0 word types\n",
      "2024-03-20 23:16:13,141 : INFO : collected 293 word types from a corpus of 2000 raw words and 1000 sentences\n",
      "2024-03-20 23:16:13,143 : INFO : Creating a fresh vocabulary\n",
      "2024-03-20 23:16:13,147 : DEBUG : starting a new internal lifecycle event log for Word2Vec\n",
      "2024-03-20 23:16:13,148 : INFO : Word2Vec lifecycle event {'msg': 'effective_min_count=1 retains 293 unique words (100.00% of original 293, drops 0)', 'datetime': '2024-03-20T23:16:13.147945', 'gensim': '4.3.2', 'python': '3.11.8 (tags/v3.11.8:db85d51, Feb  6 2024, 22:03:32) [MSC v.1937 64 bit (AMD64)]', 'platform': 'Windows-10-10.0.22631-SP0', 'event': 'prepare_vocab'}\n",
      "2024-03-20 23:16:13,149 : INFO : Word2Vec lifecycle event {'msg': 'effective_min_count=1 leaves 2000 word corpus (100.00% of original 2000, drops 0)', 'datetime': '2024-03-20T23:16:13.149946', 'gensim': '4.3.2', 'python': '3.11.8 (tags/v3.11.8:db85d51, Feb  6 2024, 22:03:32) [MSC v.1937 64 bit (AMD64)]', 'platform': 'Windows-10-10.0.22631-SP0', 'event': 'prepare_vocab'}\n",
      "2024-03-20 23:16:13,154 : INFO : deleting the raw counts dictionary of 293 items\n",
      "2024-03-20 23:16:13,155 : INFO : sample=0.001 downsamples 109 most-common words\n",
      "2024-03-20 23:16:13,156 : INFO : Word2Vec lifecycle event {'msg': 'downsampling leaves estimated 1366.5500221942045 word corpus (68.3%% of prior 2000)', 'datetime': '2024-03-20T23:16:13.156944', 'gensim': '4.3.2', 'python': '3.11.8 (tags/v3.11.8:db85d51, Feb  6 2024, 22:03:32) [MSC v.1937 64 bit (AMD64)]', 'platform': 'Windows-10-10.0.22631-SP0', 'event': 'prepare_vocab'}\n",
      "2024-03-20 23:16:13,162 : INFO : estimated required memory for 293 words and 100 dimensions: 380900 bytes\n",
      "2024-03-20 23:16:13,163 : INFO : resetting layer weights\n",
      "2024-03-20 23:16:13,165 : INFO : Word2Vec lifecycle event {'update': False, 'trim_rule': 'None', 'datetime': '2024-03-20T23:16:13.165946', 'gensim': '4.3.2', 'python': '3.11.8 (tags/v3.11.8:db85d51, Feb  6 2024, 22:03:32) [MSC v.1937 64 bit (AMD64)]', 'platform': 'Windows-10-10.0.22631-SP0', 'event': 'build_vocab'}\n",
      "2024-03-20 23:16:13,166 : INFO : Word2Vec lifecycle event {'msg': 'training model with 4 workers on 293 vocabulary and 100 features, using sg=0 hs=0 sample=0.001 negative=5 window=5 shrink_windows=True', 'datetime': '2024-03-20T23:16:13.166946', 'gensim': '4.3.2', 'python': '3.11.8 (tags/v3.11.8:db85d51, Feb  6 2024, 22:03:32) [MSC v.1937 64 bit (AMD64)]', 'platform': 'Windows-10-10.0.22631-SP0', 'event': 'train'}\n",
      "2024-03-20 23:16:13,177 : DEBUG : job loop exiting, total 1 jobs\n",
      "2024-03-20 23:16:13,183 : DEBUG : worker exiting, processed 0 jobs\n",
      "2024-03-20 23:16:13,184 : DEBUG : worker exiting, processed 0 jobs\n",
      "2024-03-20 23:16:13,184 : DEBUG : worker exiting, processed 0 jobs\n",
      "2024-03-20 23:16:13,185 : DEBUG : worker thread finished; awaiting finish of 3 more threads\n",
      "2024-03-20 23:16:13,188 : DEBUG : worker exiting, processed 1 jobs\n",
      "2024-03-20 23:16:13,200 : DEBUG : worker thread finished; awaiting finish of 2 more threads\n",
      "2024-03-20 23:16:13,204 : DEBUG : worker thread finished; awaiting finish of 1 more threads\n",
      "2024-03-20 23:16:13,205 : DEBUG : worker thread finished; awaiting finish of 0 more threads\n",
      "2024-03-20 23:16:13,206 : INFO : EPOCH 0: training on 2000 raw words (1366 effective words) took 0.0s, 63911 effective words/s\n",
      "2024-03-20 23:16:13,211 : DEBUG : job loop exiting, total 1 jobs\n",
      "2024-03-20 23:16:13,234 : DEBUG : worker exiting, processed 0 jobs\n",
      "2024-03-20 23:16:13,234 : DEBUG : worker exiting, processed 0 jobs\n",
      "2024-03-20 23:16:13,234 : DEBUG : worker exiting, processed 0 jobs\n",
      "2024-03-20 23:16:13,235 : DEBUG : worker thread finished; awaiting finish of 3 more threads\n",
      "2024-03-20 23:16:13,239 : DEBUG : worker exiting, processed 1 jobs\n",
      "2024-03-20 23:16:13,272 : DEBUG : worker thread finished; awaiting finish of 2 more threads\n",
      "2024-03-20 23:16:13,278 : DEBUG : worker thread finished; awaiting finish of 1 more threads\n",
      "2024-03-20 23:16:13,279 : DEBUG : worker thread finished; awaiting finish of 0 more threads\n",
      "2024-03-20 23:16:13,281 : INFO : EPOCH 1: training on 2000 raw words (1361 effective words) took 0.0s, 28426 effective words/s\n",
      "2024-03-20 23:16:13,289 : DEBUG : job loop exiting, total 1 jobs\n",
      "2024-03-20 23:16:13,294 : DEBUG : worker exiting, processed 0 jobs\n",
      "2024-03-20 23:16:13,294 : DEBUG : worker exiting, processed 0 jobs\n",
      "2024-03-20 23:16:13,294 : DEBUG : worker exiting, processed 0 jobs\n",
      "2024-03-20 23:16:13,295 : DEBUG : worker thread finished; awaiting finish of 3 more threads\n",
      "2024-03-20 23:16:13,298 : DEBUG : worker exiting, processed 1 jobs\n",
      "2024-03-20 23:16:13,326 : DEBUG : worker thread finished; awaiting finish of 2 more threads\n",
      "2024-03-20 23:16:13,334 : DEBUG : worker thread finished; awaiting finish of 1 more threads\n",
      "2024-03-20 23:16:13,335 : DEBUG : worker thread finished; awaiting finish of 0 more threads\n",
      "2024-03-20 23:16:13,337 : INFO : EPOCH 2: training on 2000 raw words (1368 effective words) took 0.0s, 32202 effective words/s\n",
      "2024-03-20 23:16:13,344 : DEBUG : job loop exiting, total 1 jobs\n",
      "2024-03-20 23:16:13,367 : DEBUG : worker exiting, processed 0 jobs\n",
      "2024-03-20 23:16:13,364 : DEBUG : worker exiting, processed 0 jobs\n",
      "2024-03-20 23:16:13,364 : DEBUG : worker thread finished; awaiting finish of 3 more threads\n",
      "2024-03-20 23:16:13,364 : DEBUG : worker exiting, processed 0 jobs\n",
      "2024-03-20 23:16:13,372 : DEBUG : worker exiting, processed 1 jobs\n",
      "2024-03-20 23:16:13,379 : DEBUG : worker thread finished; awaiting finish of 2 more threads\n",
      "2024-03-20 23:16:13,389 : DEBUG : worker thread finished; awaiting finish of 1 more threads\n",
      "2024-03-20 23:16:13,390 : DEBUG : worker thread finished; awaiting finish of 0 more threads\n",
      "2024-03-20 23:16:13,392 : INFO : EPOCH 3: training on 2000 raw words (1327 effective words) took 0.0s, 48720 effective words/s\n",
      "2024-03-20 23:16:13,401 : DEBUG : job loop exiting, total 1 jobs\n",
      "2024-03-20 23:16:13,406 : DEBUG : worker exiting, processed 0 jobs\n",
      "2024-03-20 23:16:13,406 : DEBUG : worker exiting, processed 0 jobs\n",
      "2024-03-20 23:16:13,406 : DEBUG : worker exiting, processed 0 jobs\n",
      "2024-03-20 23:16:13,407 : DEBUG : worker thread finished; awaiting finish of 3 more threads\n",
      "2024-03-20 23:16:13,469 : DEBUG : worker thread finished; awaiting finish of 2 more threads\n",
      "2024-03-20 23:16:13,411 : DEBUG : worker exiting, processed 1 jobs\n",
      "2024-03-20 23:16:13,471 : DEBUG : worker thread finished; awaiting finish of 1 more threads\n",
      "2024-03-20 23:16:13,479 : DEBUG : worker thread finished; awaiting finish of 0 more threads\n",
      "2024-03-20 23:16:13,481 : INFO : EPOCH 4: training on 2000 raw words (1403 effective words) took 0.1s, 18411 effective words/s\n",
      "2024-03-20 23:16:13,482 : INFO : Word2Vec lifecycle event {'msg': 'training on 10000 raw words (6825 effective words) took 0.3s, 21720 effective words/s', 'datetime': '2024-03-20T23:16:13.482950', 'gensim': '4.3.2', 'python': '3.11.8 (tags/v3.11.8:db85d51, Feb  6 2024, 22:03:32) [MSC v.1937 64 bit (AMD64)]', 'platform': 'Windows-10-10.0.22631-SP0', 'event': 'train'}\n",
      "2024-03-20 23:16:13,483 : INFO : Word2Vec lifecycle event {'params': 'Word2Vec<vocab=293, vector_size=100, alpha=0.025>', 'datetime': '2024-03-20T23:16:13.483950', 'gensim': '4.3.2', 'python': '3.11.8 (tags/v3.11.8:db85d51, Feb  6 2024, 22:03:32) [MSC v.1937 64 bit (AMD64)]', 'platform': 'Windows-10-10.0.22631-SP0', 'event': 'created'}\n"
     ]
    }
   ],
   "source": [
    "# Train Word2Vec model\n",
    "# Adjust parameters like vector_size (dimensionality of the embeddings), window (context window size), and min_count (minimum frequency of words) based on your dataset and requirements.\n",
    "# Use meaningful variable names for better readability and maintainability.\n",
    "vector_size = 100  # Dimensionality of the embeddings\n",
    "window = 5  # Context window size\n",
    "min_count = 1  # Minimum frequency of words\n",
    "workers = 4  # Number of worker threads to train the model\n",
    "model = Word2Vec(extracted_country_data, vector_size=vector_size, window=window, min_count=min_count, workers=workers)"
   ]
  },
  {
   "cell_type": "code",
   "execution_count": 7,
   "metadata": {},
   "outputs": [
    {
     "data": {
      "text/plain": [
       "['2004', '1984', '2005']"
      ]
     },
     "execution_count": 7,
     "metadata": {},
     "output_type": "execute_result"
    }
   ],
   "source": [
    "# Get keys (words) from the Word2Vec model\n",
    "list(model.wv.key_to_index.keys())[:3]"
   ]
  },
  {
   "cell_type": "code",
   "execution_count": 8,
   "metadata": {},
   "outputs": [
    {
     "data": {
      "text/plain": [
       "(array([0.00333445, 0.00427895], dtype=float32),\n",
       " array([0.00209961, 0.00576099], dtype=float32))"
      ]
     },
     "execution_count": 8,
     "metadata": {},
     "output_type": "execute_result"
    }
   ],
   "source": [
    "# Get embeddings for each user\n",
    "country_embeddings = []\n",
    "year_embeddings = []\n",
    "for idx, row in df.iterrows():\n",
    "    country = row['country']\n",
    "    year = row['year']\n",
    "    country_embeddings.append(model.wv[str(country)])\n",
    "    year_embeddings.append(model.wv[str(year)])\n",
    "country_embeddings[1][:2], year_embeddings[1][:2]\n"
   ]
  },
  {
   "cell_type": "code",
   "execution_count": 9,
   "metadata": {},
   "outputs": [
    {
     "data": {
      "text/plain": [
       "(1000, 1000, 1000)"
      ]
     },
     "execution_count": 9,
     "metadata": {},
     "output_type": "execute_result"
    }
   ],
   "source": [
    "len(country_embeddings), len(year_embeddings), len(payload_data)"
   ]
  },
  {
   "cell_type": "markdown",
   "metadata": {},
   "source": [
    "### Storing embeddings in vector database"
   ]
  },
  {
   "cell_type": "code",
   "execution_count": 10,
   "metadata": {},
   "outputs": [
    {
     "name": "stderr",
     "output_type": "stream",
     "text": [
      "2024-03-20 23:16:22,562 : DEBUG : load_ssl_context verify=True cert=None trust_env=True http2=False\n",
      "2024-03-20 23:16:22,567 : DEBUG : load_verify_locations capath='c:\\\\Users\\\\satya\\\\.vscode\\\\extensions\\\\ukoloff.win-ca-3.5.1\\\\node_modules\\\\win-ca\\\\pem'\n"
     ]
    },
    {
     "data": {
      "text/plain": [
       "<qdrant_client.qdrant_client.QdrantClient at 0x2b4d91578d0>"
      ]
     },
     "execution_count": 10,
     "metadata": {},
     "output_type": "execute_result"
    }
   ],
   "source": [
    "from utilities import get_key\n",
    "\n",
    "from qdrant_client import QdrantClient\n",
    "from qdrant_client.http import models\n",
    "\n",
    "client = QdrantClient(\n",
    "    url=get_key(\"QDRANT_URL\"),\n",
    "    api_key=get_key(\"QDRANT_KEY\"),\n",
    ")\n",
    "client"
   ]
  },
  {
   "cell_type": "code",
   "execution_count": 11,
   "metadata": {},
   "outputs": [
    {
     "data": {
      "text/plain": [
       "('test_collection_country', 'test_collection_year', [0, 1, 2], 1000)"
      ]
     },
     "execution_count": 11,
     "metadata": {},
     "output_type": "execute_result"
    }
   ],
   "source": [
    "country_collection_name = \"test_collection_country\"\n",
    "year_collection_name = \"test_collection_year\"\n",
    "index = list(range(data_volume))\n",
    "country_collection_name,year_collection_name, index[:3], len(index)"
   ]
  },
  {
   "cell_type": "code",
   "execution_count": 12,
   "metadata": {},
   "outputs": [
    {
     "name": "stderr",
     "output_type": "stream",
     "text": [
      "2024-03-20 23:16:24,604 : DEBUG : connect_tcp.started host='b54f2f73-aa84-43cb-9e5b-48738d261af3.us-east4-0.gcp.cloud.qdrant.io' port=6333 local_address=None timeout=5.0 socket_options=None\n",
      "2024-03-20 23:16:24,896 : DEBUG : connect_tcp.complete return_value=<httpcore._backends.sync.SyncStream object at 0x000002B4D9899D90>\n",
      "2024-03-20 23:16:24,897 : DEBUG : start_tls.started ssl_context=<ssl.SSLContext object at 0x000002B4DA5F8710> server_hostname='b54f2f73-aa84-43cb-9e5b-48738d261af3.us-east4-0.gcp.cloud.qdrant.io' timeout=5.0\n",
      "2024-03-20 23:16:25,184 : DEBUG : start_tls.complete return_value=<httpcore._backends.sync.SyncStream object at 0x000002B4D79EFC10>\n",
      "2024-03-20 23:16:25,186 : DEBUG : send_request_headers.started request=<Request [b'PUT']>\n",
      "2024-03-20 23:16:25,188 : DEBUG : send_request_headers.complete\n",
      "2024-03-20 23:16:25,190 : DEBUG : send_request_body.started request=<Request [b'PUT']>\n",
      "2024-03-20 23:16:25,193 : DEBUG : send_request_body.complete\n",
      "2024-03-20 23:16:25,195 : DEBUG : receive_response_headers.started request=<Request [b'PUT']>\n",
      "2024-03-20 23:16:25,618 : DEBUG : receive_response_headers.complete return_value=(b'HTTP/1.1', 200, b'OK', [(b'Content-Encoding', b'gzip'), (b'Content-Type', b'application/json'), (b'Date', b'Wed, 20 Mar 2024 17:46:25 GMT'), (b'Vary', b'accept-encoding, Origin, Access-Control-Request-Method, Access-Control-Request-Headers'), (b'Transfer-Encoding', b'chunked')])\n",
      "2024-03-20 23:16:25,619 : INFO : HTTP Request: PUT https://b54f2f73-aa84-43cb-9e5b-48738d261af3.us-east4-0.gcp.cloud.qdrant.io:6333/collections/test_collection_year \"HTTP/1.1 200 OK\"\n",
      "2024-03-20 23:16:25,620 : DEBUG : receive_response_body.started request=<Request [b'PUT']>\n",
      "2024-03-20 23:16:25,621 : DEBUG : receive_response_body.complete\n",
      "2024-03-20 23:16:25,622 : DEBUG : response_closed.started\n",
      "2024-03-20 23:16:25,623 : DEBUG : response_closed.complete\n",
      "2024-03-20 23:16:25,629 : DEBUG : send_request_headers.started request=<Request [b'PUT']>\n",
      "2024-03-20 23:16:25,632 : DEBUG : send_request_headers.complete\n",
      "2024-03-20 23:16:25,633 : DEBUG : send_request_body.started request=<Request [b'PUT']>\n",
      "2024-03-20 23:16:25,636 : DEBUG : send_request_body.complete\n",
      "2024-03-20 23:16:25,637 : DEBUG : receive_response_headers.started request=<Request [b'PUT']>\n",
      "2024-03-20 23:16:26,046 : DEBUG : receive_response_headers.complete return_value=(b'HTTP/1.1', 200, b'OK', [(b'Content-Encoding', b'gzip'), (b'Content-Type', b'application/json'), (b'Date', b'Wed, 20 Mar 2024 17:46:25 GMT'), (b'Vary', b'accept-encoding, Origin, Access-Control-Request-Method, Access-Control-Request-Headers'), (b'Transfer-Encoding', b'chunked')])\n",
      "2024-03-20 23:16:26,047 : INFO : HTTP Request: PUT https://b54f2f73-aa84-43cb-9e5b-48738d261af3.us-east4-0.gcp.cloud.qdrant.io:6333/collections/test_collection_country \"HTTP/1.1 200 OK\"\n",
      "2024-03-20 23:16:26,047 : DEBUG : receive_response_body.started request=<Request [b'PUT']>\n",
      "2024-03-20 23:16:26,050 : DEBUG : receive_response_body.complete\n",
      "2024-03-20 23:16:26,051 : DEBUG : response_closed.started\n",
      "2024-03-20 23:16:26,052 : DEBUG : response_closed.complete\n"
     ]
    }
   ],
   "source": [
    "try:\n",
    "    client.create_collection(\n",
    "        collection_name=year_collection_name,\n",
    "        vectors_config=models.VectorParams(size=100, distance=models.Distance.COSINE)\n",
    "    )\n",
    "    client.create_collection(\n",
    "        collection_name=country_collection_name,\n",
    "        vectors_config=models.VectorParams(size=100, distance=models.Distance.COSINE)\n",
    "    )\n",
    "except Exception as ex:\n",
    "    print(ex)"
   ]
  },
  {
   "cell_type": "code",
   "execution_count": 13,
   "metadata": {},
   "outputs": [
    {
     "name": "stderr",
     "output_type": "stream",
     "text": [
      "2024-03-20 23:16:47,730 : DEBUG : close.started\n",
      "2024-03-20 23:16:47,731 : DEBUG : close.complete\n",
      "2024-03-20 23:16:47,734 : DEBUG : connect_tcp.started host='b54f2f73-aa84-43cb-9e5b-48738d261af3.us-east4-0.gcp.cloud.qdrant.io' port=6333 local_address=None timeout=5.0 socket_options=None\n",
      "2024-03-20 23:16:48,014 : DEBUG : connect_tcp.complete return_value=<httpcore._backends.sync.SyncStream object at 0x000002B4B7538890>\n",
      "2024-03-20 23:16:48,015 : DEBUG : start_tls.started ssl_context=<ssl.SSLContext object at 0x000002B4DA5F8710> server_hostname='b54f2f73-aa84-43cb-9e5b-48738d261af3.us-east4-0.gcp.cloud.qdrant.io' timeout=5.0\n",
      "2024-03-20 23:16:48,291 : DEBUG : start_tls.complete return_value=<httpcore._backends.sync.SyncStream object at 0x000002B4D99EA790>\n",
      "2024-03-20 23:16:48,292 : DEBUG : send_request_headers.started request=<Request [b'PUT']>\n",
      "2024-03-20 23:16:48,294 : DEBUG : send_request_headers.complete\n",
      "2024-03-20 23:16:48,295 : DEBUG : send_request_body.started request=<Request [b'PUT']>\n",
      "2024-03-20 23:16:50,206 : DEBUG : send_request_body.complete\n",
      "2024-03-20 23:16:50,207 : DEBUG : receive_response_headers.started request=<Request [b'PUT']>\n",
      "2024-03-20 23:16:51,108 : DEBUG : receive_response_headers.complete return_value=(b'HTTP/1.1', 200, b'OK', [(b'Content-Encoding', b'gzip'), (b'Content-Type', b'application/json'), (b'Date', b'Wed, 20 Mar 2024 17:46:50 GMT'), (b'Vary', b'accept-encoding, Origin, Access-Control-Request-Method, Access-Control-Request-Headers'), (b'Transfer-Encoding', b'chunked')])\n",
      "2024-03-20 23:16:51,109 : INFO : HTTP Request: PUT https://b54f2f73-aa84-43cb-9e5b-48738d261af3.us-east4-0.gcp.cloud.qdrant.io:6333/collections/test_collection_country/points?wait=true \"HTTP/1.1 200 OK\"\n",
      "2024-03-20 23:16:51,110 : DEBUG : receive_response_body.started request=<Request [b'PUT']>\n",
      "2024-03-20 23:16:51,112 : DEBUG : receive_response_body.complete\n",
      "2024-03-20 23:16:51,113 : DEBUG : response_closed.started\n",
      "2024-03-20 23:16:51,115 : DEBUG : response_closed.complete\n",
      "2024-03-20 23:16:51,176 : DEBUG : send_request_headers.started request=<Request [b'PUT']>\n",
      "2024-03-20 23:16:51,177 : DEBUG : send_request_headers.complete\n",
      "2024-03-20 23:16:51,178 : DEBUG : send_request_body.started request=<Request [b'PUT']>\n",
      "2024-03-20 23:16:51,472 : DEBUG : send_request_body.complete\n",
      "2024-03-20 23:16:51,473 : DEBUG : receive_response_headers.started request=<Request [b'PUT']>\n",
      "2024-03-20 23:16:53,212 : DEBUG : receive_response_headers.complete return_value=(b'HTTP/1.1', 200, b'OK', [(b'Content-Encoding', b'gzip'), (b'Content-Type', b'application/json'), (b'Date', b'Wed, 20 Mar 2024 17:46:53 GMT'), (b'Vary', b'accept-encoding, Origin, Access-Control-Request-Method, Access-Control-Request-Headers'), (b'Transfer-Encoding', b'chunked')])\n",
      "2024-03-20 23:16:53,213 : INFO : HTTP Request: PUT https://b54f2f73-aa84-43cb-9e5b-48738d261af3.us-east4-0.gcp.cloud.qdrant.io:6333/collections/test_collection_year/points?wait=true \"HTTP/1.1 200 OK\"\n",
      "2024-03-20 23:16:53,214 : DEBUG : receive_response_body.started request=<Request [b'PUT']>\n",
      "2024-03-20 23:16:53,216 : DEBUG : receive_response_body.complete\n",
      "2024-03-20 23:16:53,218 : DEBUG : response_closed.started\n",
      "2024-03-20 23:16:53,219 : DEBUG : response_closed.complete\n"
     ]
    },
    {
     "data": {
      "text/plain": [
       "UpdateResult(operation_id=0, status=<UpdateStatus.COMPLETED: 'completed'>)"
      ]
     },
     "execution_count": 13,
     "metadata": {},
     "output_type": "execute_result"
    }
   ],
   "source": [
    "client.upsert(\n",
    "    collection_name=country_collection_name,\n",
    "    points=models.Batch(\n",
    "        ids=index,\n",
    "        vectors=country_embeddings, # Include both sets of embeddings\n",
    "        payloads=payload_data\n",
    "    )\n",
    ")\n",
    "\n",
    "client.upsert(\n",
    "    collection_name=year_collection_name,\n",
    "    points=models.Batch(\n",
    "        ids=index,\n",
    "        vectors=year_embeddings, # Include both sets of embeddings\n",
    "        payloads=payload_data\n",
    "    )\n",
    ")"
   ]
  },
  {
   "cell_type": "markdown",
   "metadata": {},
   "source": [
    "### Recommend people location of other based on the location and year"
   ]
  },
  {
   "cell_type": "code",
   "execution_count": 14,
   "metadata": {},
   "outputs": [
    {
     "name": "stderr",
     "output_type": "stream",
     "text": [
      "2024-03-20 23:16:56,838 : DEBUG : send_request_headers.started request=<Request [b'POST']>\n",
      "2024-03-20 23:16:56,840 : DEBUG : send_request_headers.complete\n",
      "2024-03-20 23:16:56,842 : DEBUG : send_request_body.started request=<Request [b'POST']>\n",
      "2024-03-20 23:16:56,844 : DEBUG : send_request_body.complete\n",
      "2024-03-20 23:16:56,845 : DEBUG : receive_response_headers.started request=<Request [b'POST']>\n",
      "2024-03-20 23:16:57,115 : DEBUG : receive_response_headers.complete return_value=(b'HTTP/1.1', 200, b'OK', [(b'Content-Encoding', b'gzip'), (b'Content-Type', b'application/json'), (b'Date', b'Wed, 20 Mar 2024 17:46:56 GMT'), (b'Vary', b'accept-encoding, Origin, Access-Control-Request-Method, Access-Control-Request-Headers'), (b'Transfer-Encoding', b'chunked')])\n",
      "2024-03-20 23:16:57,117 : INFO : HTTP Request: POST https://b54f2f73-aa84-43cb-9e5b-48738d261af3.us-east4-0.gcp.cloud.qdrant.io:6333/collections/test_collection_year/points/recommend \"HTTP/1.1 200 OK\"\n",
      "2024-03-20 23:16:57,117 : DEBUG : receive_response_body.started request=<Request [b'POST']>\n",
      "2024-03-20 23:16:57,382 : DEBUG : receive_response_body.complete\n",
      "2024-03-20 23:16:57,383 : DEBUG : response_closed.started\n",
      "2024-03-20 23:16:57,384 : DEBUG : response_closed.complete\n",
      "2024-03-20 23:16:57,389 : DEBUG : send_request_headers.started request=<Request [b'POST']>\n",
      "2024-03-20 23:16:57,391 : DEBUG : send_request_headers.complete\n",
      "2024-03-20 23:16:57,392 : DEBUG : send_request_body.started request=<Request [b'POST']>\n",
      "2024-03-20 23:16:57,394 : DEBUG : send_request_body.complete\n",
      "2024-03-20 23:16:57,395 : DEBUG : receive_response_headers.started request=<Request [b'POST']>\n",
      "2024-03-20 23:16:57,665 : DEBUG : receive_response_headers.complete return_value=(b'HTTP/1.1', 200, b'OK', [(b'Content-Encoding', b'gzip'), (b'Content-Type', b'application/json'), (b'Date', b'Wed, 20 Mar 2024 17:46:57 GMT'), (b'Vary', b'accept-encoding, Origin, Access-Control-Request-Method, Access-Control-Request-Headers'), (b'Transfer-Encoding', b'chunked')])\n",
      "2024-03-20 23:16:57,666 : INFO : HTTP Request: POST https://b54f2f73-aa84-43cb-9e5b-48738d261af3.us-east4-0.gcp.cloud.qdrant.io:6333/collections/test_collection_country/points/recommend \"HTTP/1.1 200 OK\"\n",
      "2024-03-20 23:16:57,667 : DEBUG : receive_response_body.started request=<Request [b'POST']>\n",
      "2024-03-20 23:16:57,670 : DEBUG : receive_response_body.complete\n",
      "2024-03-20 23:16:57,671 : DEBUG : response_closed.started\n",
      "2024-03-20 23:16:57,672 : DEBUG : response_closed.complete\n"
     ]
    }
   ],
   "source": [
    "same_year_recommends = client.recommend(\n",
    "    collection_name=year_collection_name,\n",
    "    positive=[1], # index of similar pattern\n",
    "    # negative=[75,40], # negitive index\n",
    "    limit=200\n",
    ")\n",
    "\n",
    "same_country_recommends = client.recommend(\n",
    "    collection_name=country_collection_name,\n",
    "    positive=[1], # index of similar pattern\n",
    "    # negative=[75,40], # negitive index\n",
    "    limit=200\n",
    ")"
   ]
  },
  {
   "cell_type": "code",
   "execution_count": 15,
   "metadata": {},
   "outputs": [
    {
     "data": {
      "text/plain": [
       "[(770,\n",
       "  1.0,\n",
       "  {'address': '14432 Melton Landing Apt. 218\\nLynnview, NV 71683',\n",
       "   'color': '#f7ed36',\n",
       "   'country': 'Cambodia',\n",
       "   'name': 'Charles Carson',\n",
       "   'url': 'https://hobbs.info/',\n",
       "   'year': '1971'}),\n",
       " (839,\n",
       "  0.21550466,\n",
       "  {'address': '3455 Monica Cove\\nDavidmouth, VA 57037',\n",
       "   'color': '#9accea',\n",
       "   'country': 'China',\n",
       "   'name': 'Thomas Hubbard',\n",
       "   'url': 'http://garcia.com/',\n",
       "   'year': '2004'}),\n",
       " (480,\n",
       "  0.20534617,\n",
       "  {'address': '890 Mccoy Harbors\\nSouth Jackieview, LA 80985',\n",
       "   'color': '#09a332',\n",
       "   'country': 'Nauru',\n",
       "   'name': 'Andrew Lucero',\n",
       "   'url': 'https://george-chapman.org/',\n",
       "   'year': '2004'})]"
      ]
     },
     "execution_count": 15,
     "metadata": {},
     "output_type": "execute_result"
    }
   ],
   "source": [
    "# Create dictionaries mapping IDs to (score, payload) tuples for each collection\n",
    "year_data_mapping = {recommend.id: (recommend.score, recommend.payload) for recommend in same_year_recommends}\n",
    "country_data_mapping = {recommend.id: (recommend.score, recommend.payload) for recommend in same_country_recommends}\n",
    "\n",
    "# Find common IDs\n",
    "common_ids = set(year_data_mapping.keys()) & set(country_data_mapping.keys())\n",
    "\n",
    "# Create a list to store filtered recommendations with original payloads\n",
    "filtered_recommendations = []\n",
    "\n",
    "# Iterate through common IDs and retrieve data\n",
    "for common_id in common_ids:\n",
    "    year_data = year_data_mapping.get(common_id)\n",
    "    country_data = country_data_mapping.get(common_id)\n",
    "    if year_data and country_data:  # Check if both data exist\n",
    "        # Choose one of the scores and payloads, or combine them as needed\n",
    "        score = country_data[0]  # Example: Choose year score\n",
    "        payload = year_data[1]  # Example: Choose year payload\n",
    "        # Append the ID, score, and payload to the filtered recommendations list\n",
    "        filtered_recommendations.append((common_id, score, payload))\n",
    "\n",
    "# Now, filtered_recommendations contains tuples of (ID, score, payload) for recommendations present in both collections\n",
    "# Sort filtered recommendations based on score\n",
    "sorted_recommendations = sorted(filtered_recommendations, key=lambda x: x[1], reverse=True)\n",
    "\n",
    "# Now, sorted_recommendations contains sorted tuples of (ID, score, payload) based on the score\n",
    "sorted_recommendations[:3]"
   ]
  },
  {
   "cell_type": "code",
   "execution_count": 16,
   "metadata": {},
   "outputs": [
    {
     "name": "stderr",
     "output_type": "stream",
     "text": [
      "2024-03-20 23:17:00,462 : DEBUG : matplotlib data path: C:\\Users\\satya\\AppData\\Local\\Packages\\PythonSoftwareFoundation.Python.3.11_qbz5n2kfra8p0\\LocalCache\\local-packages\\Python311\\site-packages\\matplotlib\\mpl-data\n",
      "2024-03-20 23:17:00,475 : DEBUG : CONFIGDIR=C:\\Users\\satya\\.matplotlib\n",
      "2024-03-20 23:17:00,481 : DEBUG : interactive is False\n",
      "2024-03-20 23:17:00,484 : DEBUG : platform is win32\n",
      "2024-03-20 23:17:00,628 : DEBUG : CACHEDIR=C:\\Users\\satya\\.matplotlib\n",
      "2024-03-20 23:17:00,634 : DEBUG : Using fontManager instance from C:\\Users\\satya\\.matplotlib\\fontlist-v330.json\n",
      "2024-03-20 23:17:01,080 : DEBUG : Loaded backend module://matplotlib_inline.backend_inline version unknown.\n",
      "2024-03-20 23:17:01,082 : DEBUG : Loaded backend module://matplotlib_inline.backend_inline version unknown.\n",
      "2024-03-20 23:17:01,089 : DEBUG : findfont: Matching sans\\-serif:style=normal:variant=normal:weight=normal:stretch=normal:size=10.0.\n",
      "2024-03-20 23:17:01,090 : DEBUG : findfont: score(FontEntry(fname='C:\\\\Users\\\\satya\\\\AppData\\\\Local\\\\Packages\\\\PythonSoftwareFoundation.Python.3.11_qbz5n2kfra8p0\\\\LocalCache\\\\local-packages\\\\Python311\\\\site-packages\\\\matplotlib\\\\mpl-data\\\\fonts\\\\ttf\\\\cmmi10.ttf', name='cmmi10', style='normal', variant='normal', weight=400, stretch='normal', size='scalable')) = 10.05\n",
      "2024-03-20 23:17:01,091 : DEBUG : findfont: score(FontEntry(fname='C:\\\\Users\\\\satya\\\\AppData\\\\Local\\\\Packages\\\\PythonSoftwareFoundation.Python.3.11_qbz5n2kfra8p0\\\\LocalCache\\\\local-packages\\\\Python311\\\\site-packages\\\\matplotlib\\\\mpl-data\\\\fonts\\\\ttf\\\\DejaVuSans.ttf', name='DejaVu Sans', style='normal', variant='normal', weight=400, stretch='normal', size='scalable')) = 0.05\n",
      "2024-03-20 23:17:01,092 : DEBUG : findfont: score(FontEntry(fname='C:\\\\Users\\\\satya\\\\AppData\\\\Local\\\\Packages\\\\PythonSoftwareFoundation.Python.3.11_qbz5n2kfra8p0\\\\LocalCache\\\\local-packages\\\\Python311\\\\site-packages\\\\matplotlib\\\\mpl-data\\\\fonts\\\\ttf\\\\STIXNonUniBolIta.ttf', name='STIXNonUnicode', style='italic', variant='normal', weight=700, stretch='normal', size='scalable')) = 11.335\n",
      "2024-03-20 23:17:01,093 : DEBUG : findfont: score(FontEntry(fname='C:\\\\Users\\\\satya\\\\AppData\\\\Local\\\\Packages\\\\PythonSoftwareFoundation.Python.3.11_qbz5n2kfra8p0\\\\LocalCache\\\\local-packages\\\\Python311\\\\site-packages\\\\matplotlib\\\\mpl-data\\\\fonts\\\\ttf\\\\DejaVuSerif-Bold.ttf', name='DejaVu Serif', style='normal', variant='normal', weight=700, stretch='normal', size='scalable')) = 10.335\n",
      "2024-03-20 23:17:01,094 : DEBUG : findfont: score(FontEntry(fname='C:\\\\Users\\\\satya\\\\AppData\\\\Local\\\\Packages\\\\PythonSoftwareFoundation.Python.3.11_qbz5n2kfra8p0\\\\LocalCache\\\\local-packages\\\\Python311\\\\site-packages\\\\matplotlib\\\\mpl-data\\\\fonts\\\\ttf\\\\DejaVuSerif-Italic.ttf', name='DejaVu Serif', style='italic', variant='normal', weight=400, stretch='normal', size='scalable')) = 11.05\n",
      "2024-03-20 23:17:01,097 : DEBUG : findfont: score(FontEntry(fname='C:\\\\Users\\\\satya\\\\AppData\\\\Local\\\\Packages\\\\PythonSoftwareFoundation.Python.3.11_qbz5n2kfra8p0\\\\LocalCache\\\\local-packages\\\\Python311\\\\site-packages\\\\matplotlib\\\\mpl-data\\\\fonts\\\\ttf\\\\DejaVuSerifDisplay.ttf', name='DejaVu Serif Display', style='normal', variant='normal', weight=400, stretch='normal', size='scalable')) = 10.05\n",
      "2024-03-20 23:17:01,098 : DEBUG : findfont: score(FontEntry(fname='C:\\\\Users\\\\satya\\\\AppData\\\\Local\\\\Packages\\\\PythonSoftwareFoundation.Python.3.11_qbz5n2kfra8p0\\\\LocalCache\\\\local-packages\\\\Python311\\\\site-packages\\\\matplotlib\\\\mpl-data\\\\fonts\\\\ttf\\\\STIXSizFiveSymReg.ttf', name='STIXSizeFiveSym', style='normal', variant='normal', weight=400, stretch='normal', size='scalable')) = 10.05\n",
      "2024-03-20 23:17:01,099 : DEBUG : findfont: score(FontEntry(fname='C:\\\\Users\\\\satya\\\\AppData\\\\Local\\\\Packages\\\\PythonSoftwareFoundation.Python.3.11_qbz5n2kfra8p0\\\\LocalCache\\\\local-packages\\\\Python311\\\\site-packages\\\\matplotlib\\\\mpl-data\\\\fonts\\\\ttf\\\\STIXSizThreeSymReg.ttf', name='STIXSizeThreeSym', style='normal', variant='normal', weight=400, stretch='normal', size='scalable')) = 10.05\n",
      "2024-03-20 23:17:01,101 : DEBUG : findfont: score(FontEntry(fname='C:\\\\Users\\\\satya\\\\AppData\\\\Local\\\\Packages\\\\PythonSoftwareFoundation.Python.3.11_qbz5n2kfra8p0\\\\LocalCache\\\\local-packages\\\\Python311\\\\site-packages\\\\matplotlib\\\\mpl-data\\\\fonts\\\\ttf\\\\cmtt10.ttf', name='cmtt10', style='normal', variant='normal', weight=400, stretch='normal', size='scalable')) = 10.05\n",
      "2024-03-20 23:17:01,104 : DEBUG : findfont: score(FontEntry(fname='C:\\\\Users\\\\satya\\\\AppData\\\\Local\\\\Packages\\\\PythonSoftwareFoundation.Python.3.11_qbz5n2kfra8p0\\\\LocalCache\\\\local-packages\\\\Python311\\\\site-packages\\\\matplotlib\\\\mpl-data\\\\fonts\\\\ttf\\\\STIXGeneralBolIta.ttf', name='STIXGeneral', style='italic', variant='normal', weight=700, stretch='normal', size='scalable')) = 11.335\n",
      "2024-03-20 23:17:01,111 : DEBUG : findfont: score(FontEntry(fname='C:\\\\Users\\\\satya\\\\AppData\\\\Local\\\\Packages\\\\PythonSoftwareFoundation.Python.3.11_qbz5n2kfra8p0\\\\LocalCache\\\\local-packages\\\\Python311\\\\site-packages\\\\matplotlib\\\\mpl-data\\\\fonts\\\\ttf\\\\DejaVuSansMono.ttf', name='DejaVu Sans Mono', style='normal', variant='normal', weight=400, stretch='normal', size='scalable')) = 10.05\n",
      "2024-03-20 23:17:01,119 : DEBUG : findfont: score(FontEntry(fname='C:\\\\Users\\\\satya\\\\AppData\\\\Local\\\\Packages\\\\PythonSoftwareFoundation.Python.3.11_qbz5n2kfra8p0\\\\LocalCache\\\\local-packages\\\\Python311\\\\site-packages\\\\matplotlib\\\\mpl-data\\\\fonts\\\\ttf\\\\DejaVuSerif-BoldItalic.ttf', name='DejaVu Serif', style='italic', variant='normal', weight=700, stretch='normal', size='scalable')) = 11.335\n",
      "2024-03-20 23:17:01,120 : DEBUG : findfont: score(FontEntry(fname='C:\\\\Users\\\\satya\\\\AppData\\\\Local\\\\Packages\\\\PythonSoftwareFoundation.Python.3.11_qbz5n2kfra8p0\\\\LocalCache\\\\local-packages\\\\Python311\\\\site-packages\\\\matplotlib\\\\mpl-data\\\\fonts\\\\ttf\\\\STIXNonUniIta.ttf', name='STIXNonUnicode', style='italic', variant='normal', weight=400, stretch='normal', size='scalable')) = 11.05\n",
      "2024-03-20 23:17:01,121 : DEBUG : findfont: score(FontEntry(fname='C:\\\\Users\\\\satya\\\\AppData\\\\Local\\\\Packages\\\\PythonSoftwareFoundation.Python.3.11_qbz5n2kfra8p0\\\\LocalCache\\\\local-packages\\\\Python311\\\\site-packages\\\\matplotlib\\\\mpl-data\\\\fonts\\\\ttf\\\\DejaVuSansMono-BoldOblique.ttf', name='DejaVu Sans Mono', style='oblique', variant='normal', weight=700, stretch='normal', size='scalable')) = 11.335\n",
      "2024-03-20 23:17:01,122 : DEBUG : findfont: score(FontEntry(fname='C:\\\\Users\\\\satya\\\\AppData\\\\Local\\\\Packages\\\\PythonSoftwareFoundation.Python.3.11_qbz5n2kfra8p0\\\\LocalCache\\\\local-packages\\\\Python311\\\\site-packages\\\\matplotlib\\\\mpl-data\\\\fonts\\\\ttf\\\\STIXNonUni.ttf', name='STIXNonUnicode', style='normal', variant='normal', weight=400, stretch='normal', size='scalable')) = 10.05\n",
      "2024-03-20 23:17:01,124 : DEBUG : findfont: score(FontEntry(fname='C:\\\\Users\\\\satya\\\\AppData\\\\Local\\\\Packages\\\\PythonSoftwareFoundation.Python.3.11_qbz5n2kfra8p0\\\\LocalCache\\\\local-packages\\\\Python311\\\\site-packages\\\\matplotlib\\\\mpl-data\\\\fonts\\\\ttf\\\\cmr10.ttf', name='cmr10', style='normal', variant='normal', weight=400, stretch='normal', size='scalable')) = 10.05\n",
      "2024-03-20 23:17:01,125 : DEBUG : findfont: score(FontEntry(fname='C:\\\\Users\\\\satya\\\\AppData\\\\Local\\\\Packages\\\\PythonSoftwareFoundation.Python.3.11_qbz5n2kfra8p0\\\\LocalCache\\\\local-packages\\\\Python311\\\\site-packages\\\\matplotlib\\\\mpl-data\\\\fonts\\\\ttf\\\\DejaVuSansDisplay.ttf', name='DejaVu Sans Display', style='normal', variant='normal', weight=400, stretch='normal', size='scalable')) = 10.05\n",
      "2024-03-20 23:17:01,129 : DEBUG : findfont: score(FontEntry(fname='C:\\\\Users\\\\satya\\\\AppData\\\\Local\\\\Packages\\\\PythonSoftwareFoundation.Python.3.11_qbz5n2kfra8p0\\\\LocalCache\\\\local-packages\\\\Python311\\\\site-packages\\\\matplotlib\\\\mpl-data\\\\fonts\\\\ttf\\\\DejaVuSans-BoldOblique.ttf', name='DejaVu Sans', style='oblique', variant='normal', weight=700, stretch='normal', size='scalable')) = 1.335\n",
      "2024-03-20 23:17:01,133 : DEBUG : findfont: score(FontEntry(fname='C:\\\\Users\\\\satya\\\\AppData\\\\Local\\\\Packages\\\\PythonSoftwareFoundation.Python.3.11_qbz5n2kfra8p0\\\\LocalCache\\\\local-packages\\\\Python311\\\\site-packages\\\\matplotlib\\\\mpl-data\\\\fonts\\\\ttf\\\\STIXSizOneSymReg.ttf', name='STIXSizeOneSym', style='normal', variant='normal', weight=400, stretch='normal', size='scalable')) = 10.05\n",
      "2024-03-20 23:17:01,135 : DEBUG : findfont: score(FontEntry(fname='C:\\\\Users\\\\satya\\\\AppData\\\\Local\\\\Packages\\\\PythonSoftwareFoundation.Python.3.11_qbz5n2kfra8p0\\\\LocalCache\\\\local-packages\\\\Python311\\\\site-packages\\\\matplotlib\\\\mpl-data\\\\fonts\\\\ttf\\\\DejaVuSans-Oblique.ttf', name='DejaVu Sans', style='oblique', variant='normal', weight=400, stretch='normal', size='scalable')) = 1.05\n",
      "2024-03-20 23:17:01,137 : DEBUG : findfont: score(FontEntry(fname='C:\\\\Users\\\\satya\\\\AppData\\\\Local\\\\Packages\\\\PythonSoftwareFoundation.Python.3.11_qbz5n2kfra8p0\\\\LocalCache\\\\local-packages\\\\Python311\\\\site-packages\\\\matplotlib\\\\mpl-data\\\\fonts\\\\ttf\\\\STIXNonUniBol.ttf', name='STIXNonUnicode', style='normal', variant='normal', weight=700, stretch='normal', size='scalable')) = 10.335\n",
      "2024-03-20 23:17:01,138 : DEBUG : findfont: score(FontEntry(fname='C:\\\\Users\\\\satya\\\\AppData\\\\Local\\\\Packages\\\\PythonSoftwareFoundation.Python.3.11_qbz5n2kfra8p0\\\\LocalCache\\\\local-packages\\\\Python311\\\\site-packages\\\\matplotlib\\\\mpl-data\\\\fonts\\\\ttf\\\\cmsy10.ttf', name='cmsy10', style='normal', variant='normal', weight=400, stretch='normal', size='scalable')) = 10.05\n",
      "2024-03-20 23:17:01,139 : DEBUG : findfont: score(FontEntry(fname='C:\\\\Users\\\\satya\\\\AppData\\\\Local\\\\Packages\\\\PythonSoftwareFoundation.Python.3.11_qbz5n2kfra8p0\\\\LocalCache\\\\local-packages\\\\Python311\\\\site-packages\\\\matplotlib\\\\mpl-data\\\\fonts\\\\ttf\\\\STIXSizTwoSymReg.ttf', name='STIXSizeTwoSym', style='normal', variant='normal', weight=400, stretch='normal', size='scalable')) = 10.05\n",
      "2024-03-20 23:17:01,141 : DEBUG : findfont: score(FontEntry(fname='C:\\\\Users\\\\satya\\\\AppData\\\\Local\\\\Packages\\\\PythonSoftwareFoundation.Python.3.11_qbz5n2kfra8p0\\\\LocalCache\\\\local-packages\\\\Python311\\\\site-packages\\\\matplotlib\\\\mpl-data\\\\fonts\\\\ttf\\\\DejaVuSansMono-Bold.ttf', name='DejaVu Sans Mono', style='normal', variant='normal', weight=700, stretch='normal', size='scalable')) = 10.335\n",
      "2024-03-20 23:17:01,142 : DEBUG : findfont: score(FontEntry(fname='C:\\\\Users\\\\satya\\\\AppData\\\\Local\\\\Packages\\\\PythonSoftwareFoundation.Python.3.11_qbz5n2kfra8p0\\\\LocalCache\\\\local-packages\\\\Python311\\\\site-packages\\\\matplotlib\\\\mpl-data\\\\fonts\\\\ttf\\\\DejaVuSerif.ttf', name='DejaVu Serif', style='normal', variant='normal', weight=400, stretch='normal', size='scalable')) = 10.05\n",
      "2024-03-20 23:17:01,143 : DEBUG : findfont: score(FontEntry(fname='C:\\\\Users\\\\satya\\\\AppData\\\\Local\\\\Packages\\\\PythonSoftwareFoundation.Python.3.11_qbz5n2kfra8p0\\\\LocalCache\\\\local-packages\\\\Python311\\\\site-packages\\\\matplotlib\\\\mpl-data\\\\fonts\\\\ttf\\\\STIXGeneralItalic.ttf', name='STIXGeneral', style='italic', variant='normal', weight=400, stretch='normal', size='scalable')) = 11.05\n",
      "2024-03-20 23:17:01,145 : DEBUG : findfont: score(FontEntry(fname='C:\\\\Users\\\\satya\\\\AppData\\\\Local\\\\Packages\\\\PythonSoftwareFoundation.Python.3.11_qbz5n2kfra8p0\\\\LocalCache\\\\local-packages\\\\Python311\\\\site-packages\\\\matplotlib\\\\mpl-data\\\\fonts\\\\ttf\\\\cmss10.ttf', name='cmss10', style='normal', variant='normal', weight=400, stretch='normal', size='scalable')) = 10.05\n",
      "2024-03-20 23:17:01,147 : DEBUG : findfont: score(FontEntry(fname='C:\\\\Users\\\\satya\\\\AppData\\\\Local\\\\Packages\\\\PythonSoftwareFoundation.Python.3.11_qbz5n2kfra8p0\\\\LocalCache\\\\local-packages\\\\Python311\\\\site-packages\\\\matplotlib\\\\mpl-data\\\\fonts\\\\ttf\\\\cmex10.ttf', name='cmex10', style='normal', variant='normal', weight=400, stretch='normal', size='scalable')) = 10.05\n",
      "2024-03-20 23:17:01,148 : DEBUG : findfont: score(FontEntry(fname='C:\\\\Users\\\\satya\\\\AppData\\\\Local\\\\Packages\\\\PythonSoftwareFoundation.Python.3.11_qbz5n2kfra8p0\\\\LocalCache\\\\local-packages\\\\Python311\\\\site-packages\\\\matplotlib\\\\mpl-data\\\\fonts\\\\ttf\\\\cmb10.ttf', name='cmb10', style='normal', variant='normal', weight=400, stretch='normal', size='scalable')) = 10.05\n",
      "2024-03-20 23:17:01,150 : DEBUG : findfont: score(FontEntry(fname='C:\\\\Users\\\\satya\\\\AppData\\\\Local\\\\Packages\\\\PythonSoftwareFoundation.Python.3.11_qbz5n2kfra8p0\\\\LocalCache\\\\local-packages\\\\Python311\\\\site-packages\\\\matplotlib\\\\mpl-data\\\\fonts\\\\ttf\\\\STIXGeneral.ttf', name='STIXGeneral', style='normal', variant='normal', weight=400, stretch='normal', size='scalable')) = 10.05\n",
      "2024-03-20 23:17:01,152 : DEBUG : findfont: score(FontEntry(fname='C:\\\\Users\\\\satya\\\\AppData\\\\Local\\\\Packages\\\\PythonSoftwareFoundation.Python.3.11_qbz5n2kfra8p0\\\\LocalCache\\\\local-packages\\\\Python311\\\\site-packages\\\\matplotlib\\\\mpl-data\\\\fonts\\\\ttf\\\\DejaVuSans-Bold.ttf', name='DejaVu Sans', style='normal', variant='normal', weight=700, stretch='normal', size='scalable')) = 0.33499999999999996\n",
      "2024-03-20 23:17:01,155 : DEBUG : findfont: score(FontEntry(fname='C:\\\\Users\\\\satya\\\\AppData\\\\Local\\\\Packages\\\\PythonSoftwareFoundation.Python.3.11_qbz5n2kfra8p0\\\\LocalCache\\\\local-packages\\\\Python311\\\\site-packages\\\\matplotlib\\\\mpl-data\\\\fonts\\\\ttf\\\\STIXSizFourSymReg.ttf', name='STIXSizeFourSym', style='normal', variant='normal', weight=400, stretch='normal', size='scalable')) = 10.05\n",
      "2024-03-20 23:17:01,160 : DEBUG : findfont: score(FontEntry(fname='C:\\\\Users\\\\satya\\\\AppData\\\\Local\\\\Packages\\\\PythonSoftwareFoundation.Python.3.11_qbz5n2kfra8p0\\\\LocalCache\\\\local-packages\\\\Python311\\\\site-packages\\\\matplotlib\\\\mpl-data\\\\fonts\\\\ttf\\\\STIXSizOneSymBol.ttf', name='STIXSizeOneSym', style='normal', variant='normal', weight=700, stretch='normal', size='scalable')) = 10.335\n",
      "2024-03-20 23:17:01,163 : DEBUG : findfont: score(FontEntry(fname='C:\\\\Users\\\\satya\\\\AppData\\\\Local\\\\Packages\\\\PythonSoftwareFoundation.Python.3.11_qbz5n2kfra8p0\\\\LocalCache\\\\local-packages\\\\Python311\\\\site-packages\\\\matplotlib\\\\mpl-data\\\\fonts\\\\ttf\\\\STIXSizThreeSymBol.ttf', name='STIXSizeThreeSym', style='normal', variant='normal', weight=700, stretch='normal', size='scalable')) = 10.335\n",
      "2024-03-20 23:17:01,165 : DEBUG : findfont: score(FontEntry(fname='C:\\\\Users\\\\satya\\\\AppData\\\\Local\\\\Packages\\\\PythonSoftwareFoundation.Python.3.11_qbz5n2kfra8p0\\\\LocalCache\\\\local-packages\\\\Python311\\\\site-packages\\\\matplotlib\\\\mpl-data\\\\fonts\\\\ttf\\\\DejaVuSansMono-Oblique.ttf', name='DejaVu Sans Mono', style='oblique', variant='normal', weight=400, stretch='normal', size='scalable')) = 11.05\n",
      "2024-03-20 23:17:01,167 : DEBUG : findfont: score(FontEntry(fname='C:\\\\Users\\\\satya\\\\AppData\\\\Local\\\\Packages\\\\PythonSoftwareFoundation.Python.3.11_qbz5n2kfra8p0\\\\LocalCache\\\\local-packages\\\\Python311\\\\site-packages\\\\matplotlib\\\\mpl-data\\\\fonts\\\\ttf\\\\STIXSizFourSymBol.ttf', name='STIXSizeFourSym', style='normal', variant='normal', weight=700, stretch='normal', size='scalable')) = 10.335\n",
      "2024-03-20 23:17:01,168 : DEBUG : findfont: score(FontEntry(fname='C:\\\\Users\\\\satya\\\\AppData\\\\Local\\\\Packages\\\\PythonSoftwareFoundation.Python.3.11_qbz5n2kfra8p0\\\\LocalCache\\\\local-packages\\\\Python311\\\\site-packages\\\\matplotlib\\\\mpl-data\\\\fonts\\\\ttf\\\\STIXSizTwoSymBol.ttf', name='STIXSizeTwoSym', style='normal', variant='normal', weight=700, stretch='normal', size='scalable')) = 10.335\n",
      "2024-03-20 23:17:01,170 : DEBUG : findfont: score(FontEntry(fname='C:\\\\Users\\\\satya\\\\AppData\\\\Local\\\\Packages\\\\PythonSoftwareFoundation.Python.3.11_qbz5n2kfra8p0\\\\LocalCache\\\\local-packages\\\\Python311\\\\site-packages\\\\matplotlib\\\\mpl-data\\\\fonts\\\\ttf\\\\STIXGeneralBol.ttf', name='STIXGeneral', style='normal', variant='normal', weight=700, stretch='normal', size='scalable')) = 10.335\n",
      "2024-03-20 23:17:01,172 : DEBUG : findfont: score(FontEntry(fname='C:\\\\Windows\\\\Fonts\\\\micross.ttf', name='Microsoft Sans Serif', style='normal', variant='normal', weight=400, stretch='normal', size='scalable')) = 10.05\n",
      "2024-03-20 23:17:01,173 : DEBUG : findfont: score(FontEntry(fname='C:\\\\Windows\\\\Fonts\\\\Artifakt Element Italic.ttf', name='Artifakt Element', style='italic', variant='normal', weight=400, stretch='normal', size='scalable')) = 11.05\n",
      "2024-03-20 23:17:01,176 : DEBUG : findfont: score(FontEntry(fname='C:\\\\Windows\\\\Fonts\\\\l_10646.ttf', name='Lucida Sans Unicode', style='normal', variant='normal', weight=400, stretch='normal', size='scalable')) = 10.05\n",
      "2024-03-20 23:17:01,178 : DEBUG : findfont: score(FontEntry(fname='C:\\\\Windows\\\\Fonts\\\\MISTRAL.TTF', name='Mistral', style='normal', variant='normal', weight=400, stretch='normal', size='scalable')) = 10.05\n",
      "2024-03-20 23:17:01,179 : DEBUG : findfont: score(FontEntry(fname='C:\\\\Windows\\\\Fonts\\\\taileb.ttf', name='Microsoft Tai Le', style='normal', variant='normal', weight=700, stretch='normal', size='scalable')) = 10.335\n",
      "2024-03-20 23:17:01,182 : DEBUG : findfont: score(FontEntry(fname='C:\\\\Windows\\\\Fonts\\\\corbelb.ttf', name='Corbel', style='normal', variant='normal', weight=700, stretch='normal', size='scalable')) = 10.335\n",
      "2024-03-20 23:17:01,186 : DEBUG : findfont: score(FontEntry(fname='C:\\\\Windows\\\\Fonts\\\\ariali.ttf', name='Arial', style='italic', variant='normal', weight=400, stretch='normal', size='scalable')) = 7.413636363636363\n",
      "2024-03-20 23:17:01,187 : DEBUG : findfont: score(FontEntry(fname='C:\\\\Windows\\\\Fonts\\\\DUBAI-LIGHT.TTF', name='Dubai', style='normal', variant='normal', weight=300, stretch='normal', size='scalable')) = 10.145\n",
      "2024-03-20 23:17:01,190 : DEBUG : findfont: score(FontEntry(fname='C:\\\\Windows\\\\Fonts\\\\dutchi.ttf', name='Dutch801 Rm BT', style='italic', variant='normal', weight=400, stretch='normal', size='scalable')) = 11.05\n",
      "2024-03-20 23:17:01,191 : DEBUG : findfont: score(FontEntry(fname='C:\\\\Windows\\\\Fonts\\\\romanc__.ttf', name='RomanC', style='normal', variant='normal', weight=400, stretch='normal', size='scalable')) = 10.05\n",
      "2024-03-20 23:17:01,193 : DEBUG : findfont: score(FontEntry(fname='C:\\\\Windows\\\\Fonts\\\\trebuc.ttf', name='Trebuchet MS', style='normal', variant='normal', weight=400, stretch='normal', size='scalable')) = 10.05\n",
      "2024-03-20 23:17:01,194 : DEBUG : findfont: score(FontEntry(fname='C:\\\\Windows\\\\Fonts\\\\mmrtext.ttf', name='Myanmar Text', style='normal', variant='normal', weight=400, stretch='normal', size='scalable')) = 10.05\n",
      "2024-03-20 23:17:01,196 : DEBUG : findfont: score(FontEntry(fname='C:\\\\Windows\\\\Fonts\\\\seguili.ttf', name='Segoe UI', style='italic', variant='normal', weight=300, stretch='normal', size='scalable')) = 11.145\n",
      "2024-03-20 23:17:01,197 : DEBUG : findfont: score(FontEntry(fname='C:\\\\Windows\\\\Fonts\\\\sanssb__.ttf', name='SansSerif', style='normal', variant='normal', weight=700, stretch='normal', size='scalable')) = 10.335\n",
      "2024-03-20 23:17:01,198 : DEBUG : findfont: score(FontEntry(fname='C:\\\\Windows\\\\Fonts\\\\verdanaz.ttf', name='Verdana', style='italic', variant='normal', weight=700, stretch='normal', size='scalable')) = 4.971363636363637\n",
      "2024-03-20 23:17:01,199 : DEBUG : findfont: score(FontEntry(fname='C:\\\\Windows\\\\Fonts\\\\greeks__.ttf', name='GreekS', style='normal', variant='normal', weight=400, stretch='normal', size='scalable')) = 10.05\n",
      "2024-03-20 23:17:01,201 : DEBUG : findfont: score(FontEntry(fname='C:\\\\Windows\\\\Fonts\\\\consolai.ttf', name='Consolas', style='italic', variant='normal', weight=400, stretch='normal', size='scalable')) = 11.05\n",
      "2024-03-20 23:17:01,202 : DEBUG : findfont: score(FontEntry(fname='C:\\\\Windows\\\\Fonts\\\\GOTHICBI.TTF', name='Century Gothic', style='italic', variant='normal', weight=700, stretch='normal', size='scalable')) = 11.335\n",
      "2024-03-20 23:17:01,204 : DEBUG : findfont: score(FontEntry(fname='C:\\\\Windows\\\\Fonts\\\\georgia.ttf', name='Georgia', style='normal', variant='normal', weight=400, stretch='normal', size='scalable')) = 10.05\n",
      "2024-03-20 23:17:01,205 : DEBUG : findfont: score(FontEntry(fname='C:\\\\Windows\\\\Fonts\\\\ariblk.ttf', name='Arial', style='normal', variant='normal', weight=900, stretch='normal', size='scalable')) = 6.888636363636364\n",
      "2024-03-20 23:17:01,207 : DEBUG : findfont: score(FontEntry(fname='C:\\\\Windows\\\\Fonts\\\\isoct2__.ttf', name='ISOCT2', style='normal', variant='normal', weight=400, stretch='normal', size='scalable')) = 10.05\n",
      "2024-03-20 23:17:01,211 : DEBUG : findfont: score(FontEntry(fname='C:\\\\Windows\\\\Fonts\\\\swissbi.ttf', name='Swis721 BT', style='italic', variant='normal', weight=700, stretch='normal', size='scalable')) = 11.335\n",
      "2024-03-20 23:17:01,213 : DEBUG : findfont: score(FontEntry(fname='C:\\\\Windows\\\\Fonts\\\\LeelawUI.ttf', name='Leelawadee UI', style='normal', variant='normal', weight=400, stretch='normal', size='scalable')) = 10.05\n",
      "2024-03-20 23:17:01,217 : DEBUG : findfont: score(FontEntry(fname='C:\\\\Windows\\\\Fonts\\\\PAPYRUS.TTF', name='Papyrus', style='normal', variant='normal', weight=400, stretch='normal', size='scalable')) = 10.05\n",
      "2024-03-20 23:17:01,221 : DEBUG : findfont: score(FontEntry(fname='C:\\\\Windows\\\\Fonts\\\\segoeui.ttf', name='Segoe UI', style='normal', variant='normal', weight=400, stretch='normal', size='scalable')) = 10.05\n",
      "2024-03-20 23:17:01,223 : DEBUG : findfont: score(FontEntry(fname='C:\\\\Windows\\\\Fonts\\\\swissk.ttf', name='Swis721 Blk BT', style='normal', variant='normal', weight=400, stretch='normal', size='scalable')) = 10.05\n",
      "2024-03-20 23:17:01,224 : DEBUG : findfont: score(FontEntry(fname='C:\\\\Windows\\\\Fonts\\\\romantic.ttf', name='Romantic', style='normal', variant='normal', weight=400, stretch='normal', size='scalable')) = 10.05\n",
      "2024-03-20 23:17:01,225 : DEBUG : findfont: score(FontEntry(fname='C:\\\\Windows\\\\Fonts\\\\WINGDNG2.TTF', name='Wingdings 2', style='normal', variant='normal', weight=400, stretch='normal', size='scalable')) = 10.05\n",
      "2024-03-20 23:17:01,228 : DEBUG : findfont: score(FontEntry(fname='C:\\\\Windows\\\\Fonts\\\\DUBAI-MEDIUM.TTF', name='Dubai', style='normal', variant='normal', weight=500, stretch='normal', size='scalable')) = 10.145\n",
      "2024-03-20 23:17:01,230 : DEBUG : findfont: score(FontEntry(fname='C:\\\\Windows\\\\Fonts\\\\segoesc.ttf', name='Segoe Script', style='normal', variant='normal', weight=400, stretch='normal', size='scalable')) = 10.05\n",
      "2024-03-20 23:17:01,232 : DEBUG : findfont: score(FontEntry(fname='C:\\\\Windows\\\\Fonts\\\\cambriai.ttf', name='Cambria', style='italic', variant='normal', weight=400, stretch='normal', size='scalable')) = 11.05\n",
      "2024-03-20 23:17:01,233 : DEBUG : findfont: score(FontEntry(fname='C:\\\\Windows\\\\Fonts\\\\SitkaVF.ttf', name='Sitka', style='normal', variant='normal', weight=400, stretch='normal', size='scalable')) = 10.05\n",
      "2024-03-20 23:17:01,234 : DEBUG : findfont: score(FontEntry(fname='C:\\\\Windows\\\\Fonts\\\\Artifakt Element Heavy Italic.ttf', name='Artifakt Element', style='italic', variant='normal', weight=900, stretch='normal', size='scalable')) = 11.525\n",
      "2024-03-20 23:17:01,235 : DEBUG : findfont: score(FontEntry(fname='C:\\\\Windows\\\\Fonts\\\\DUBAI-REGULAR.TTF', name='Dubai', style='normal', variant='normal', weight=400, stretch='normal', size='scalable')) = 10.05\n",
      "2024-03-20 23:17:01,236 : DEBUG : findfont: score(FontEntry(fname='C:\\\\Windows\\\\Fonts\\\\Candarai.ttf', name='Candara', style='italic', variant='normal', weight=400, stretch='normal', size='scalable')) = 11.05\n",
      "2024-03-20 23:17:01,238 : DEBUG : findfont: score(FontEntry(fname='C:\\\\Windows\\\\Fonts\\\\ANTQUABI.TTF', name='Book Antiqua', style='italic', variant='normal', weight=700, stretch='normal', size='scalable')) = 11.335\n",
      "2024-03-20 23:17:01,239 : DEBUG : findfont: score(FontEntry(fname='C:\\\\Windows\\\\Fonts\\\\MTEXTRA.TTF', name='MT Extra', style='normal', variant='normal', weight=400, stretch='normal', size='scalable')) = 10.05\n",
      "2024-03-20 23:17:01,240 : DEBUG : findfont: score(FontEntry(fname='C:\\\\Windows\\\\Fonts\\\\LeelaUIb.ttf', name='Leelawadee UI', style='normal', variant='normal', weight=700, stretch='normal', size='scalable')) = 10.335\n",
      "2024-03-20 23:17:01,241 : DEBUG : findfont: score(FontEntry(fname='C:\\\\Windows\\\\Fonts\\\\calibrib.ttf', name='Calibri', style='normal', variant='normal', weight=700, stretch='normal', size='scalable')) = 10.335\n",
      "2024-03-20 23:17:01,245 : DEBUG : findfont: score(FontEntry(fname='C:\\\\Windows\\\\Fonts\\\\consolaz.ttf', name='Consolas', style='italic', variant='normal', weight=700, stretch='normal', size='scalable')) = 11.335\n",
      "2024-03-20 23:17:01,246 : DEBUG : findfont: score(FontEntry(fname='C:\\\\Windows\\\\Fonts\\\\simsunb.ttf', name='SimSun-ExtB', style='normal', variant='normal', weight=400, stretch='normal', size='scalable')) = 10.05\n",
      "2024-03-20 23:17:01,248 : DEBUG : findfont: score(FontEntry(fname='C:\\\\Windows\\\\Fonts\\\\syastro_.ttf', name='Syastro', style='normal', variant='normal', weight=400, stretch='normal', size='scalable')) = 10.05\n",
      "2024-03-20 23:17:01,250 : DEBUG : findfont: score(FontEntry(fname='C:\\\\Windows\\\\Fonts\\\\txt_____.ttf', name='Txt', style='normal', variant='normal', weight=400, stretch='normal', size='scalable')) = 10.05\n",
      "2024-03-20 23:17:01,252 : DEBUG : findfont: score(FontEntry(fname='C:\\\\Windows\\\\Fonts\\\\vinet.ttf', name='Vineta BT', style='normal', variant='normal', weight=400, stretch='normal', size='scalable')) = 10.05\n",
      "2024-03-20 23:17:01,254 : DEBUG : findfont: score(FontEntry(fname='C:\\\\Windows\\\\Fonts\\\\monosb.ttf', name='Monospac821 BT', style='normal', variant='normal', weight=700, stretch='normal', size='scalable')) = 10.335\n",
      "2024-03-20 23:17:01,256 : DEBUG : findfont: score(FontEntry(fname='C:\\\\Windows\\\\Fonts\\\\NirmalaB.ttf', name='Nirmala UI', style='normal', variant='normal', weight=700, stretch='normal', size='scalable')) = 10.335\n",
      "2024-03-20 23:17:01,259 : DEBUG : findfont: score(FontEntry(fname='C:\\\\Windows\\\\Fonts\\\\SegoeIcons.ttf', name='Segoe Fluent Icons', style='normal', variant='normal', weight=400, stretch='normal', size='scalable')) = 10.05\n",
      "2024-03-20 23:17:01,261 : DEBUG : findfont: score(FontEntry(fname='C:\\\\Windows\\\\Fonts\\\\palai.ttf', name='Palatino Linotype', style='italic', variant='normal', weight=400, stretch='normal', size='scalable')) = 11.05\n",
      "2024-03-20 23:17:01,263 : DEBUG : findfont: score(FontEntry(fname='C:\\\\Windows\\\\Fonts\\\\swissck.ttf', name='Swis721 BlkCn BT', style='normal', variant='normal', weight=400, stretch='condensed', size='scalable')) = 10.25\n",
      "2024-03-20 23:17:01,264 : DEBUG : findfont: score(FontEntry(fname='C:\\\\Windows\\\\Fonts\\\\pala.ttf', name='Palatino Linotype', style='normal', variant='normal', weight=400, stretch='normal', size='scalable')) = 10.05\n",
      "2024-03-20 23:17:01,266 : DEBUG : findfont: score(FontEntry(fname='C:\\\\Windows\\\\Fonts\\\\courbi.ttf', name='Courier New', style='italic', variant='normal', weight=700, stretch='normal', size='scalable')) = 11.335\n",
      "2024-03-20 23:17:01,267 : DEBUG : findfont: score(FontEntry(fname='C:\\\\Windows\\\\Fonts\\\\LeelUIsl.ttf', name='Leelawadee UI', style='normal', variant='normal', weight=350, stretch='normal', size='scalable')) = 10.0975\n",
      "2024-03-20 23:17:01,268 : DEBUG : findfont: score(FontEntry(fname='C:\\\\Windows\\\\Fonts\\\\Artifakt Element Book Italic.ttf', name='Artifakt Element', style='italic', variant='normal', weight=450, stretch='normal', size='scalable')) = 11.0975\n",
      "2024-03-20 23:17:01,269 : DEBUG : findfont: score(FontEntry(fname='C:\\\\Windows\\\\Fonts\\\\scriptc_.ttf', name='ScriptC', style='normal', variant='normal', weight=400, stretch='normal', size='scalable')) = 10.05\n",
      "2024-03-20 23:17:01,270 : DEBUG : findfont: score(FontEntry(fname='C:\\\\Windows\\\\Fonts\\\\courbd.ttf', name='Courier New', style='normal', variant='normal', weight=700, stretch='normal', size='scalable')) = 10.335\n",
      "2024-03-20 23:17:01,272 : DEBUG : findfont: score(FontEntry(fname='C:\\\\Windows\\\\Fonts\\\\italic__.ttf', name='Italic', style='italic', variant='normal', weight=400, stretch='normal', size='scalable')) = 11.05\n",
      "2024-03-20 23:17:01,274 : DEBUG : findfont: score(FontEntry(fname='C:\\\\Windows\\\\Fonts\\\\romant__.ttf', name='RomanT', style='normal', variant='normal', weight=400, stretch='normal', size='scalable')) = 10.05\n",
      "2024-03-20 23:17:01,275 : DEBUG : findfont: score(FontEntry(fname='C:\\\\Windows\\\\Fonts\\\\lucon.ttf', name='Lucida Console', style='normal', variant='normal', weight=400, stretch='normal', size='scalable')) = 10.05\n",
      "2024-03-20 23:17:01,277 : DEBUG : findfont: score(FontEntry(fname='C:\\\\Windows\\\\Fonts\\\\romab___.ttf', name='Romantic', style='normal', variant='normal', weight=700, stretch='normal', size='scalable')) = 10.335\n",
      "2024-03-20 23:17:01,278 : DEBUG : findfont: score(FontEntry(fname='C:\\\\Windows\\\\Fonts\\\\seguisbi.ttf', name='Segoe UI', style='italic', variant='normal', weight=600, stretch='normal', size='scalable')) = 11.24\n",
      "2024-03-20 23:17:01,279 : DEBUG : findfont: score(FontEntry(fname='C:\\\\Windows\\\\Fonts\\\\SitkaVF-Italic.ttf', name='Sitka', style='italic', variant='normal', weight=400, stretch='normal', size='scalable')) = 11.05\n",
      "2024-03-20 23:17:01,282 : DEBUG : findfont: score(FontEntry(fname='C:\\\\Windows\\\\Fonts\\\\seguihis.ttf', name='Segoe UI Historic', style='normal', variant='normal', weight=400, stretch='normal', size='scalable')) = 10.05\n",
      "2024-03-20 23:17:01,284 : DEBUG : findfont: score(FontEntry(fname='C:\\\\Windows\\\\Fonts\\\\malgunbd.ttf', name='Malgun Gothic', style='normal', variant='normal', weight=700, stretch='normal', size='scalable')) = 10.335\n",
      "2024-03-20 23:17:01,287 : DEBUG : findfont: score(FontEntry(fname='C:\\\\Windows\\\\Fonts\\\\seguisym.ttf', name='Segoe UI Symbol', style='normal', variant='normal', weight=400, stretch='normal', size='scalable')) = 10.05\n",
      "2024-03-20 23:17:01,290 : DEBUG : findfont: score(FontEntry(fname='C:\\\\Windows\\\\Fonts\\\\Artifakt Element Heavy.ttf', name='Artifakt Element', style='normal', variant='normal', weight=900, stretch='normal', size='scalable')) = 10.525\n",
      "2024-03-20 23:17:01,292 : DEBUG : findfont: score(FontEntry(fname='C:\\\\Windows\\\\Fonts\\\\times.ttf', name='Times New Roman', style='normal', variant='normal', weight=400, stretch='normal', size='scalable')) = 10.05\n",
      "2024-03-20 23:17:01,296 : DEBUG : findfont: score(FontEntry(fname='C:\\\\Windows\\\\Fonts\\\\dutcheb.ttf', name='Dutch801 XBd BT', style='normal', variant='normal', weight=400, stretch='normal', size='scalable')) = 10.05\n",
      "2024-03-20 23:17:01,299 : DEBUG : findfont: score(FontEntry(fname='C:\\\\Windows\\\\Fonts\\\\constani.ttf', name='Constantia', style='italic', variant='normal', weight=400, stretch='normal', size='scalable')) = 11.05\n",
      "2024-03-20 23:17:01,301 : DEBUG : findfont: score(FontEntry(fname='C:\\\\Windows\\\\Fonts\\\\Inkfree.ttf', name='Ink Free', style='normal', variant='normal', weight=400, stretch='normal', size='scalable')) = 10.05\n",
      "2024-03-20 23:17:01,302 : DEBUG : findfont: score(FontEntry(fname='C:\\\\Windows\\\\Fonts\\\\mtproxy6.ttf', name='Proxy 6', style='normal', variant='normal', weight=400, stretch='normal', size='scalable')) = 10.05\n",
      "2024-03-20 23:17:01,303 : DEBUG : findfont: score(FontEntry(fname='C:\\\\Windows\\\\Fonts\\\\mmrtextb.ttf', name='Myanmar Text', style='normal', variant='normal', weight=700, stretch='normal', size='scalable')) = 10.335\n",
      "2024-03-20 23:17:01,304 : DEBUG : findfont: score(FontEntry(fname='C:\\\\Windows\\\\Fonts\\\\segoeuii.ttf', name='Segoe UI', style='italic', variant='normal', weight=400, stretch='normal', size='scalable')) = 11.05\n",
      "2024-03-20 23:17:01,305 : DEBUG : findfont: score(FontEntry(fname='C:\\\\Windows\\\\Fonts\\\\counb___.ttf', name='CountryBlueprint', style='normal', variant='normal', weight=400, stretch='normal', size='scalable')) = 10.05\n",
      "2024-03-20 23:17:01,306 : DEBUG : findfont: score(FontEntry(fname='C:\\\\Windows\\\\Fonts\\\\himalaya.ttf', name='Microsoft Himalaya', style='normal', variant='normal', weight=400, stretch='normal', size='scalable')) = 10.05\n",
      "2024-03-20 23:17:01,307 : DEBUG : findfont: score(FontEntry(fname='C:\\\\Windows\\\\Fonts\\\\YuGothB.ttc', name='Yu Gothic', style='normal', variant='normal', weight=700, stretch='normal', size='scalable')) = 10.335\n",
      "2024-03-20 23:17:01,309 : DEBUG : findfont: score(FontEntry(fname='C:\\\\Windows\\\\Fonts\\\\segoeprb.ttf', name='Segoe Print', style='normal', variant='normal', weight=700, stretch='normal', size='scalable')) = 10.335\n",
      "2024-03-20 23:17:01,310 : DEBUG : findfont: score(FontEntry(fname='C:\\\\Windows\\\\Fonts\\\\gadugi.ttf', name='Gadugi', style='normal', variant='normal', weight=400, stretch='normal', size='scalable')) = 10.05\n",
      "2024-03-20 23:17:01,311 : DEBUG : findfont: score(FontEntry(fname='C:\\\\Windows\\\\Fonts\\\\trebucit.ttf', name='Trebuchet MS', style='italic', variant='normal', weight=400, stretch='normal', size='scalable')) = 11.05\n",
      "2024-03-20 23:17:01,313 : DEBUG : findfont: score(FontEntry(fname='C:\\\\Windows\\\\Fonts\\\\symath__.ttf', name='Symath', style='normal', variant='normal', weight=400, stretch='normal', size='scalable')) = 10.05\n",
      "2024-03-20 23:17:01,314 : DEBUG : findfont: score(FontEntry(fname='C:\\\\Windows\\\\Fonts\\\\mtproxy5.ttf', name='Proxy 5', style='normal', variant='normal', weight=400, stretch='normal', size='scalable')) = 10.05\n",
      "2024-03-20 23:17:01,315 : DEBUG : findfont: score(FontEntry(fname='C:\\\\Windows\\\\Fonts\\\\swiss.ttf', name='Swis721 BT', style='normal', variant='normal', weight=400, stretch='normal', size='scalable')) = 10.05\n",
      "2024-03-20 23:17:01,319 : DEBUG : findfont: score(FontEntry(fname='C:\\\\Windows\\\\Fonts\\\\ebrimabd.ttf', name='Ebrima', style='normal', variant='normal', weight=700, stretch='normal', size='scalable')) = 10.335\n",
      "2024-03-20 23:17:01,320 : DEBUG : findfont: score(FontEntry(fname='C:\\\\Windows\\\\Fonts\\\\mtproxy1.ttf', name='Proxy 1', style='normal', variant='normal', weight=400, stretch='normal', size='scalable')) = 10.05\n",
      "2024-03-20 23:17:01,321 : DEBUG : findfont: score(FontEntry(fname='C:\\\\Windows\\\\Fonts\\\\isocp2__.ttf', name='ISOCP2', style='normal', variant='normal', weight=400, stretch='normal', size='scalable')) = 10.05\n",
      "2024-03-20 23:17:01,322 : DEBUG : findfont: score(FontEntry(fname='C:\\\\Windows\\\\Fonts\\\\LEELAWDB.TTF', name='Leelawadee', style='normal', variant='normal', weight=700, stretch='normal', size='scalable')) = 10.335\n",
      "2024-03-20 23:17:01,324 : DEBUG : findfont: score(FontEntry(fname='C:\\\\Windows\\\\Fonts\\\\tahomabd.ttf', name='Tahoma', style='normal', variant='normal', weight=700, stretch='normal', size='scalable')) = 10.335\n",
      "2024-03-20 23:17:01,325 : DEBUG : findfont: score(FontEntry(fname='C:\\\\Windows\\\\Fonts\\\\BOOKOSB.TTF', name='Bookman Old Style', style='normal', variant='normal', weight=600, stretch='normal', size='scalable')) = 10.24\n",
      "2024-03-20 23:17:01,327 : DEBUG : findfont: score(FontEntry(fname='C:\\\\Windows\\\\Fonts\\\\BOOKOSBI.TTF', name='Bookman Old Style', style='italic', variant='normal', weight=600, stretch='normal', size='scalable')) = 11.24\n",
      "2024-03-20 23:17:01,329 : DEBUG : findfont: score(FontEntry(fname='C:\\\\Windows\\\\Fonts\\\\arial.ttf', name='Arial', style='normal', variant='normal', weight=400, stretch='normal', size='scalable')) = 6.413636363636363\n",
      "2024-03-20 23:17:01,330 : DEBUG : findfont: score(FontEntry(fname='C:\\\\Windows\\\\Fonts\\\\swisscb.ttf', name='Swis721 Cn BT', style='normal', variant='normal', weight=700, stretch='condensed', size='scalable')) = 10.535\n",
      "2024-03-20 23:17:01,331 : DEBUG : findfont: score(FontEntry(fname='C:\\\\Windows\\\\Fonts\\\\bgothl.ttf', name='BankGothic Lt BT', style='normal', variant='normal', weight=400, stretch='normal', size='scalable')) = 10.05\n",
      "2024-03-20 23:17:01,332 : DEBUG : findfont: score(FontEntry(fname='C:\\\\Windows\\\\Fonts\\\\dutch.ttf', name='Dutch801 Rm BT', style='normal', variant='normal', weight=400, stretch='normal', size='scalable')) = 10.05\n",
      "2024-03-20 23:17:01,333 : DEBUG : findfont: score(FontEntry(fname='C:\\\\Windows\\\\Fonts\\\\supef___.ttf', name='SuperFrench', style='normal', variant='normal', weight=400, stretch='normal', size='scalable')) = 10.05\n",
      "2024-03-20 23:17:01,335 : DEBUG : findfont: score(FontEntry(fname='C:\\\\Windows\\\\Fonts\\\\isocp___.ttf', name='ISOCP', style='normal', variant='normal', weight=400, stretch='normal', size='scalable')) = 10.05\n",
      "2024-03-20 23:17:01,336 : DEBUG : findfont: score(FontEntry(fname='C:\\\\Windows\\\\Fonts\\\\consolab.ttf', name='Consolas', style='normal', variant='normal', weight=700, stretch='normal', size='scalable')) = 10.335\n",
      "2024-03-20 23:17:01,339 : DEBUG : findfont: score(FontEntry(fname='C:\\\\Windows\\\\Fonts\\\\mtproxy4.ttf', name='Proxy 4', style='normal', variant='normal', weight=400, stretch='normal', size='scalable')) = 10.05\n",
      "2024-03-20 23:17:01,340 : DEBUG : findfont: score(FontEntry(fname='C:\\\\Windows\\\\Fonts\\\\seguisli.ttf', name='Segoe UI', style='italic', variant='normal', weight=350, stretch='normal', size='scalable')) = 11.0975\n",
      "2024-03-20 23:17:01,342 : DEBUG : findfont: score(FontEntry(fname='C:\\\\Windows\\\\Fonts\\\\cour.ttf', name='Courier New', style='normal', variant='normal', weight=400, stretch='normal', size='scalable')) = 10.05\n",
      "2024-03-20 23:17:01,343 : DEBUG : findfont: score(FontEntry(fname='C:\\\\Windows\\\\Fonts\\\\SansSerifCollection.ttf', name='Sans Serif Collection', style='normal', variant='normal', weight=400, stretch='normal', size='scalable')) = 10.05\n",
      "2024-03-20 23:17:01,345 : DEBUG : findfont: score(FontEntry(fname='C:\\\\Windows\\\\Fonts\\\\swisseb.ttf', name='Swis721 Ex BT', style='normal', variant='normal', weight=700, stretch='expanded', size='scalable')) = 10.535\n",
      "2024-03-20 23:17:01,346 : DEBUG : findfont: score(FontEntry(fname='C:\\\\Windows\\\\Fonts\\\\segoeuib.ttf', name='Segoe UI', style='normal', variant='normal', weight=700, stretch='normal', size='scalable')) = 10.335\n",
      "2024-03-20 23:17:01,347 : DEBUG : findfont: score(FontEntry(fname='C:\\\\Windows\\\\Fonts\\\\CENTURY.TTF', name='Century', style='normal', variant='normal', weight=400, stretch='normal', size='scalable')) = 10.05\n",
      "2024-03-20 23:17:01,348 : DEBUG : findfont: score(FontEntry(fname='C:\\\\Windows\\\\Fonts\\\\monbaiti.ttf', name='Mongolian Baiti', style='normal', variant='normal', weight=400, stretch='normal', size='scalable')) = 10.05\n",
      "2024-03-20 23:17:01,350 : DEBUG : findfont: score(FontEntry(fname='C:\\\\Windows\\\\Fonts\\\\palab.ttf', name='Palatino Linotype', style='normal', variant='normal', weight=700, stretch='normal', size='scalable')) = 10.335\n",
      "2024-03-20 23:17:01,351 : DEBUG : findfont: score(FontEntry(fname='C:\\\\Windows\\\\Fonts\\\\italicc_.ttf', name='ItalicC', style='italic', variant='normal', weight=400, stretch='normal', size='scalable')) = 11.05\n",
      "2024-03-20 23:17:01,352 : DEBUG : findfont: score(FontEntry(fname='C:\\\\Windows\\\\Fonts\\\\msyh.ttc', name='Microsoft YaHei', style='normal', variant='normal', weight=400, stretch='normal', size='scalable')) = 10.05\n",
      "2024-03-20 23:17:01,353 : DEBUG : findfont: score(FontEntry(fname='C:\\\\Windows\\\\Fonts\\\\swissek.ttf', name='Swis721 BlkEx BT', style='normal', variant='normal', weight=400, stretch='expanded', size='scalable')) = 10.25\n",
      "2024-03-20 23:17:01,354 : DEBUG : findfont: score(FontEntry(fname='C:\\\\Windows\\\\Fonts\\\\BKANT.TTF', name='Book Antiqua', style='normal', variant='normal', weight=400, stretch='normal', size='scalable')) = 10.05\n",
      "2024-03-20 23:17:01,356 : DEBUG : findfont: score(FontEntry(fname='C:\\\\Windows\\\\Fonts\\\\msyhl.ttc', name='Microsoft YaHei', style='normal', variant='normal', weight=290, stretch='normal', size='scalable')) = 10.1545\n",
      "2024-03-20 23:17:01,374 : DEBUG : findfont: score(FontEntry(fname='C:\\\\Windows\\\\Fonts\\\\DUBAI-BOLD.TTF', name='Dubai', style='normal', variant='normal', weight=700, stretch='normal', size='scalable')) = 10.335\n",
      "2024-03-20 23:17:01,398 : DEBUG : findfont: score(FontEntry(fname='C:\\\\Windows\\\\Fonts\\\\symbol.ttf', name='Symbol', style='normal', variant='normal', weight=400, stretch='normal', size='scalable')) = 10.05\n",
      "2024-03-20 23:17:01,400 : DEBUG : findfont: score(FontEntry(fname='C:\\\\Windows\\\\Fonts\\\\isocteui.ttf', name='ISOCTEUR', style='italic', variant='normal', weight=400, stretch='normal', size='scalable')) = 11.05\n",
      "2024-03-20 23:17:01,402 : DEBUG : findfont: score(FontEntry(fname='C:\\\\Windows\\\\Fonts\\\\symeteo_.ttf', name='Symeteo', style='normal', variant='normal', weight=400, stretch='normal', size='scalable')) = 10.05\n",
      "2024-03-20 23:17:01,404 : DEBUG : findfont: score(FontEntry(fname='C:\\\\Windows\\\\Fonts\\\\ANTQUAI.TTF', name='Book Antiqua', style='italic', variant='normal', weight=400, stretch='normal', size='scalable')) = 11.05\n",
      "2024-03-20 23:17:01,405 : DEBUG : findfont: score(FontEntry(fname='C:\\\\Windows\\\\Fonts\\\\YuGothM.ttc', name='Yu Gothic', style='normal', variant='normal', weight=500, stretch='normal', size='scalable')) = 10.145\n",
      "2024-03-20 23:17:01,408 : DEBUG : findfont: score(FontEntry(fname='C:\\\\Windows\\\\Fonts\\\\Artifakt Element Thin Italic.ttf', name='Artifakt Element', style='italic', variant='normal', weight=200, stretch='normal', size='scalable')) = 11.24\n",
      "2024-03-20 23:17:01,410 : DEBUG : findfont: score(FontEntry(fname='C:\\\\Windows\\\\Fonts\\\\trebucbd.ttf', name='Trebuchet MS', style='normal', variant='normal', weight=700, stretch='normal', size='scalable')) = 10.335\n",
      "2024-03-20 23:17:01,518 : DEBUG : findfont: score(FontEntry(fname='C:\\\\Windows\\\\Fonts\\\\timesi.ttf', name='Times New Roman', style='italic', variant='normal', weight=400, stretch='normal', size='scalable')) = 11.05\n",
      "2024-03-20 23:17:01,520 : DEBUG : findfont: score(FontEntry(fname='C:\\\\Windows\\\\Fonts\\\\mingliub.ttc', name='MingLiU-ExtB', style='normal', variant='normal', weight=400, stretch='normal', size='scalable')) = 10.05\n",
      "2024-03-20 23:17:01,521 : DEBUG : findfont: score(FontEntry(fname='C:\\\\Windows\\\\Fonts\\\\symusic_.ttf', name='Symusic', style='normal', variant='normal', weight=400, stretch='normal', size='scalable')) = 10.05\n",
      "2024-03-20 23:17:01,523 : DEBUG : findfont: score(FontEntry(fname='C:\\\\Windows\\\\Fonts\\\\georgiaz.ttf', name='Georgia', style='italic', variant='normal', weight=700, stretch='normal', size='scalable')) = 11.335\n",
      "2024-03-20 23:17:01,525 : DEBUG : findfont: score(FontEntry(fname='C:\\\\Windows\\\\Fonts\\\\sanssbo_.ttf', name='SansSerif', style='oblique', variant='normal', weight=700, stretch='normal', size='scalable')) = 11.335\n",
      "2024-03-20 23:17:01,527 : DEBUG : findfont: score(FontEntry(fname='C:\\\\Windows\\\\Fonts\\\\segmdl2.ttf', name='Segoe MDL2 Assets', style='normal', variant='normal', weight=400, stretch='normal', size='scalable')) = 10.05\n",
      "2024-03-20 23:17:01,529 : DEBUG : findfont: score(FontEntry(fname='C:\\\\Windows\\\\Fonts\\\\comsc.ttf', name='CommercialScript BT', style='normal', variant='normal', weight=400, stretch='normal', size='scalable')) = 10.05\n",
      "2024-03-20 23:17:01,530 : DEBUG : findfont: score(FontEntry(fname='C:\\\\Windows\\\\Fonts\\\\MSUIGHUR.TTF', name='Microsoft Uighur', style='normal', variant='normal', weight=400, stretch='normal', size='scalable')) = 10.05\n",
      "2024-03-20 23:17:01,531 : DEBUG : findfont: score(FontEntry(fname='C:\\\\Windows\\\\Fonts\\\\romand__.ttf', name='RomanD', style='normal', variant='normal', weight=400, stretch='normal', size='scalable')) = 10.05\n",
      "2024-03-20 23:17:01,533 : DEBUG : findfont: score(FontEntry(fname='C:\\\\Windows\\\\Fonts\\\\MSUIGHUB.TTF', name='Microsoft Uighur', style='normal', variant='normal', weight=700, stretch='normal', size='scalable')) = 10.335\n",
      "2024-03-20 23:17:01,534 : DEBUG : findfont: score(FontEntry(fname='C:\\\\Windows\\\\Fonts\\\\msjh.ttc', name='Microsoft JhengHei', style='normal', variant='normal', weight=400, stretch='normal', size='scalable')) = 10.05\n",
      "2024-03-20 23:17:01,538 : DEBUG : findfont: score(FontEntry(fname='C:\\\\Windows\\\\Fonts\\\\corbel.ttf', name='Corbel', style='normal', variant='normal', weight=400, stretch='normal', size='scalable')) = 10.05\n",
      "2024-03-20 23:17:01,540 : DEBUG : findfont: score(FontEntry(fname='C:\\\\Windows\\\\Fonts\\\\verdanab.ttf', name='Verdana', style='normal', variant='normal', weight=700, stretch='normal', size='scalable')) = 3.9713636363636367\n",
      "2024-03-20 23:17:01,542 : DEBUG : findfont: score(FontEntry(fname='C:\\\\Windows\\\\Fonts\\\\georgiai.ttf', name='Georgia', style='italic', variant='normal', weight=400, stretch='normal', size='scalable')) = 11.05\n",
      "2024-03-20 23:17:01,545 : DEBUG : findfont: score(FontEntry(fname='C:\\\\Windows\\\\Fonts\\\\trebucbi.ttf', name='Trebuchet MS', style='italic', variant='normal', weight=700, stretch='normal', size='scalable')) = 11.335\n",
      "2024-03-20 23:17:01,546 : DEBUG : findfont: score(FontEntry(fname='C:\\\\Windows\\\\Fonts\\\\LEELAWAD.TTF', name='Leelawadee', style='normal', variant='normal', weight=400, stretch='normal', size='scalable')) = 10.05\n",
      "2024-03-20 23:17:01,547 : DEBUG : findfont: score(FontEntry(fname='C:\\\\Windows\\\\Fonts\\\\swisscki.ttf', name='Swis721 BlkCn BT', style='italic', variant='normal', weight=400, stretch='condensed', size='scalable')) = 11.25\n",
      "2024-03-20 23:17:01,549 : DEBUG : findfont: score(FontEntry(fname='C:\\\\Windows\\\\Fonts\\\\segoeuiz.ttf', name='Segoe UI', style='italic', variant='normal', weight=700, stretch='normal', size='scalable')) = 11.335\n",
      "2024-03-20 23:17:01,550 : DEBUG : findfont: score(FontEntry(fname='C:\\\\Windows\\\\Fonts\\\\seguiemj.ttf', name='Segoe UI Emoji', style='normal', variant='normal', weight=400, stretch='normal', size='scalable')) = 10.05\n",
      "2024-03-20 23:17:01,551 : DEBUG : findfont: score(FontEntry(fname='C:\\\\Windows\\\\Fonts\\\\cambriaz.ttf', name='Cambria', style='italic', variant='normal', weight=700, stretch='normal', size='scalable')) = 11.335\n",
      "2024-03-20 23:17:01,552 : DEBUG : findfont: score(FontEntry(fname='C:\\\\Windows\\\\Fonts\\\\GOTHICB.TTF', name='Century Gothic', style='normal', variant='normal', weight=700, stretch='normal', size='scalable')) = 10.335\n",
      "2024-03-20 23:17:01,557 : DEBUG : findfont: score(FontEntry(fname='C:\\\\Windows\\\\Fonts\\\\comicz.ttf', name='Comic Sans MS', style='italic', variant='normal', weight=700, stretch='normal', size='scalable')) = 11.335\n",
      "2024-03-20 23:17:01,559 : DEBUG : findfont: score(FontEntry(fname='C:\\\\Windows\\\\Fonts\\\\eurr____.ttf', name='EuroRoman', style='normal', variant='normal', weight=400, stretch='normal', size='scalable')) = 10.05\n",
      "2024-03-20 23:17:01,561 : DEBUG : findfont: score(FontEntry(fname='C:\\\\Windows\\\\Fonts\\\\Candarali.ttf', name='Candara', style='italic', variant='normal', weight=400, stretch='normal', size='scalable')) = 11.05\n",
      "2024-03-20 23:17:01,564 : DEBUG : findfont: score(FontEntry(fname='C:\\\\Windows\\\\Fonts\\\\BOOKOSI.TTF', name='Bookman Old Style', style='italic', variant='normal', weight=300, stretch='normal', size='scalable')) = 11.145\n",
      "2024-03-20 23:17:01,566 : DEBUG : findfont: score(FontEntry(fname='C:\\\\Windows\\\\Fonts\\\\isoct3__.ttf', name='ISOCT3', style='normal', variant='normal', weight=400, stretch='normal', size='scalable')) = 10.05\n",
      "2024-03-20 23:17:01,568 : DEBUG : findfont: score(FontEntry(fname='C:\\\\Windows\\\\Fonts\\\\ebrima.ttf', name='Ebrima', style='normal', variant='normal', weight=400, stretch='normal', size='scalable')) = 10.05\n",
      "2024-03-20 23:17:01,569 : DEBUG : findfont: score(FontEntry(fname='C:\\\\Windows\\\\Fonts\\\\gothici_.ttf', name='GothicI', style='normal', variant='normal', weight=400, stretch='normal', size='scalable')) = 10.05\n",
      "2024-03-20 23:17:01,575 : DEBUG : findfont: score(FontEntry(fname='C:\\\\Windows\\\\Fonts\\\\malgun.ttf', name='Malgun Gothic', style='normal', variant='normal', weight=400, stretch='normal', size='scalable')) = 10.05\n",
      "2024-03-20 23:17:01,578 : DEBUG : findfont: score(FontEntry(fname='C:\\\\Windows\\\\Fonts\\\\segoeuil.ttf', name='Segoe UI', style='normal', variant='normal', weight=300, stretch='normal', size='scalable')) = 10.145\n",
      "2024-03-20 23:17:01,579 : DEBUG : findfont: score(FontEntry(fname='C:\\\\Windows\\\\Fonts\\\\ntailub.ttf', name='Microsoft New Tai Lue', style='normal', variant='normal', weight=700, stretch='normal', size='scalable')) = 10.335\n",
      "2024-03-20 23:17:01,580 : DEBUG : findfont: score(FontEntry(fname='C:\\\\Windows\\\\Fonts\\\\romans__.ttf', name='RomanS', style='normal', variant='normal', weight=400, stretch='normal', size='scalable')) = 10.05\n",
      "2024-03-20 23:17:01,581 : DEBUG : findfont: score(FontEntry(fname='C:\\\\Windows\\\\Fonts\\\\arialbi.ttf', name='Arial', style='italic', variant='normal', weight=700, stretch='normal', size='scalable')) = 7.698636363636363\n",
      "2024-03-20 23:17:01,583 : DEBUG : findfont: score(FontEntry(fname='C:\\\\Windows\\\\Fonts\\\\CascadiaCode.ttf', name='Cascadia Code', style='normal', variant='normal', weight=400, stretch='normal', size='scalable')) = 10.05\n",
      "2024-03-20 23:17:01,584 : DEBUG : findfont: score(FontEntry(fname='C:\\\\Windows\\\\Fonts\\\\Artifakt Element Regular.ttf', name='Artifakt Element', style='normal', variant='normal', weight=400, stretch='normal', size='scalable')) = 10.05\n",
      "2024-03-20 23:17:01,585 : DEBUG : findfont: score(FontEntry(fname='C:\\\\Windows\\\\Fonts\\\\swisscl.ttf', name='Swis721 LtCn BT', style='normal', variant='normal', weight=400, stretch='condensed', size='scalable')) = 10.25\n",
      "2024-03-20 23:17:01,586 : DEBUG : findfont: score(FontEntry(fname='C:\\\\Windows\\\\Fonts\\\\AIGDT___.TTF', name='AIGDT', style='normal', variant='normal', weight=400, stretch='normal', size='scalable')) = 10.05\n",
      "2024-03-20 23:17:01,587 : DEBUG : findfont: score(FontEntry(fname='C:\\\\Windows\\\\Fonts\\\\ANTQUAB.TTF', name='Book Antiqua', style='normal', variant='normal', weight=700, stretch='normal', size='scalable')) = 10.335\n",
      "2024-03-20 23:17:01,588 : DEBUG : findfont: score(FontEntry(fname='C:\\\\Windows\\\\Fonts\\\\BOOKOS.TTF', name='Bookman Old Style', style='normal', variant='normal', weight=300, stretch='normal', size='scalable')) = 10.145\n",
      "2024-03-20 23:17:01,590 : DEBUG : findfont: score(FontEntry(fname='C:\\\\Windows\\\\Fonts\\\\mvboli.ttf', name='MV Boli', style='normal', variant='normal', weight=400, stretch='normal', size='scalable')) = 10.05\n",
      "2024-03-20 23:17:01,591 : DEBUG : findfont: score(FontEntry(fname='C:\\\\Windows\\\\Fonts\\\\seguisb.ttf', name='Segoe UI', style='normal', variant='normal', weight=600, stretch='normal', size='scalable')) = 10.24\n",
      "2024-03-20 23:17:01,592 : DEBUG : findfont: score(FontEntry(fname='C:\\\\Windows\\\\Fonts\\\\ARIALNBI.TTF', name='Arial', style='italic', variant='normal', weight=700, stretch='condensed', size='scalable')) = 7.8986363636363635\n",
      "2024-03-20 23:17:01,593 : DEBUG : findfont: score(FontEntry(fname='C:\\\\Windows\\\\Fonts\\\\Artifakt Element Medium.ttf', name='Artifakt Element', style='normal', variant='normal', weight=600, stretch='normal', size='scalable')) = 10.24\n",
      "2024-03-20 23:17:01,595 : DEBUG : findfont: score(FontEntry(fname='C:\\\\Windows\\\\Fonts\\\\FRSCRIPT.TTF', name='French Script MT', style='normal', variant='normal', weight=400, stretch='normal', size='scalable')) = 10.05\n",
      "2024-03-20 23:17:01,596 : DEBUG : findfont: score(FontEntry(fname='C:\\\\Windows\\\\Fonts\\\\LHANDW.TTF', name='Lucida Handwriting', style='italic', variant='normal', weight=400, stretch='normal', size='scalable')) = 11.05\n",
      "2024-03-20 23:17:01,597 : DEBUG : findfont: score(FontEntry(fname='C:\\\\Windows\\\\Fonts\\\\calibri.ttf', name='Calibri', style='normal', variant='normal', weight=400, stretch='normal', size='scalable')) = 10.05\n",
      "2024-03-20 23:17:01,599 : DEBUG : findfont: score(FontEntry(fname='C:\\\\Windows\\\\Fonts\\\\Artifakt Element Light Italic.ttf', name='Artifakt Element', style='italic', variant='normal', weight=300, stretch='normal', size='scalable')) = 11.145\n",
      "2024-03-20 23:17:01,600 : DEBUG : findfont: score(FontEntry(fname='C:\\\\Windows\\\\Fonts\\\\gothice_.ttf', name='GothicE', style='normal', variant='normal', weight=400, stretch='normal', size='scalable')) = 10.05\n",
      "2024-03-20 23:17:01,601 : DEBUG : findfont: score(FontEntry(fname='C:\\\\Windows\\\\Fonts\\\\monos.ttf', name='Monospac821 BT', style='normal', variant='normal', weight=400, stretch='normal', size='scalable')) = 10.05\n",
      "2024-03-20 23:17:01,603 : DEBUG : findfont: score(FontEntry(fname='C:\\\\Windows\\\\Fonts\\\\framd.ttf', name='Franklin Gothic Medium', style='normal', variant='normal', weight=400, stretch='normal', size='scalable')) = 10.05\n",
      "2024-03-20 23:17:01,605 : DEBUG : findfont: score(FontEntry(fname='C:\\\\Windows\\\\Fonts\\\\umath.ttf', name='UniversalMath1 BT', style='normal', variant='normal', weight=400, stretch='normal', size='scalable')) = 10.05\n",
      "2024-03-20 23:17:01,607 : DEBUG : findfont: score(FontEntry(fname='C:\\\\Windows\\\\Fonts\\\\swissci.ttf', name='Swis721 Cn BT', style='italic', variant='normal', weight=400, stretch='condensed', size='scalable')) = 11.25\n",
      "2024-03-20 23:17:01,609 : DEBUG : findfont: score(FontEntry(fname='C:\\\\Windows\\\\Fonts\\\\msjhbd.ttc', name='Microsoft JhengHei', style='normal', variant='normal', weight=700, stretch='normal', size='scalable')) = 10.335\n",
      "2024-03-20 23:17:01,612 : DEBUG : findfont: score(FontEntry(fname='C:\\\\Windows\\\\Fonts\\\\complex_.ttf', name='Complex', style='normal', variant='normal', weight=400, stretch='normal', size='scalable')) = 10.05\n",
      "2024-03-20 23:17:01,615 : DEBUG : findfont: score(FontEntry(fname='C:\\\\Windows\\\\Fonts\\\\mtproxy3.ttf', name='Proxy 3', style='normal', variant='normal', weight=400, stretch='normal', size='scalable')) = 10.05\n",
      "2024-03-20 23:17:01,616 : DEBUG : findfont: score(FontEntry(fname='C:\\\\Windows\\\\Fonts\\\\swissli.ttf', name='Swis721 Lt BT', style='italic', variant='normal', weight=400, stretch='normal', size='scalable')) = 11.05\n",
      "2024-03-20 23:17:01,617 : DEBUG : findfont: score(FontEntry(fname='C:\\\\Windows\\\\Fonts\\\\calibrii.ttf', name='Calibri', style='italic', variant='normal', weight=400, stretch='normal', size='scalable')) = 11.05\n",
      "2024-03-20 23:17:01,618 : DEBUG : findfont: score(FontEntry(fname='C:\\\\Windows\\\\Fonts\\\\Artifakt Element Hair Italic.ttf', name='Artifakt Element', style='italic', variant='normal', weight=100, stretch='normal', size='scalable')) = 11.335\n",
      "2024-03-20 23:17:01,622 : DEBUG : findfont: score(FontEntry(fname='C:\\\\Windows\\\\Fonts\\\\corbelz.ttf', name='Corbel', style='italic', variant='normal', weight=700, stretch='normal', size='scalable')) = 11.335\n",
      "2024-03-20 23:17:01,623 : DEBUG : findfont: score(FontEntry(fname='C:\\\\Windows\\\\Fonts\\\\Artifakt Element Bold Italic.ttf', name='Artifakt Element', style='italic', variant='normal', weight=700, stretch='normal', size='scalable')) = 11.335\n",
      "2024-03-20 23:17:01,624 : DEBUG : findfont: score(FontEntry(fname='C:\\\\Windows\\\\Fonts\\\\monotxt_.ttf', name='Monotxt', style='normal', variant='normal', weight=400, stretch='normal', size='scalable')) = 10.05\n",
      "2024-03-20 23:17:01,629 : DEBUG : findfont: score(FontEntry(fname='C:\\\\Windows\\\\Fonts\\\\REFSPCL.TTF', name='MS Reference Specialty', style='normal', variant='normal', weight=400, stretch='normal', size='scalable')) = 10.05\n",
      "2024-03-20 23:17:01,632 : DEBUG : findfont: score(FontEntry(fname='C:\\\\Windows\\\\Fonts\\\\MTCORSVA.TTF', name='Monotype Corsiva', style='normal', variant='normal', weight=400, stretch='normal', size='scalable')) = 10.05\n",
      "2024-03-20 23:17:01,633 : DEBUG : findfont: score(FontEntry(fname='C:\\\\Windows\\\\Fonts\\\\REFSAN.TTF', name='MS Reference Sans Serif', style='normal', variant='normal', weight=400, stretch='normal', size='scalable')) = 10.05\n",
      "2024-03-20 23:17:01,635 : DEBUG : findfont: score(FontEntry(fname='C:\\\\Windows\\\\Fonts\\\\phagspa.ttf', name='Microsoft PhagsPa', style='normal', variant='normal', weight=400, stretch='normal', size='scalable')) = 10.05\n",
      "2024-03-20 23:17:01,638 : DEBUG : findfont: score(FontEntry(fname='C:\\\\Windows\\\\Fonts\\\\isocpeur.ttf', name='ISOCPEUR', style='normal', variant='normal', weight=400, stretch='normal', size='scalable')) = 10.05\n",
      "2024-03-20 23:17:01,639 : DEBUG : findfont: score(FontEntry(fname='C:\\\\Windows\\\\Fonts\\\\stylu.ttf', name='Stylus BT', style='normal', variant='normal', weight=300, stretch='normal', size='scalable')) = 10.145\n",
      "2024-03-20 23:17:01,641 : DEBUG : findfont: score(FontEntry(fname='C:\\\\Windows\\\\Fonts\\\\tahoma.ttf', name='Tahoma', style='normal', variant='normal', weight=400, stretch='normal', size='scalable')) = 10.05\n",
      "2024-03-20 23:17:01,643 : DEBUG : findfont: score(FontEntry(fname='C:\\\\Windows\\\\Fonts\\\\BSSYM7.TTF', name='Bookshelf Symbol 7', style='normal', variant='normal', weight=400, stretch='normal', size='scalable')) = 10.05\n",
      "2024-03-20 23:17:01,644 : DEBUG : findfont: score(FontEntry(fname='C:\\\\Windows\\\\Fonts\\\\isoct___.ttf', name='ISOCT', style='normal', variant='normal', weight=400, stretch='normal', size='scalable')) = 10.05\n",
      "2024-03-20 23:17:01,646 : DEBUG : findfont: score(FontEntry(fname='C:\\\\Windows\\\\Fonts\\\\swisscli.ttf', name='Swis721 LtCn BT', style='italic', variant='normal', weight=400, stretch='condensed', size='scalable')) = 11.25\n",
      "2024-03-20 23:17:01,650 : DEBUG : findfont: score(FontEntry(fname='C:\\\\Windows\\\\Fonts\\\\Candaraz.ttf', name='Candara', style='italic', variant='normal', weight=700, stretch='normal', size='scalable')) = 11.335\n",
      "2024-03-20 23:17:01,651 : DEBUG : findfont: score(FontEntry(fname='C:\\\\Windows\\\\Fonts\\\\isocpeui.ttf', name='ISOCPEUR', style='italic', variant='normal', weight=400, stretch='normal', size='scalable')) = 11.05\n",
      "2024-03-20 23:17:01,652 : DEBUG : findfont: score(FontEntry(fname='C:\\\\Windows\\\\Fonts\\\\comici.ttf', name='Comic Sans MS', style='italic', variant='normal', weight=400, stretch='normal', size='scalable')) = 11.05\n",
      "2024-03-20 23:17:01,653 : DEBUG : findfont: score(FontEntry(fname='C:\\\\Windows\\\\Fonts\\\\techb___.ttf', name='TechnicBold', style='normal', variant='normal', weight=400, stretch='normal', size='scalable')) = 10.05\n",
      "2024-03-20 23:17:01,657 : DEBUG : findfont: score(FontEntry(fname='C:\\\\Windows\\\\Fonts\\\\bahnschrift.ttf', name='Bahnschrift', style='normal', variant='normal', weight=400, stretch='normal', size='scalable')) = 10.05\n",
      "2024-03-20 23:17:01,660 : DEBUG : findfont: score(FontEntry(fname='C:\\\\Windows\\\\Fonts\\\\verdanai.ttf', name='Verdana', style='italic', variant='normal', weight=400, stretch='normal', size='scalable')) = 4.6863636363636365\n",
      "2024-03-20 23:17:01,662 : DEBUG : findfont: score(FontEntry(fname='C:\\\\Windows\\\\Fonts\\\\swissko.ttf', name='Swis721 BlkOul BT', style='normal', variant='normal', weight=400, stretch='normal', size='scalable')) = 10.05\n",
      "2024-03-20 23:17:01,663 : DEBUG : findfont: score(FontEntry(fname='C:\\\\Windows\\\\Fonts\\\\dutchb.ttf', name='Dutch801 Rm BT', style='normal', variant='normal', weight=700, stretch='normal', size='scalable')) = 10.335\n",
      "2024-03-20 23:17:01,665 : DEBUG : findfont: score(FontEntry(fname='C:\\\\Windows\\\\Fonts\\\\calibrili.ttf', name='Calibri', style='italic', variant='normal', weight=300, stretch='normal', size='scalable')) = 11.145\n",
      "2024-03-20 23:17:01,666 : DEBUG : findfont: score(FontEntry(fname='C:\\\\Windows\\\\Fonts\\\\ARIALN.TTF', name='Arial', style='normal', variant='normal', weight=400, stretch='condensed', size='scalable')) = 6.613636363636363\n",
      "2024-03-20 23:17:01,667 : DEBUG : findfont: score(FontEntry(fname='C:\\\\Windows\\\\Fonts\\\\NirmalaS.ttf', name='Nirmala UI', style='normal', variant='normal', weight=350, stretch='normal', size='scalable')) = 10.0975\n",
      "2024-03-20 23:17:01,668 : DEBUG : findfont: score(FontEntry(fname='C:\\\\Windows\\\\Fonts\\\\msjhl.ttc', name='Microsoft JhengHei', style='normal', variant='normal', weight=290, stretch='normal', size='scalable')) = 10.1545\n",
      "2024-03-20 23:17:01,670 : DEBUG : findfont: score(FontEntry(fname='C:\\\\Windows\\\\Fonts\\\\ARIALNB.TTF', name='Arial', style='normal', variant='normal', weight=700, stretch='condensed', size='scalable')) = 6.8986363636363635\n",
      "2024-03-20 23:17:01,671 : DEBUG : findfont: score(FontEntry(fname='C:\\\\Windows\\\\Fonts\\\\GARAIT.TTF', name='Garamond', style='italic', variant='normal', weight=400, stretch='normal', size='scalable')) = 11.05\n",
      "2024-03-20 23:17:01,672 : DEBUG : findfont: score(FontEntry(fname='C:\\\\Windows\\\\Fonts\\\\AcadEref.ttf', name='AcadEref', style='normal', variant='normal', weight=400, stretch='normal', size='scalable')) = 10.05\n",
      "2024-03-20 23:17:01,674 : DEBUG : findfont: score(FontEntry(fname='C:\\\\Windows\\\\Fonts\\\\corbell.ttf', name='Corbel', style='normal', variant='normal', weight=300, stretch='normal', size='scalable')) = 10.145\n",
      "2024-03-20 23:17:01,675 : DEBUG : findfont: score(FontEntry(fname='C:\\\\Windows\\\\Fonts\\\\Candaral.ttf', name='Candara', style='normal', variant='normal', weight=400, stretch='normal', size='scalable')) = 10.05\n",
      "2024-03-20 23:17:01,676 : DEBUG : findfont: score(FontEntry(fname='C:\\\\Windows\\\\Fonts\\\\ITCKRIST.TTF', name='Kristen ITC', style='normal', variant='normal', weight=400, stretch='normal', size='scalable')) = 10.05\n",
      "2024-03-20 23:17:01,678 : DEBUG : findfont: score(FontEntry(fname='C:\\\\Windows\\\\Fonts\\\\gdt_____.ttf', name='GDT', style='normal', variant='normal', weight=400, stretch='normal', size='scalable')) = 10.05\n",
      "2024-03-20 23:17:01,682 : DEBUG : findfont: score(FontEntry(fname='C:\\\\Windows\\\\Fonts\\\\cityb___.ttf', name='CityBlueprint', style='normal', variant='normal', weight=400, stretch='normal', size='scalable')) = 10.05\n",
      "2024-03-20 23:17:01,684 : DEBUG : findfont: score(FontEntry(fname='C:\\\\Windows\\\\Fonts\\\\mtproxy2.ttf', name='Proxy 2', style='normal', variant='normal', weight=400, stretch='normal', size='scalable')) = 10.05\n",
      "2024-03-20 23:17:01,686 : DEBUG : findfont: score(FontEntry(fname='C:\\\\Windows\\\\Fonts\\\\symap___.ttf', name='Symap', style='normal', variant='normal', weight=400, stretch='normal', size='scalable')) = 10.05\n",
      "2024-03-20 23:17:01,687 : DEBUG : findfont: score(FontEntry(fname='C:\\\\Windows\\\\Fonts\\\\YuGothR.ttc', name='Yu Gothic', style='normal', variant='normal', weight=400, stretch='normal', size='scalable')) = 10.05\n",
      "2024-03-20 23:17:01,689 : DEBUG : findfont: score(FontEntry(fname='C:\\\\Windows\\\\Fonts\\\\comic.ttf', name='Comic Sans MS', style='normal', variant='normal', weight=400, stretch='normal', size='scalable')) = 10.05\n",
      "2024-03-20 23:17:01,690 : DEBUG : findfont: score(FontEntry(fname='C:\\\\Windows\\\\Fonts\\\\constanb.ttf', name='Constantia', style='normal', variant='normal', weight=700, stretch='normal', size='scalable')) = 10.335\n",
      "2024-03-20 23:17:01,691 : DEBUG : findfont: score(FontEntry(fname='C:\\\\Windows\\\\Fonts\\\\phagspab.ttf', name='Microsoft PhagsPa', style='normal', variant='normal', weight=700, stretch='normal', size='scalable')) = 10.335\n",
      "2024-03-20 23:17:01,694 : DEBUG : findfont: score(FontEntry(fname='C:\\\\Windows\\\\Fonts\\\\timesbi.ttf', name='Times New Roman', style='italic', variant='normal', weight=700, stretch='normal', size='scalable')) = 11.335\n",
      "2024-03-20 23:17:01,695 : DEBUG : findfont: score(FontEntry(fname='C:\\\\Windows\\\\Fonts\\\\gothicg_.ttf', name='GothicG', style='normal', variant='normal', weight=400, stretch='normal', size='scalable')) = 10.05\n",
      "2024-03-20 23:17:01,697 : DEBUG : findfont: score(FontEntry(fname='C:\\\\Windows\\\\Fonts\\\\couri.ttf', name='Courier New', style='italic', variant='normal', weight=400, stretch='normal', size='scalable')) = 11.05\n",
      "2024-03-20 23:17:01,698 : DEBUG : findfont: score(FontEntry(fname='C:\\\\Windows\\\\Fonts\\\\swisski.ttf', name='Swis721 Blk BT', style='italic', variant='normal', weight=400, stretch='normal', size='scalable')) = 11.05\n",
      "2024-03-20 23:17:01,699 : DEBUG : findfont: score(FontEntry(fname='C:\\\\Windows\\\\Fonts\\\\monosi.ttf', name='Monospac821 BT', style='italic', variant='normal', weight=400, stretch='normal', size='scalable')) = 11.05\n",
      "2024-03-20 23:17:01,702 : DEBUG : findfont: score(FontEntry(fname='C:\\\\Windows\\\\Fonts\\\\holomdl2.ttf', name='HoloLens MDL2 Assets', style='normal', variant='normal', weight=400, stretch='normal', size='scalable')) = 10.05\n",
      "2024-03-20 23:17:01,704 : DEBUG : findfont: score(FontEntry(fname='C:\\\\Windows\\\\Fonts\\\\WINGDNG3.TTF', name='Wingdings 3', style='normal', variant='normal', weight=400, stretch='normal', size='scalable')) = 10.05\n",
      "2024-03-20 23:17:01,705 : DEBUG : findfont: score(FontEntry(fname='C:\\\\Windows\\\\Fonts\\\\ARIALNI.TTF', name='Arial', style='italic', variant='normal', weight=400, stretch='condensed', size='scalable')) = 7.613636363636363\n",
      "2024-03-20 23:17:01,708 : DEBUG : findfont: score(FontEntry(fname='C:\\\\Windows\\\\Fonts\\\\TEMPSITC.TTF', name='Tempus Sans ITC', style='normal', variant='normal', weight=400, stretch='normal', size='scalable')) = 10.05\n",
      "2024-03-20 23:17:01,709 : DEBUG : findfont: score(FontEntry(fname='C:\\\\Windows\\\\Fonts\\\\sylfaen.ttf', name='Sylfaen', style='normal', variant='normal', weight=400, stretch='normal', size='scalable')) = 10.05\n",
      "2024-03-20 23:17:01,711 : DEBUG : findfont: score(FontEntry(fname='C:\\\\Windows\\\\Fonts\\\\dutchbi.ttf', name='Dutch801 Rm BT', style='italic', variant='normal', weight=700, stretch='normal', size='scalable')) = 11.335\n",
      "2024-03-20 23:17:01,712 : DEBUG : findfont: score(FontEntry(fname='C:\\\\Windows\\\\Fonts\\\\msyi.ttf', name='Microsoft Yi Baiti', style='normal', variant='normal', weight=400, stretch='normal', size='scalable')) = 10.05\n",
      "2024-03-20 23:17:01,714 : DEBUG : findfont: score(FontEntry(fname='C:\\\\Windows\\\\Fonts\\\\technic_.ttf', name='Technic', style='normal', variant='normal', weight=400, stretch='normal', size='scalable')) = 10.05\n",
      "2024-03-20 23:17:01,716 : DEBUG : findfont: score(FontEntry(fname='C:\\\\Windows\\\\Fonts\\\\ntailu.ttf', name='Microsoft New Tai Lue', style='normal', variant='normal', weight=400, stretch='normal', size='scalable')) = 10.05\n",
      "2024-03-20 23:17:01,717 : DEBUG : findfont: score(FontEntry(fname='C:\\\\Windows\\\\Fonts\\\\Gabriola.ttf', name='Gabriola', style='normal', variant='normal', weight=400, stretch='normal', size='scalable')) = 10.05\n",
      "2024-03-20 23:17:01,719 : DEBUG : findfont: score(FontEntry(fname='C:\\\\Windows\\\\Fonts\\\\Candarab.ttf', name='Candara', style='normal', variant='normal', weight=700, stretch='normal', size='scalable')) = 10.335\n",
      "2024-03-20 23:17:01,721 : DEBUG : findfont: score(FontEntry(fname='C:\\\\Windows\\\\Fonts\\\\swisscbo.ttf', name='Swis721 BdCnOul BT', style='normal', variant='normal', weight=400, stretch='condensed', size='scalable')) = 10.25\n",
      "2024-03-20 23:17:01,723 : DEBUG : findfont: score(FontEntry(fname='C:\\\\Windows\\\\Fonts\\\\scripts_.ttf', name='ScriptS', style='normal', variant='normal', weight=400, stretch='normal', size='scalable')) = 10.05\n",
      "2024-03-20 23:17:01,724 : DEBUG : findfont: score(FontEntry(fname='C:\\\\Windows\\\\Fonts\\\\msyhbd.ttc', name='Microsoft YaHei', style='normal', variant='normal', weight=700, stretch='normal', size='scalable')) = 10.335\n",
      "2024-03-20 23:17:01,726 : DEBUG : findfont: score(FontEntry(fname='C:\\\\Windows\\\\Fonts\\\\palabi.ttf', name='Palatino Linotype', style='italic', variant='normal', weight=700, stretch='normal', size='scalable')) = 11.335\n",
      "2024-03-20 23:17:01,728 : DEBUG : findfont: score(FontEntry(fname='C:\\\\Windows\\\\Fonts\\\\msgothic.ttc', name='MS Gothic', style='normal', variant='normal', weight=400, stretch='normal', size='scalable')) = 10.05\n",
      "2024-03-20 23:17:01,729 : DEBUG : findfont: score(FontEntry(fname='C:\\\\Windows\\\\Fonts\\\\corbeli.ttf', name='Corbel', style='italic', variant='normal', weight=400, stretch='normal', size='scalable')) = 11.05\n",
      "2024-03-20 23:17:01,730 : DEBUG : findfont: score(FontEntry(fname='C:\\\\Windows\\\\Fonts\\\\sansso__.ttf', name='SansSerif', style='oblique', variant='normal', weight=400, stretch='normal', size='scalable')) = 11.05\n",
      "2024-03-20 23:17:01,731 : DEBUG : findfont: score(FontEntry(fname='C:\\\\Windows\\\\Fonts\\\\greekc__.ttf', name='GreekC', style='normal', variant='normal', weight=400, stretch='normal', size='scalable')) = 10.05\n",
      "2024-03-20 23:17:01,733 : DEBUG : findfont: score(FontEntry(fname='C:\\\\Windows\\\\Fonts\\\\segoeuisl.ttf', name='Segoe UI', style='normal', variant='normal', weight=350, stretch='normal', size='scalable')) = 10.0975\n",
      "2024-03-20 23:17:01,734 : DEBUG : findfont: score(FontEntry(fname='C:\\\\Windows\\\\Fonts\\\\mtproxy7.ttf', name='Proxy 7', style='normal', variant='normal', weight=400, stretch='normal', size='scalable')) = 10.05\n",
      "2024-03-20 23:17:01,735 : DEBUG : findfont: score(FontEntry(fname='C:\\\\Windows\\\\Fonts\\\\isocp3__.ttf', name='ISOCP3', style='normal', variant='normal', weight=400, stretch='normal', size='scalable')) = 10.05\n",
      "2024-03-20 23:17:01,737 : DEBUG : findfont: score(FontEntry(fname='C:\\\\Windows\\\\Fonts\\\\corbelli.ttf', name='Corbel', style='italic', variant='normal', weight=300, stretch='normal', size='scalable')) = 11.145\n",
      "2024-03-20 23:17:01,741 : DEBUG : findfont: score(FontEntry(fname='C:\\\\Windows\\\\Fonts\\\\cambria.ttc', name='Cambria', style='normal', variant='normal', weight=400, stretch='normal', size='scalable')) = 10.05\n",
      "2024-03-20 23:17:01,743 : DEBUG : findfont: score(FontEntry(fname='C:\\\\Windows\\\\Fonts\\\\swissb.ttf', name='Swis721 BT', style='normal', variant='normal', weight=700, stretch='normal', size='scalable')) = 10.335\n",
      "2024-03-20 23:17:01,746 : DEBUG : findfont: score(FontEntry(fname='C:\\\\Windows\\\\Fonts\\\\swissel.ttf', name='Swis721 LtEx BT', style='normal', variant='normal', weight=400, stretch='expanded', size='scalable')) = 10.25\n",
      "2024-03-20 23:17:01,747 : DEBUG : findfont: score(FontEntry(fname='C:\\\\Windows\\\\Fonts\\\\simplex_.ttf', name='Simplex', style='normal', variant='normal', weight=400, stretch='normal', size='scalable')) = 10.05\n",
      "2024-03-20 23:17:01,749 : DEBUG : findfont: score(FontEntry(fname='C:\\\\Windows\\\\Fonts\\\\compi.ttf', name='CommercialPi BT', style='normal', variant='normal', weight=400, stretch='normal', size='scalable')) = 10.05\n",
      "2024-03-20 23:17:01,750 : DEBUG : findfont: score(FontEntry(fname='C:\\\\Windows\\\\Fonts\\\\swissl.ttf', name='Swis721 Lt BT', style='normal', variant='normal', weight=400, stretch='normal', size='scalable')) = 10.05\n",
      "2024-03-20 23:17:01,752 : DEBUG : findfont: score(FontEntry(fname='C:\\\\Windows\\\\Fonts\\\\verdana.ttf', name='Verdana', style='normal', variant='normal', weight=400, stretch='normal', size='scalable')) = 3.6863636363636365\n",
      "2024-03-20 23:17:01,753 : DEBUG : findfont: score(FontEntry(fname='C:\\\\Windows\\\\Fonts\\\\cambriab.ttf', name='Cambria', style='normal', variant='normal', weight=700, stretch='normal', size='scalable')) = 10.335\n",
      "2024-03-20 23:17:01,754 : DEBUG : findfont: score(FontEntry(fname='C:\\\\Windows\\\\Fonts\\\\seguibli.ttf', name='Segoe UI', style='italic', variant='normal', weight=900, stretch='normal', size='scalable')) = 11.525\n",
      "2024-03-20 23:17:01,755 : DEBUG : findfont: score(FontEntry(fname='C:\\\\Windows\\\\Fonts\\\\GARA.TTF', name='Garamond', style='normal', variant='normal', weight=400, stretch='normal', size='scalable')) = 10.05\n",
      "2024-03-20 23:17:01,757 : DEBUG : findfont: score(FontEntry(fname='C:\\\\Windows\\\\Fonts\\\\constanz.ttf', name='Constantia', style='italic', variant='normal', weight=700, stretch='normal', size='scalable')) = 11.335\n",
      "2024-03-20 23:17:01,758 : DEBUG : findfont: score(FontEntry(fname='C:\\\\Windows\\\\Fonts\\\\BRADHITC.TTF', name='Bradley Hand ITC', style='normal', variant='normal', weight=400, stretch='normal', size='scalable')) = 10.05\n",
      "2024-03-20 23:17:01,761 : DEBUG : findfont: score(FontEntry(fname='C:\\\\Windows\\\\Fonts\\\\romai___.ttf', name='Romantic', style='italic', variant='normal', weight=400, stretch='normal', size='scalable')) = 11.05\n",
      "2024-03-20 23:17:01,765 : DEBUG : findfont: score(FontEntry(fname='C:\\\\Windows\\\\Fonts\\\\monosbi.ttf', name='Monospac821 BT', style='italic', variant='normal', weight=700, stretch='normal', size='scalable')) = 11.335\n",
      "2024-03-20 23:17:01,766 : DEBUG : findfont: score(FontEntry(fname='C:\\\\Windows\\\\Fonts\\\\AMDT_Symbols.ttf', name='AmdtSymbols', style='normal', variant='normal', weight=400, stretch='normal', size='scalable')) = 10.05\n",
      "2024-03-20 23:17:01,768 : DEBUG : findfont: score(FontEntry(fname='C:\\\\Windows\\\\Fonts\\\\wingding.ttf', name='Wingdings', style='normal', variant='normal', weight=400, stretch='normal', size='scalable')) = 10.05\n",
      "2024-03-20 23:17:01,769 : DEBUG : findfont: score(FontEntry(fname='C:\\\\Windows\\\\Fonts\\\\gadugib.ttf', name='Gadugi', style='normal', variant='normal', weight=700, stretch='normal', size='scalable')) = 10.335\n",
      "2024-03-20 23:17:01,770 : DEBUG : findfont: score(FontEntry(fname='C:\\\\Windows\\\\Fonts\\\\YuGothL.ttc', name='Yu Gothic', style='normal', variant='normal', weight=300, stretch='normal', size='scalable')) = 10.145\n",
      "2024-03-20 23:17:01,772 : DEBUG : findfont: score(FontEntry(fname='C:\\\\Windows\\\\Fonts\\\\FREESCPT.TTF', name='Freestyle Script', style='normal', variant='normal', weight=400, stretch='normal', size='scalable')) = 10.05\n",
      "2024-03-20 23:17:01,773 : DEBUG : findfont: score(FontEntry(fname='C:\\\\Windows\\\\Fonts\\\\Artifakt Element Thin.ttf', name='Artifakt Element', style='normal', variant='normal', weight=200, stretch='normal', size='scalable')) = 10.24\n",
      "2024-03-20 23:17:01,775 : DEBUG : findfont: score(FontEntry(fname='C:\\\\Windows\\\\Fonts\\\\Artifakt Element Book.ttf', name='Artifakt Element', style='normal', variant='normal', weight=450, stretch='normal', size='scalable')) = 10.0975\n",
      "2024-03-20 23:17:01,777 : DEBUG : findfont: score(FontEntry(fname='C:\\\\Windows\\\\Fonts\\\\techl___.ttf', name='TechnicLite', style='normal', variant='normal', weight=400, stretch='normal', size='scalable')) = 10.05\n",
      "2024-03-20 23:17:01,779 : DEBUG : findfont: score(FontEntry(fname='C:\\\\Windows\\\\Fonts\\\\JUICE___.TTF', name='Juice ITC', style='normal', variant='normal', weight=400, stretch='normal', size='scalable')) = 10.05\n",
      "2024-03-20 23:17:01,780 : DEBUG : findfont: score(FontEntry(fname='C:\\\\Windows\\\\Fonts\\\\javatext.ttf', name='Javanese Text', style='normal', variant='normal', weight=400, stretch='normal', size='scalable')) = 10.05\n",
      "2024-03-20 23:17:01,781 : DEBUG : findfont: score(FontEntry(fname='C:\\\\Windows\\\\Fonts\\\\Artifakt Element Black Italic.ttf', name='Artifakt Element', style='italic', variant='normal', weight=800, stretch='normal', size='scalable')) = 11.43\n",
      "2024-03-20 23:17:01,782 : DEBUG : findfont: score(FontEntry(fname='C:\\\\Windows\\\\Fonts\\\\GARABD.TTF', name='Garamond', style='normal', variant='normal', weight=700, stretch='normal', size='scalable')) = 10.335\n",
      "2024-03-20 23:17:01,784 : DEBUG : findfont: score(FontEntry(fname='C:\\\\Windows\\\\Fonts\\\\comicbd.ttf', name='Comic Sans MS', style='normal', variant='normal', weight=700, stretch='normal', size='scalable')) = 10.335\n",
      "2024-03-20 23:17:01,785 : DEBUG : findfont: score(FontEntry(fname='C:\\\\Windows\\\\Fonts\\\\taile.ttf', name='Microsoft Tai Le', style='normal', variant='normal', weight=400, stretch='normal', size='scalable')) = 10.05\n",
      "2024-03-20 23:17:01,787 : DEBUG : findfont: score(FontEntry(fname='C:\\\\Windows\\\\Fonts\\\\webdings.ttf', name='Webdings', style='normal', variant='normal', weight=400, stretch='normal', size='scalable')) = 10.05\n",
      "2024-03-20 23:17:01,789 : DEBUG : findfont: score(FontEntry(fname='C:\\\\Windows\\\\Fonts\\\\AMGDT___.ttf', name='AMGDT', style='normal', variant='normal', weight=400, stretch='normal', size='scalable')) = 10.05\n",
      "2024-03-20 23:17:01,790 : DEBUG : findfont: score(FontEntry(fname='C:\\\\Windows\\\\Fonts\\\\calibriz.ttf', name='Calibri', style='italic', variant='normal', weight=700, stretch='normal', size='scalable')) = 11.335\n",
      "2024-03-20 23:17:01,792 : DEBUG : findfont: score(FontEntry(fname='C:\\\\Windows\\\\Fonts\\\\eurro___.ttf', name='EuroRoman', style='oblique', variant='normal', weight=400, stretch='normal', size='scalable')) = 11.05\n",
      "2024-03-20 23:17:01,793 : DEBUG : findfont: score(FontEntry(fname='C:\\\\Windows\\\\Fonts\\\\impact.ttf', name='Impact', style='normal', variant='normal', weight=400, stretch='normal', size='scalable')) = 10.05\n",
      "2024-03-20 23:17:01,796 : DEBUG : findfont: score(FontEntry(fname='C:\\\\Windows\\\\Fonts\\\\Artifakt Element Medium Italic.ttf', name='Artifakt Element', style='italic', variant='normal', weight=600, stretch='normal', size='scalable')) = 11.24\n",
      "2024-03-20 23:17:01,797 : DEBUG : findfont: score(FontEntry(fname='C:\\\\Windows\\\\Fonts\\\\simsun.ttc', name='SimSun', style='normal', variant='normal', weight=400, stretch='normal', size='scalable')) = 10.05\n",
      "2024-03-20 23:17:01,799 : DEBUG : findfont: score(FontEntry(fname='C:\\\\Windows\\\\Fonts\\\\malgunsl.ttf', name='Malgun Gothic', style='normal', variant='normal', weight=300, stretch='normal', size='scalable')) = 10.145\n",
      "2024-03-20 23:17:01,800 : DEBUG : findfont: score(FontEntry(fname='C:\\\\Windows\\\\Fonts\\\\swissbo.ttf', name='Swis721 BdOul BT', style='normal', variant='normal', weight=400, stretch='normal', size='scalable')) = 10.05\n",
      "2024-03-20 23:17:01,801 : DEBUG : findfont: score(FontEntry(fname='C:\\\\Windows\\\\Fonts\\\\constan.ttf', name='Constantia', style='normal', variant='normal', weight=400, stretch='normal', size='scalable')) = 10.05\n",
      "2024-03-20 23:17:01,802 : DEBUG : findfont: score(FontEntry(fname='C:\\\\Windows\\\\Fonts\\\\swissi.ttf', name='Swis721 BT', style='italic', variant='normal', weight=400, stretch='normal', size='scalable')) = 11.05\n",
      "2024-03-20 23:17:01,804 : DEBUG : findfont: score(FontEntry(fname='C:\\\\Windows\\\\Fonts\\\\CascadiaMono.ttf', name='Cascadia Mono', style='normal', variant='normal', weight=400, stretch='normal', size='scalable')) = 10.05\n",
      "2024-03-20 23:17:01,805 : DEBUG : findfont: score(FontEntry(fname='C:\\\\Windows\\\\Fonts\\\\GOTHICI.TTF', name='Century Gothic', style='italic', variant='normal', weight=400, stretch='normal', size='scalable')) = 11.05\n",
      "2024-03-20 23:17:01,807 : DEBUG : findfont: score(FontEntry(fname='C:\\\\Windows\\\\Fonts\\\\seguibl.ttf', name='Segoe UI', style='normal', variant='normal', weight=900, stretch='normal', size='scalable')) = 10.525\n",
      "2024-03-20 23:17:01,808 : DEBUG : findfont: score(FontEntry(fname='C:\\\\Windows\\\\Fonts\\\\mtproxy8.ttf', name='Proxy 8', style='normal', variant='normal', weight=400, stretch='normal', size='scalable')) = 10.05\n",
      "2024-03-20 23:17:01,810 : DEBUG : findfont: score(FontEntry(fname='C:\\\\Windows\\\\Fonts\\\\panroman.ttf', name='PanRoman', style='normal', variant='normal', weight=400, stretch='normal', size='scalable')) = 10.05\n",
      "2024-03-20 23:17:01,812 : DEBUG : findfont: score(FontEntry(fname='C:\\\\Windows\\\\Fonts\\\\Nirmala.ttf', name='Nirmala UI', style='normal', variant='normal', weight=400, stretch='normal', size='scalable')) = 10.05\n",
      "2024-03-20 23:17:01,813 : DEBUG : findfont: score(FontEntry(fname='C:\\\\Windows\\\\Fonts\\\\PRISTINA.TTF', name='Pristina', style='normal', variant='normal', weight=400, stretch='normal', size='scalable')) = 10.05\n",
      "2024-03-20 23:17:01,814 : DEBUG : findfont: score(FontEntry(fname='C:\\\\Windows\\\\Fonts\\\\GOTHIC.TTF', name='Century Gothic', style='normal', variant='normal', weight=400, stretch='normal', size='scalable')) = 10.05\n",
      "2024-03-20 23:17:01,816 : DEBUG : findfont: score(FontEntry(fname='C:\\\\Windows\\\\Fonts\\\\Artifakt Element Hair.ttf', name='Artifakt Element', style='normal', variant='normal', weight=100, stretch='normal', size='scalable')) = 10.335\n",
      "2024-03-20 23:17:01,820 : DEBUG : findfont: score(FontEntry(fname='C:\\\\Windows\\\\Fonts\\\\isocteur.ttf', name='ISOCTEUR', style='normal', variant='normal', weight=400, stretch='normal', size='scalable')) = 10.05\n",
      "2024-03-20 23:17:01,821 : DEBUG : findfont: score(FontEntry(fname='C:\\\\Windows\\\\Fonts\\\\swisscbi.ttf', name='Swis721 Cn BT', style='italic', variant='normal', weight=700, stretch='condensed', size='scalable')) = 11.535\n",
      "2024-03-20 23:17:01,822 : DEBUG : findfont: score(FontEntry(fname='C:\\\\Windows\\\\Fonts\\\\calibril.ttf', name='Calibri', style='normal', variant='normal', weight=300, stretch='normal', size='scalable')) = 10.145\n",
      "2024-03-20 23:17:01,824 : DEBUG : findfont: score(FontEntry(fname='C:\\\\Windows\\\\Fonts\\\\SegUIVar.ttf', name='Segoe UI Variable', style='normal', variant='normal', weight=400, stretch='normal', size='scalable')) = 10.05\n",
      "2024-03-20 23:17:01,828 : DEBUG : findfont: score(FontEntry(fname='C:\\\\Windows\\\\Fonts\\\\GENISO.ttf', name='GENISO', style='normal', variant='normal', weight=400, stretch='normal', size='scalable')) = 10.05\n",
      "2024-03-20 23:17:01,830 : DEBUG : findfont: score(FontEntry(fname='C:\\\\Windows\\\\Fonts\\\\segoepr.ttf', name='Segoe Print', style='normal', variant='normal', weight=400, stretch='normal', size='scalable')) = 10.05\n",
      "2024-03-20 23:17:01,831 : DEBUG : findfont: score(FontEntry(fname='C:\\\\Windows\\\\Fonts\\\\italict_.ttf', name='ItalicT', style='italic', variant='normal', weight=400, stretch='normal', size='scalable')) = 11.05\n",
      "2024-03-20 23:17:01,834 : DEBUG : findfont: score(FontEntry(fname='C:\\\\Windows\\\\Fonts\\\\segoescb.ttf', name='Segoe Script', style='normal', variant='normal', weight=700, stretch='normal', size='scalable')) = 10.335\n",
      "2024-03-20 23:17:01,835 : DEBUG : findfont: score(FontEntry(fname='C:\\\\Windows\\\\Fonts\\\\framdit.ttf', name='Franklin Gothic Medium', style='italic', variant='normal', weight=400, stretch='normal', size='scalable')) = 11.05\n",
      "2024-03-20 23:17:01,837 : DEBUG : findfont: score(FontEntry(fname='C:\\\\Windows\\\\Fonts\\\\swisse.ttf', name='Swis721 Ex BT', style='normal', variant='normal', weight=400, stretch='expanded', size='scalable')) = 10.25\n",
      "2024-03-20 23:17:01,838 : DEBUG : findfont: score(FontEntry(fname='C:\\\\Windows\\\\Fonts\\\\mtproxy9.ttf', name='Proxy 9', style='normal', variant='normal', weight=400, stretch='normal', size='scalable')) = 10.05\n",
      "2024-03-20 23:17:01,839 : DEBUG : findfont: score(FontEntry(fname='C:\\\\Windows\\\\Fonts\\\\Artifakt Element LIght.ttf', name='Artifakt Element', style='normal', variant='normal', weight=300, stretch='normal', size='scalable')) = 10.145\n",
      "2024-03-20 23:17:01,840 : DEBUG : findfont: score(FontEntry(fname='C:\\\\Windows\\\\Fonts\\\\swissc.ttf', name='Swis721 Cn BT', style='normal', variant='normal', weight=400, stretch='condensed', size='scalable')) = 10.25\n",
      "2024-03-20 23:17:01,842 : DEBUG : findfont: score(FontEntry(fname='C:\\\\Windows\\\\Fonts\\\\ARIALUNI.ttf', name='Arial Unicode MS', style='normal', variant='normal', weight=400, stretch='normal', size='scalable')) = 10.05\n",
      "2024-03-20 23:17:01,889 : DEBUG : findfont: score(FontEntry(fname='C:\\\\Windows\\\\Fonts\\\\Artifakt Element Black.ttf', name='Artifakt Element', style='normal', variant='normal', weight=800, stretch='normal', size='scalable')) = 10.43\n",
      "2024-03-20 23:17:01,893 : DEBUG : findfont: score(FontEntry(fname='C:\\\\Windows\\\\Fonts\\\\Artifakt Element Bold.ttf', name='Artifakt Element', style='normal', variant='normal', weight=700, stretch='normal', size='scalable')) = 10.335\n",
      "2024-03-20 23:17:01,896 : DEBUG : findfont: score(FontEntry(fname='C:\\\\Windows\\\\Fonts\\\\bgothm.ttf', name='BankGothic Md BT', style='normal', variant='normal', weight=400, stretch='normal', size='scalable')) = 10.05\n",
      "2024-03-20 23:17:01,898 : DEBUG : findfont: score(FontEntry(fname='C:\\\\Windows\\\\Fonts\\\\arialbd.ttf', name='Arial', style='normal', variant='normal', weight=700, stretch='normal', size='scalable')) = 6.698636363636363\n",
      "2024-03-20 23:17:01,900 : DEBUG : findfont: score(FontEntry(fname='C:\\\\Windows\\\\Fonts\\\\georgiab.ttf', name='Georgia', style='normal', variant='normal', weight=700, stretch='normal', size='scalable')) = 10.335\n",
      "2024-03-20 23:17:01,902 : DEBUG : findfont: score(FontEntry(fname='C:\\\\Windows\\\\Fonts\\\\sanss___.ttf', name='SansSerif', style='normal', variant='normal', weight=400, stretch='normal', size='scalable')) = 10.05\n",
      "2024-03-20 23:17:01,904 : DEBUG : findfont: score(FontEntry(fname='C:\\\\Windows\\\\Fonts\\\\timesbd.ttf', name='Times New Roman', style='normal', variant='normal', weight=700, stretch='normal', size='scalable')) = 10.335\n",
      "2024-03-20 23:17:01,906 : DEBUG : findfont: score(FontEntry(fname='C:\\\\Windows\\\\Fonts\\\\Candara.ttf', name='Candara', style='normal', variant='normal', weight=400, stretch='normal', size='scalable')) = 10.05\n",
      "2024-03-20 23:17:01,907 : DEBUG : findfont: score(FontEntry(fname='C:\\\\Windows\\\\Fonts\\\\consola.ttf', name='Consolas', style='normal', variant='normal', weight=400, stretch='normal', size='scalable')) = 10.05\n",
      "2024-03-20 23:17:01,908 : DEBUG : findfont: Matching sans\\-serif:style=normal:variant=normal:weight=normal:stretch=normal:size=10.0 to DejaVu Sans ('C:\\\\Users\\\\satya\\\\AppData\\\\Local\\\\Packages\\\\PythonSoftwareFoundation.Python.3.11_qbz5n2kfra8p0\\\\LocalCache\\\\local-packages\\\\Python311\\\\site-packages\\\\matplotlib\\\\mpl-data\\\\fonts\\\\ttf\\\\DejaVuSans.ttf') with score of 0.050000.\n",
      "2024-03-20 23:17:02,192 : DEBUG : findfont: Matching sans\\-serif:style=normal:variant=normal:weight=normal:stretch=normal:size=12.0.\n",
      "2024-03-20 23:17:02,195 : DEBUG : findfont: score(FontEntry(fname='C:\\\\Users\\\\satya\\\\AppData\\\\Local\\\\Packages\\\\PythonSoftwareFoundation.Python.3.11_qbz5n2kfra8p0\\\\LocalCache\\\\local-packages\\\\Python311\\\\site-packages\\\\matplotlib\\\\mpl-data\\\\fonts\\\\ttf\\\\cmmi10.ttf', name='cmmi10', style='normal', variant='normal', weight=400, stretch='normal', size='scalable')) = 10.05\n",
      "2024-03-20 23:17:02,197 : DEBUG : findfont: score(FontEntry(fname='C:\\\\Users\\\\satya\\\\AppData\\\\Local\\\\Packages\\\\PythonSoftwareFoundation.Python.3.11_qbz5n2kfra8p0\\\\LocalCache\\\\local-packages\\\\Python311\\\\site-packages\\\\matplotlib\\\\mpl-data\\\\fonts\\\\ttf\\\\DejaVuSans.ttf', name='DejaVu Sans', style='normal', variant='normal', weight=400, stretch='normal', size='scalable')) = 0.05\n",
      "2024-03-20 23:17:02,198 : DEBUG : findfont: score(FontEntry(fname='C:\\\\Users\\\\satya\\\\AppData\\\\Local\\\\Packages\\\\PythonSoftwareFoundation.Python.3.11_qbz5n2kfra8p0\\\\LocalCache\\\\local-packages\\\\Python311\\\\site-packages\\\\matplotlib\\\\mpl-data\\\\fonts\\\\ttf\\\\STIXNonUniBolIta.ttf', name='STIXNonUnicode', style='italic', variant='normal', weight=700, stretch='normal', size='scalable')) = 11.335\n",
      "2024-03-20 23:17:02,200 : DEBUG : findfont: score(FontEntry(fname='C:\\\\Users\\\\satya\\\\AppData\\\\Local\\\\Packages\\\\PythonSoftwareFoundation.Python.3.11_qbz5n2kfra8p0\\\\LocalCache\\\\local-packages\\\\Python311\\\\site-packages\\\\matplotlib\\\\mpl-data\\\\fonts\\\\ttf\\\\DejaVuSerif-Bold.ttf', name='DejaVu Serif', style='normal', variant='normal', weight=700, stretch='normal', size='scalable')) = 10.335\n",
      "2024-03-20 23:17:02,201 : DEBUG : findfont: score(FontEntry(fname='C:\\\\Users\\\\satya\\\\AppData\\\\Local\\\\Packages\\\\PythonSoftwareFoundation.Python.3.11_qbz5n2kfra8p0\\\\LocalCache\\\\local-packages\\\\Python311\\\\site-packages\\\\matplotlib\\\\mpl-data\\\\fonts\\\\ttf\\\\DejaVuSerif-Italic.ttf', name='DejaVu Serif', style='italic', variant='normal', weight=400, stretch='normal', size='scalable')) = 11.05\n",
      "2024-03-20 23:17:02,202 : DEBUG : findfont: score(FontEntry(fname='C:\\\\Users\\\\satya\\\\AppData\\\\Local\\\\Packages\\\\PythonSoftwareFoundation.Python.3.11_qbz5n2kfra8p0\\\\LocalCache\\\\local-packages\\\\Python311\\\\site-packages\\\\matplotlib\\\\mpl-data\\\\fonts\\\\ttf\\\\DejaVuSerifDisplay.ttf', name='DejaVu Serif Display', style='normal', variant='normal', weight=400, stretch='normal', size='scalable')) = 10.05\n",
      "2024-03-20 23:17:02,204 : DEBUG : findfont: score(FontEntry(fname='C:\\\\Users\\\\satya\\\\AppData\\\\Local\\\\Packages\\\\PythonSoftwareFoundation.Python.3.11_qbz5n2kfra8p0\\\\LocalCache\\\\local-packages\\\\Python311\\\\site-packages\\\\matplotlib\\\\mpl-data\\\\fonts\\\\ttf\\\\STIXSizFiveSymReg.ttf', name='STIXSizeFiveSym', style='normal', variant='normal', weight=400, stretch='normal', size='scalable')) = 10.05\n",
      "2024-03-20 23:17:02,205 : DEBUG : findfont: score(FontEntry(fname='C:\\\\Users\\\\satya\\\\AppData\\\\Local\\\\Packages\\\\PythonSoftwareFoundation.Python.3.11_qbz5n2kfra8p0\\\\LocalCache\\\\local-packages\\\\Python311\\\\site-packages\\\\matplotlib\\\\mpl-data\\\\fonts\\\\ttf\\\\STIXSizThreeSymReg.ttf', name='STIXSizeThreeSym', style='normal', variant='normal', weight=400, stretch='normal', size='scalable')) = 10.05\n",
      "2024-03-20 23:17:02,206 : DEBUG : findfont: score(FontEntry(fname='C:\\\\Users\\\\satya\\\\AppData\\\\Local\\\\Packages\\\\PythonSoftwareFoundation.Python.3.11_qbz5n2kfra8p0\\\\LocalCache\\\\local-packages\\\\Python311\\\\site-packages\\\\matplotlib\\\\mpl-data\\\\fonts\\\\ttf\\\\cmtt10.ttf', name='cmtt10', style='normal', variant='normal', weight=400, stretch='normal', size='scalable')) = 10.05\n",
      "2024-03-20 23:17:02,208 : DEBUG : findfont: score(FontEntry(fname='C:\\\\Users\\\\satya\\\\AppData\\\\Local\\\\Packages\\\\PythonSoftwareFoundation.Python.3.11_qbz5n2kfra8p0\\\\LocalCache\\\\local-packages\\\\Python311\\\\site-packages\\\\matplotlib\\\\mpl-data\\\\fonts\\\\ttf\\\\STIXGeneralBolIta.ttf', name='STIXGeneral', style='italic', variant='normal', weight=700, stretch='normal', size='scalable')) = 11.335\n",
      "2024-03-20 23:17:02,209 : DEBUG : findfont: score(FontEntry(fname='C:\\\\Users\\\\satya\\\\AppData\\\\Local\\\\Packages\\\\PythonSoftwareFoundation.Python.3.11_qbz5n2kfra8p0\\\\LocalCache\\\\local-packages\\\\Python311\\\\site-packages\\\\matplotlib\\\\mpl-data\\\\fonts\\\\ttf\\\\DejaVuSansMono.ttf', name='DejaVu Sans Mono', style='normal', variant='normal', weight=400, stretch='normal', size='scalable')) = 10.05\n",
      "2024-03-20 23:17:02,212 : DEBUG : findfont: score(FontEntry(fname='C:\\\\Users\\\\satya\\\\AppData\\\\Local\\\\Packages\\\\PythonSoftwareFoundation.Python.3.11_qbz5n2kfra8p0\\\\LocalCache\\\\local-packages\\\\Python311\\\\site-packages\\\\matplotlib\\\\mpl-data\\\\fonts\\\\ttf\\\\DejaVuSerif-BoldItalic.ttf', name='DejaVu Serif', style='italic', variant='normal', weight=700, stretch='normal', size='scalable')) = 11.335\n",
      "2024-03-20 23:17:02,216 : DEBUG : findfont: score(FontEntry(fname='C:\\\\Users\\\\satya\\\\AppData\\\\Local\\\\Packages\\\\PythonSoftwareFoundation.Python.3.11_qbz5n2kfra8p0\\\\LocalCache\\\\local-packages\\\\Python311\\\\site-packages\\\\matplotlib\\\\mpl-data\\\\fonts\\\\ttf\\\\STIXNonUniIta.ttf', name='STIXNonUnicode', style='italic', variant='normal', weight=400, stretch='normal', size='scalable')) = 11.05\n",
      "2024-03-20 23:17:02,218 : DEBUG : findfont: score(FontEntry(fname='C:\\\\Users\\\\satya\\\\AppData\\\\Local\\\\Packages\\\\PythonSoftwareFoundation.Python.3.11_qbz5n2kfra8p0\\\\LocalCache\\\\local-packages\\\\Python311\\\\site-packages\\\\matplotlib\\\\mpl-data\\\\fonts\\\\ttf\\\\DejaVuSansMono-BoldOblique.ttf', name='DejaVu Sans Mono', style='oblique', variant='normal', weight=700, stretch='normal', size='scalable')) = 11.335\n",
      "2024-03-20 23:17:02,220 : DEBUG : findfont: score(FontEntry(fname='C:\\\\Users\\\\satya\\\\AppData\\\\Local\\\\Packages\\\\PythonSoftwareFoundation.Python.3.11_qbz5n2kfra8p0\\\\LocalCache\\\\local-packages\\\\Python311\\\\site-packages\\\\matplotlib\\\\mpl-data\\\\fonts\\\\ttf\\\\STIXNonUni.ttf', name='STIXNonUnicode', style='normal', variant='normal', weight=400, stretch='normal', size='scalable')) = 10.05\n",
      "2024-03-20 23:17:02,221 : DEBUG : findfont: score(FontEntry(fname='C:\\\\Users\\\\satya\\\\AppData\\\\Local\\\\Packages\\\\PythonSoftwareFoundation.Python.3.11_qbz5n2kfra8p0\\\\LocalCache\\\\local-packages\\\\Python311\\\\site-packages\\\\matplotlib\\\\mpl-data\\\\fonts\\\\ttf\\\\cmr10.ttf', name='cmr10', style='normal', variant='normal', weight=400, stretch='normal', size='scalable')) = 10.05\n",
      "2024-03-20 23:17:02,223 : DEBUG : findfont: score(FontEntry(fname='C:\\\\Users\\\\satya\\\\AppData\\\\Local\\\\Packages\\\\PythonSoftwareFoundation.Python.3.11_qbz5n2kfra8p0\\\\LocalCache\\\\local-packages\\\\Python311\\\\site-packages\\\\matplotlib\\\\mpl-data\\\\fonts\\\\ttf\\\\DejaVuSansDisplay.ttf', name='DejaVu Sans Display', style='normal', variant='normal', weight=400, stretch='normal', size='scalable')) = 10.05\n",
      "2024-03-20 23:17:02,225 : DEBUG : findfont: score(FontEntry(fname='C:\\\\Users\\\\satya\\\\AppData\\\\Local\\\\Packages\\\\PythonSoftwareFoundation.Python.3.11_qbz5n2kfra8p0\\\\LocalCache\\\\local-packages\\\\Python311\\\\site-packages\\\\matplotlib\\\\mpl-data\\\\fonts\\\\ttf\\\\DejaVuSans-BoldOblique.ttf', name='DejaVu Sans', style='oblique', variant='normal', weight=700, stretch='normal', size='scalable')) = 1.335\n",
      "2024-03-20 23:17:02,226 : DEBUG : findfont: score(FontEntry(fname='C:\\\\Users\\\\satya\\\\AppData\\\\Local\\\\Packages\\\\PythonSoftwareFoundation.Python.3.11_qbz5n2kfra8p0\\\\LocalCache\\\\local-packages\\\\Python311\\\\site-packages\\\\matplotlib\\\\mpl-data\\\\fonts\\\\ttf\\\\STIXSizOneSymReg.ttf', name='STIXSizeOneSym', style='normal', variant='normal', weight=400, stretch='normal', size='scalable')) = 10.05\n",
      "2024-03-20 23:17:02,229 : DEBUG : findfont: score(FontEntry(fname='C:\\\\Users\\\\satya\\\\AppData\\\\Local\\\\Packages\\\\PythonSoftwareFoundation.Python.3.11_qbz5n2kfra8p0\\\\LocalCache\\\\local-packages\\\\Python311\\\\site-packages\\\\matplotlib\\\\mpl-data\\\\fonts\\\\ttf\\\\DejaVuSans-Oblique.ttf', name='DejaVu Sans', style='oblique', variant='normal', weight=400, stretch='normal', size='scalable')) = 1.05\n",
      "2024-03-20 23:17:02,231 : DEBUG : findfont: score(FontEntry(fname='C:\\\\Users\\\\satya\\\\AppData\\\\Local\\\\Packages\\\\PythonSoftwareFoundation.Python.3.11_qbz5n2kfra8p0\\\\LocalCache\\\\local-packages\\\\Python311\\\\site-packages\\\\matplotlib\\\\mpl-data\\\\fonts\\\\ttf\\\\STIXNonUniBol.ttf', name='STIXNonUnicode', style='normal', variant='normal', weight=700, stretch='normal', size='scalable')) = 10.335\n",
      "2024-03-20 23:17:02,233 : DEBUG : findfont: score(FontEntry(fname='C:\\\\Users\\\\satya\\\\AppData\\\\Local\\\\Packages\\\\PythonSoftwareFoundation.Python.3.11_qbz5n2kfra8p0\\\\LocalCache\\\\local-packages\\\\Python311\\\\site-packages\\\\matplotlib\\\\mpl-data\\\\fonts\\\\ttf\\\\cmsy10.ttf', name='cmsy10', style='normal', variant='normal', weight=400, stretch='normal', size='scalable')) = 10.05\n",
      "2024-03-20 23:17:02,235 : DEBUG : findfont: score(FontEntry(fname='C:\\\\Users\\\\satya\\\\AppData\\\\Local\\\\Packages\\\\PythonSoftwareFoundation.Python.3.11_qbz5n2kfra8p0\\\\LocalCache\\\\local-packages\\\\Python311\\\\site-packages\\\\matplotlib\\\\mpl-data\\\\fonts\\\\ttf\\\\STIXSizTwoSymReg.ttf', name='STIXSizeTwoSym', style='normal', variant='normal', weight=400, stretch='normal', size='scalable')) = 10.05\n",
      "2024-03-20 23:17:02,236 : DEBUG : findfont: score(FontEntry(fname='C:\\\\Users\\\\satya\\\\AppData\\\\Local\\\\Packages\\\\PythonSoftwareFoundation.Python.3.11_qbz5n2kfra8p0\\\\LocalCache\\\\local-packages\\\\Python311\\\\site-packages\\\\matplotlib\\\\mpl-data\\\\fonts\\\\ttf\\\\DejaVuSansMono-Bold.ttf', name='DejaVu Sans Mono', style='normal', variant='normal', weight=700, stretch='normal', size='scalable')) = 10.335\n",
      "2024-03-20 23:17:02,238 : DEBUG : findfont: score(FontEntry(fname='C:\\\\Users\\\\satya\\\\AppData\\\\Local\\\\Packages\\\\PythonSoftwareFoundation.Python.3.11_qbz5n2kfra8p0\\\\LocalCache\\\\local-packages\\\\Python311\\\\site-packages\\\\matplotlib\\\\mpl-data\\\\fonts\\\\ttf\\\\DejaVuSerif.ttf', name='DejaVu Serif', style='normal', variant='normal', weight=400, stretch='normal', size='scalable')) = 10.05\n",
      "2024-03-20 23:17:02,242 : DEBUG : findfont: score(FontEntry(fname='C:\\\\Users\\\\satya\\\\AppData\\\\Local\\\\Packages\\\\PythonSoftwareFoundation.Python.3.11_qbz5n2kfra8p0\\\\LocalCache\\\\local-packages\\\\Python311\\\\site-packages\\\\matplotlib\\\\mpl-data\\\\fonts\\\\ttf\\\\STIXGeneralItalic.ttf', name='STIXGeneral', style='italic', variant='normal', weight=400, stretch='normal', size='scalable')) = 11.05\n",
      "2024-03-20 23:17:02,246 : DEBUG : findfont: score(FontEntry(fname='C:\\\\Users\\\\satya\\\\AppData\\\\Local\\\\Packages\\\\PythonSoftwareFoundation.Python.3.11_qbz5n2kfra8p0\\\\LocalCache\\\\local-packages\\\\Python311\\\\site-packages\\\\matplotlib\\\\mpl-data\\\\fonts\\\\ttf\\\\cmss10.ttf', name='cmss10', style='normal', variant='normal', weight=400, stretch='normal', size='scalable')) = 10.05\n",
      "2024-03-20 23:17:02,250 : DEBUG : findfont: score(FontEntry(fname='C:\\\\Users\\\\satya\\\\AppData\\\\Local\\\\Packages\\\\PythonSoftwareFoundation.Python.3.11_qbz5n2kfra8p0\\\\LocalCache\\\\local-packages\\\\Python311\\\\site-packages\\\\matplotlib\\\\mpl-data\\\\fonts\\\\ttf\\\\cmex10.ttf', name='cmex10', style='normal', variant='normal', weight=400, stretch='normal', size='scalable')) = 10.05\n",
      "2024-03-20 23:17:02,251 : DEBUG : findfont: score(FontEntry(fname='C:\\\\Users\\\\satya\\\\AppData\\\\Local\\\\Packages\\\\PythonSoftwareFoundation.Python.3.11_qbz5n2kfra8p0\\\\LocalCache\\\\local-packages\\\\Python311\\\\site-packages\\\\matplotlib\\\\mpl-data\\\\fonts\\\\ttf\\\\cmb10.ttf', name='cmb10', style='normal', variant='normal', weight=400, stretch='normal', size='scalable')) = 10.05\n",
      "2024-03-20 23:17:02,253 : DEBUG : findfont: score(FontEntry(fname='C:\\\\Users\\\\satya\\\\AppData\\\\Local\\\\Packages\\\\PythonSoftwareFoundation.Python.3.11_qbz5n2kfra8p0\\\\LocalCache\\\\local-packages\\\\Python311\\\\site-packages\\\\matplotlib\\\\mpl-data\\\\fonts\\\\ttf\\\\STIXGeneral.ttf', name='STIXGeneral', style='normal', variant='normal', weight=400, stretch='normal', size='scalable')) = 10.05\n",
      "2024-03-20 23:17:02,254 : DEBUG : findfont: score(FontEntry(fname='C:\\\\Users\\\\satya\\\\AppData\\\\Local\\\\Packages\\\\PythonSoftwareFoundation.Python.3.11_qbz5n2kfra8p0\\\\LocalCache\\\\local-packages\\\\Python311\\\\site-packages\\\\matplotlib\\\\mpl-data\\\\fonts\\\\ttf\\\\DejaVuSans-Bold.ttf', name='DejaVu Sans', style='normal', variant='normal', weight=700, stretch='normal', size='scalable')) = 0.33499999999999996\n",
      "2024-03-20 23:17:02,255 : DEBUG : findfont: score(FontEntry(fname='C:\\\\Users\\\\satya\\\\AppData\\\\Local\\\\Packages\\\\PythonSoftwareFoundation.Python.3.11_qbz5n2kfra8p0\\\\LocalCache\\\\local-packages\\\\Python311\\\\site-packages\\\\matplotlib\\\\mpl-data\\\\fonts\\\\ttf\\\\STIXSizFourSymReg.ttf', name='STIXSizeFourSym', style='normal', variant='normal', weight=400, stretch='normal', size='scalable')) = 10.05\n",
      "2024-03-20 23:17:02,257 : DEBUG : findfont: score(FontEntry(fname='C:\\\\Users\\\\satya\\\\AppData\\\\Local\\\\Packages\\\\PythonSoftwareFoundation.Python.3.11_qbz5n2kfra8p0\\\\LocalCache\\\\local-packages\\\\Python311\\\\site-packages\\\\matplotlib\\\\mpl-data\\\\fonts\\\\ttf\\\\STIXSizOneSymBol.ttf', name='STIXSizeOneSym', style='normal', variant='normal', weight=700, stretch='normal', size='scalable')) = 10.335\n",
      "2024-03-20 23:17:02,259 : DEBUG : findfont: score(FontEntry(fname='C:\\\\Users\\\\satya\\\\AppData\\\\Local\\\\Packages\\\\PythonSoftwareFoundation.Python.3.11_qbz5n2kfra8p0\\\\LocalCache\\\\local-packages\\\\Python311\\\\site-packages\\\\matplotlib\\\\mpl-data\\\\fonts\\\\ttf\\\\STIXSizThreeSymBol.ttf', name='STIXSizeThreeSym', style='normal', variant='normal', weight=700, stretch='normal', size='scalable')) = 10.335\n",
      "2024-03-20 23:17:02,261 : DEBUG : findfont: score(FontEntry(fname='C:\\\\Users\\\\satya\\\\AppData\\\\Local\\\\Packages\\\\PythonSoftwareFoundation.Python.3.11_qbz5n2kfra8p0\\\\LocalCache\\\\local-packages\\\\Python311\\\\site-packages\\\\matplotlib\\\\mpl-data\\\\fonts\\\\ttf\\\\DejaVuSansMono-Oblique.ttf', name='DejaVu Sans Mono', style='oblique', variant='normal', weight=400, stretch='normal', size='scalable')) = 11.05\n",
      "2024-03-20 23:17:02,263 : DEBUG : findfont: score(FontEntry(fname='C:\\\\Users\\\\satya\\\\AppData\\\\Local\\\\Packages\\\\PythonSoftwareFoundation.Python.3.11_qbz5n2kfra8p0\\\\LocalCache\\\\local-packages\\\\Python311\\\\site-packages\\\\matplotlib\\\\mpl-data\\\\fonts\\\\ttf\\\\STIXSizFourSymBol.ttf', name='STIXSizeFourSym', style='normal', variant='normal', weight=700, stretch='normal', size='scalable')) = 10.335\n",
      "2024-03-20 23:17:02,264 : DEBUG : findfont: score(FontEntry(fname='C:\\\\Users\\\\satya\\\\AppData\\\\Local\\\\Packages\\\\PythonSoftwareFoundation.Python.3.11_qbz5n2kfra8p0\\\\LocalCache\\\\local-packages\\\\Python311\\\\site-packages\\\\matplotlib\\\\mpl-data\\\\fonts\\\\ttf\\\\STIXSizTwoSymBol.ttf', name='STIXSizeTwoSym', style='normal', variant='normal', weight=700, stretch='normal', size='scalable')) = 10.335\n",
      "2024-03-20 23:17:02,267 : DEBUG : findfont: score(FontEntry(fname='C:\\\\Users\\\\satya\\\\AppData\\\\Local\\\\Packages\\\\PythonSoftwareFoundation.Python.3.11_qbz5n2kfra8p0\\\\LocalCache\\\\local-packages\\\\Python311\\\\site-packages\\\\matplotlib\\\\mpl-data\\\\fonts\\\\ttf\\\\STIXGeneralBol.ttf', name='STIXGeneral', style='normal', variant='normal', weight=700, stretch='normal', size='scalable')) = 10.335\n",
      "2024-03-20 23:17:02,269 : DEBUG : findfont: score(FontEntry(fname='C:\\\\Windows\\\\Fonts\\\\micross.ttf', name='Microsoft Sans Serif', style='normal', variant='normal', weight=400, stretch='normal', size='scalable')) = 10.05\n",
      "2024-03-20 23:17:02,271 : DEBUG : findfont: score(FontEntry(fname='C:\\\\Windows\\\\Fonts\\\\Artifakt Element Italic.ttf', name='Artifakt Element', style='italic', variant='normal', weight=400, stretch='normal', size='scalable')) = 11.05\n",
      "2024-03-20 23:17:02,273 : DEBUG : findfont: score(FontEntry(fname='C:\\\\Windows\\\\Fonts\\\\l_10646.ttf', name='Lucida Sans Unicode', style='normal', variant='normal', weight=400, stretch='normal', size='scalable')) = 10.05\n",
      "2024-03-20 23:17:02,274 : DEBUG : findfont: score(FontEntry(fname='C:\\\\Windows\\\\Fonts\\\\MISTRAL.TTF', name='Mistral', style='normal', variant='normal', weight=400, stretch='normal', size='scalable')) = 10.05\n",
      "2024-03-20 23:17:02,275 : DEBUG : findfont: score(FontEntry(fname='C:\\\\Windows\\\\Fonts\\\\taileb.ttf', name='Microsoft Tai Le', style='normal', variant='normal', weight=700, stretch='normal', size='scalable')) = 10.335\n",
      "2024-03-20 23:17:02,277 : DEBUG : findfont: score(FontEntry(fname='C:\\\\Windows\\\\Fonts\\\\corbelb.ttf', name='Corbel', style='normal', variant='normal', weight=700, stretch='normal', size='scalable')) = 10.335\n",
      "2024-03-20 23:17:02,279 : DEBUG : findfont: score(FontEntry(fname='C:\\\\Windows\\\\Fonts\\\\ariali.ttf', name='Arial', style='italic', variant='normal', weight=400, stretch='normal', size='scalable')) = 7.413636363636363\n",
      "2024-03-20 23:17:02,280 : DEBUG : findfont: score(FontEntry(fname='C:\\\\Windows\\\\Fonts\\\\DUBAI-LIGHT.TTF', name='Dubai', style='normal', variant='normal', weight=300, stretch='normal', size='scalable')) = 10.145\n",
      "2024-03-20 23:17:02,283 : DEBUG : findfont: score(FontEntry(fname='C:\\\\Windows\\\\Fonts\\\\dutchi.ttf', name='Dutch801 Rm BT', style='italic', variant='normal', weight=400, stretch='normal', size='scalable')) = 11.05\n",
      "2024-03-20 23:17:02,284 : DEBUG : findfont: score(FontEntry(fname='C:\\\\Windows\\\\Fonts\\\\romanc__.ttf', name='RomanC', style='normal', variant='normal', weight=400, stretch='normal', size='scalable')) = 10.05\n",
      "2024-03-20 23:17:02,285 : DEBUG : findfont: score(FontEntry(fname='C:\\\\Windows\\\\Fonts\\\\trebuc.ttf', name='Trebuchet MS', style='normal', variant='normal', weight=400, stretch='normal', size='scalable')) = 10.05\n",
      "2024-03-20 23:17:02,286 : DEBUG : findfont: score(FontEntry(fname='C:\\\\Windows\\\\Fonts\\\\mmrtext.ttf', name='Myanmar Text', style='normal', variant='normal', weight=400, stretch='normal', size='scalable')) = 10.05\n",
      "2024-03-20 23:17:02,287 : DEBUG : findfont: score(FontEntry(fname='C:\\\\Windows\\\\Fonts\\\\seguili.ttf', name='Segoe UI', style='italic', variant='normal', weight=300, stretch='normal', size='scalable')) = 11.145\n",
      "2024-03-20 23:17:02,289 : DEBUG : findfont: score(FontEntry(fname='C:\\\\Windows\\\\Fonts\\\\sanssb__.ttf', name='SansSerif', style='normal', variant='normal', weight=700, stretch='normal', size='scalable')) = 10.335\n",
      "2024-03-20 23:17:02,291 : DEBUG : findfont: score(FontEntry(fname='C:\\\\Windows\\\\Fonts\\\\verdanaz.ttf', name='Verdana', style='italic', variant='normal', weight=700, stretch='normal', size='scalable')) = 4.971363636363637\n",
      "2024-03-20 23:17:02,297 : DEBUG : findfont: score(FontEntry(fname='C:\\\\Windows\\\\Fonts\\\\greeks__.ttf', name='GreekS', style='normal', variant='normal', weight=400, stretch='normal', size='scalable')) = 10.05\n",
      "2024-03-20 23:17:02,299 : DEBUG : findfont: score(FontEntry(fname='C:\\\\Windows\\\\Fonts\\\\consolai.ttf', name='Consolas', style='italic', variant='normal', weight=400, stretch='normal', size='scalable')) = 11.05\n",
      "2024-03-20 23:17:02,301 : DEBUG : findfont: score(FontEntry(fname='C:\\\\Windows\\\\Fonts\\\\GOTHICBI.TTF', name='Century Gothic', style='italic', variant='normal', weight=700, stretch='normal', size='scalable')) = 11.335\n",
      "2024-03-20 23:17:02,302 : DEBUG : findfont: score(FontEntry(fname='C:\\\\Windows\\\\Fonts\\\\georgia.ttf', name='Georgia', style='normal', variant='normal', weight=400, stretch='normal', size='scalable')) = 10.05\n",
      "2024-03-20 23:17:02,305 : DEBUG : findfont: score(FontEntry(fname='C:\\\\Windows\\\\Fonts\\\\ariblk.ttf', name='Arial', style='normal', variant='normal', weight=900, stretch='normal', size='scalable')) = 6.888636363636364\n",
      "2024-03-20 23:17:02,307 : DEBUG : findfont: score(FontEntry(fname='C:\\\\Windows\\\\Fonts\\\\isoct2__.ttf', name='ISOCT2', style='normal', variant='normal', weight=400, stretch='normal', size='scalable')) = 10.05\n",
      "2024-03-20 23:17:02,309 : DEBUG : findfont: score(FontEntry(fname='C:\\\\Windows\\\\Fonts\\\\swissbi.ttf', name='Swis721 BT', style='italic', variant='normal', weight=700, stretch='normal', size='scalable')) = 11.335\n",
      "2024-03-20 23:17:02,311 : DEBUG : findfont: score(FontEntry(fname='C:\\\\Windows\\\\Fonts\\\\LeelawUI.ttf', name='Leelawadee UI', style='normal', variant='normal', weight=400, stretch='normal', size='scalable')) = 10.05\n",
      "2024-03-20 23:17:02,314 : DEBUG : findfont: score(FontEntry(fname='C:\\\\Windows\\\\Fonts\\\\PAPYRUS.TTF', name='Papyrus', style='normal', variant='normal', weight=400, stretch='normal', size='scalable')) = 10.05\n",
      "2024-03-20 23:17:02,315 : DEBUG : findfont: score(FontEntry(fname='C:\\\\Windows\\\\Fonts\\\\segoeui.ttf', name='Segoe UI', style='normal', variant='normal', weight=400, stretch='normal', size='scalable')) = 10.05\n",
      "2024-03-20 23:17:02,317 : DEBUG : findfont: score(FontEntry(fname='C:\\\\Windows\\\\Fonts\\\\swissk.ttf', name='Swis721 Blk BT', style='normal', variant='normal', weight=400, stretch='normal', size='scalable')) = 10.05\n",
      "2024-03-20 23:17:02,318 : DEBUG : findfont: score(FontEntry(fname='C:\\\\Windows\\\\Fonts\\\\romantic.ttf', name='Romantic', style='normal', variant='normal', weight=400, stretch='normal', size='scalable')) = 10.05\n",
      "2024-03-20 23:17:02,319 : DEBUG : findfont: score(FontEntry(fname='C:\\\\Windows\\\\Fonts\\\\WINGDNG2.TTF', name='Wingdings 2', style='normal', variant='normal', weight=400, stretch='normal', size='scalable')) = 10.05\n",
      "2024-03-20 23:17:02,322 : DEBUG : findfont: score(FontEntry(fname='C:\\\\Windows\\\\Fonts\\\\DUBAI-MEDIUM.TTF', name='Dubai', style='normal', variant='normal', weight=500, stretch='normal', size='scalable')) = 10.145\n",
      "2024-03-20 23:17:02,328 : DEBUG : findfont: score(FontEntry(fname='C:\\\\Windows\\\\Fonts\\\\segoesc.ttf', name='Segoe Script', style='normal', variant='normal', weight=400, stretch='normal', size='scalable')) = 10.05\n",
      "2024-03-20 23:17:02,330 : DEBUG : findfont: score(FontEntry(fname='C:\\\\Windows\\\\Fonts\\\\cambriai.ttf', name='Cambria', style='italic', variant='normal', weight=400, stretch='normal', size='scalable')) = 11.05\n",
      "2024-03-20 23:17:02,333 : DEBUG : findfont: score(FontEntry(fname='C:\\\\Windows\\\\Fonts\\\\SitkaVF.ttf', name='Sitka', style='normal', variant='normal', weight=400, stretch='normal', size='scalable')) = 10.05\n",
      "2024-03-20 23:17:02,335 : DEBUG : findfont: score(FontEntry(fname='C:\\\\Windows\\\\Fonts\\\\Artifakt Element Heavy Italic.ttf', name='Artifakt Element', style='italic', variant='normal', weight=900, stretch='normal', size='scalable')) = 11.525\n",
      "2024-03-20 23:17:02,336 : DEBUG : findfont: score(FontEntry(fname='C:\\\\Windows\\\\Fonts\\\\DUBAI-REGULAR.TTF', name='Dubai', style='normal', variant='normal', weight=400, stretch='normal', size='scalable')) = 10.05\n",
      "2024-03-20 23:17:02,339 : DEBUG : findfont: score(FontEntry(fname='C:\\\\Windows\\\\Fonts\\\\Candarai.ttf', name='Candara', style='italic', variant='normal', weight=400, stretch='normal', size='scalable')) = 11.05\n",
      "2024-03-20 23:17:02,341 : DEBUG : findfont: score(FontEntry(fname='C:\\\\Windows\\\\Fonts\\\\ANTQUABI.TTF', name='Book Antiqua', style='italic', variant='normal', weight=700, stretch='normal', size='scalable')) = 11.335\n",
      "2024-03-20 23:17:02,343 : DEBUG : findfont: score(FontEntry(fname='C:\\\\Windows\\\\Fonts\\\\MTEXTRA.TTF', name='MT Extra', style='normal', variant='normal', weight=400, stretch='normal', size='scalable')) = 10.05\n",
      "2024-03-20 23:17:02,345 : DEBUG : findfont: score(FontEntry(fname='C:\\\\Windows\\\\Fonts\\\\LeelaUIb.ttf', name='Leelawadee UI', style='normal', variant='normal', weight=700, stretch='normal', size='scalable')) = 10.335\n",
      "2024-03-20 23:17:02,347 : DEBUG : findfont: score(FontEntry(fname='C:\\\\Windows\\\\Fonts\\\\calibrib.ttf', name='Calibri', style='normal', variant='normal', weight=700, stretch='normal', size='scalable')) = 10.335\n",
      "2024-03-20 23:17:02,379 : DEBUG : findfont: score(FontEntry(fname='C:\\\\Windows\\\\Fonts\\\\consolaz.ttf', name='Consolas', style='italic', variant='normal', weight=700, stretch='normal', size='scalable')) = 11.335\n",
      "2024-03-20 23:17:02,391 : DEBUG : findfont: score(FontEntry(fname='C:\\\\Windows\\\\Fonts\\\\simsunb.ttf', name='SimSun-ExtB', style='normal', variant='normal', weight=400, stretch='normal', size='scalable')) = 10.05\n",
      "2024-03-20 23:17:02,393 : DEBUG : findfont: score(FontEntry(fname='C:\\\\Windows\\\\Fonts\\\\syastro_.ttf', name='Syastro', style='normal', variant='normal', weight=400, stretch='normal', size='scalable')) = 10.05\n",
      "2024-03-20 23:17:02,399 : DEBUG : findfont: score(FontEntry(fname='C:\\\\Windows\\\\Fonts\\\\txt_____.ttf', name='Txt', style='normal', variant='normal', weight=400, stretch='normal', size='scalable')) = 10.05\n",
      "2024-03-20 23:17:02,401 : DEBUG : findfont: score(FontEntry(fname='C:\\\\Windows\\\\Fonts\\\\vinet.ttf', name='Vineta BT', style='normal', variant='normal', weight=400, stretch='normal', size='scalable')) = 10.05\n",
      "2024-03-20 23:17:02,403 : DEBUG : findfont: score(FontEntry(fname='C:\\\\Windows\\\\Fonts\\\\monosb.ttf', name='Monospac821 BT', style='normal', variant='normal', weight=700, stretch='normal', size='scalable')) = 10.335\n",
      "2024-03-20 23:17:02,405 : DEBUG : findfont: score(FontEntry(fname='C:\\\\Windows\\\\Fonts\\\\NirmalaB.ttf', name='Nirmala UI', style='normal', variant='normal', weight=700, stretch='normal', size='scalable')) = 10.335\n",
      "2024-03-20 23:17:02,407 : DEBUG : findfont: score(FontEntry(fname='C:\\\\Windows\\\\Fonts\\\\SegoeIcons.ttf', name='Segoe Fluent Icons', style='normal', variant='normal', weight=400, stretch='normal', size='scalable')) = 10.05\n",
      "2024-03-20 23:17:02,409 : DEBUG : findfont: score(FontEntry(fname='C:\\\\Windows\\\\Fonts\\\\palai.ttf', name='Palatino Linotype', style='italic', variant='normal', weight=400, stretch='normal', size='scalable')) = 11.05\n",
      "2024-03-20 23:17:02,411 : DEBUG : findfont: score(FontEntry(fname='C:\\\\Windows\\\\Fonts\\\\swissck.ttf', name='Swis721 BlkCn BT', style='normal', variant='normal', weight=400, stretch='condensed', size='scalable')) = 10.25\n",
      "2024-03-20 23:17:02,413 : DEBUG : findfont: score(FontEntry(fname='C:\\\\Windows\\\\Fonts\\\\pala.ttf', name='Palatino Linotype', style='normal', variant='normal', weight=400, stretch='normal', size='scalable')) = 10.05\n",
      "2024-03-20 23:17:02,414 : DEBUG : findfont: score(FontEntry(fname='C:\\\\Windows\\\\Fonts\\\\courbi.ttf', name='Courier New', style='italic', variant='normal', weight=700, stretch='normal', size='scalable')) = 11.335\n",
      "2024-03-20 23:17:02,415 : DEBUG : findfont: score(FontEntry(fname='C:\\\\Windows\\\\Fonts\\\\LeelUIsl.ttf', name='Leelawadee UI', style='normal', variant='normal', weight=350, stretch='normal', size='scalable')) = 10.0975\n",
      "2024-03-20 23:17:02,417 : DEBUG : findfont: score(FontEntry(fname='C:\\\\Windows\\\\Fonts\\\\Artifakt Element Book Italic.ttf', name='Artifakt Element', style='italic', variant='normal', weight=450, stretch='normal', size='scalable')) = 11.0975\n",
      "2024-03-20 23:17:02,419 : DEBUG : findfont: score(FontEntry(fname='C:\\\\Windows\\\\Fonts\\\\scriptc_.ttf', name='ScriptC', style='normal', variant='normal', weight=400, stretch='normal', size='scalable')) = 10.05\n",
      "2024-03-20 23:17:02,420 : DEBUG : findfont: score(FontEntry(fname='C:\\\\Windows\\\\Fonts\\\\courbd.ttf', name='Courier New', style='normal', variant='normal', weight=700, stretch='normal', size='scalable')) = 10.335\n",
      "2024-03-20 23:17:02,421 : DEBUG : findfont: score(FontEntry(fname='C:\\\\Windows\\\\Fonts\\\\italic__.ttf', name='Italic', style='italic', variant='normal', weight=400, stretch='normal', size='scalable')) = 11.05\n",
      "2024-03-20 23:17:02,423 : DEBUG : findfont: score(FontEntry(fname='C:\\\\Windows\\\\Fonts\\\\romant__.ttf', name='RomanT', style='normal', variant='normal', weight=400, stretch='normal', size='scalable')) = 10.05\n",
      "2024-03-20 23:17:02,424 : DEBUG : findfont: score(FontEntry(fname='C:\\\\Windows\\\\Fonts\\\\lucon.ttf', name='Lucida Console', style='normal', variant='normal', weight=400, stretch='normal', size='scalable')) = 10.05\n",
      "2024-03-20 23:17:02,425 : DEBUG : findfont: score(FontEntry(fname='C:\\\\Windows\\\\Fonts\\\\romab___.ttf', name='Romantic', style='normal', variant='normal', weight=700, stretch='normal', size='scalable')) = 10.335\n",
      "2024-03-20 23:17:02,427 : DEBUG : findfont: score(FontEntry(fname='C:\\\\Windows\\\\Fonts\\\\seguisbi.ttf', name='Segoe UI', style='italic', variant='normal', weight=600, stretch='normal', size='scalable')) = 11.24\n",
      "2024-03-20 23:17:02,428 : DEBUG : findfont: score(FontEntry(fname='C:\\\\Windows\\\\Fonts\\\\SitkaVF-Italic.ttf', name='Sitka', style='italic', variant='normal', weight=400, stretch='normal', size='scalable')) = 11.05\n",
      "2024-03-20 23:17:02,429 : DEBUG : findfont: score(FontEntry(fname='C:\\\\Windows\\\\Fonts\\\\seguihis.ttf', name='Segoe UI Historic', style='normal', variant='normal', weight=400, stretch='normal', size='scalable')) = 10.05\n",
      "2024-03-20 23:17:02,431 : DEBUG : findfont: score(FontEntry(fname='C:\\\\Windows\\\\Fonts\\\\malgunbd.ttf', name='Malgun Gothic', style='normal', variant='normal', weight=700, stretch='normal', size='scalable')) = 10.335\n",
      "2024-03-20 23:17:02,432 : DEBUG : findfont: score(FontEntry(fname='C:\\\\Windows\\\\Fonts\\\\seguisym.ttf', name='Segoe UI Symbol', style='normal', variant='normal', weight=400, stretch='normal', size='scalable')) = 10.05\n",
      "2024-03-20 23:17:02,433 : DEBUG : findfont: score(FontEntry(fname='C:\\\\Windows\\\\Fonts\\\\Artifakt Element Heavy.ttf', name='Artifakt Element', style='normal', variant='normal', weight=900, stretch='normal', size='scalable')) = 10.525\n",
      "2024-03-20 23:17:02,434 : DEBUG : findfont: score(FontEntry(fname='C:\\\\Windows\\\\Fonts\\\\times.ttf', name='Times New Roman', style='normal', variant='normal', weight=400, stretch='normal', size='scalable')) = 10.05\n",
      "2024-03-20 23:17:02,435 : DEBUG : findfont: score(FontEntry(fname='C:\\\\Windows\\\\Fonts\\\\dutcheb.ttf', name='Dutch801 XBd BT', style='normal', variant='normal', weight=400, stretch='normal', size='scalable')) = 10.05\n",
      "2024-03-20 23:17:02,437 : DEBUG : findfont: score(FontEntry(fname='C:\\\\Windows\\\\Fonts\\\\constani.ttf', name='Constantia', style='italic', variant='normal', weight=400, stretch='normal', size='scalable')) = 11.05\n",
      "2024-03-20 23:17:02,438 : DEBUG : findfont: score(FontEntry(fname='C:\\\\Windows\\\\Fonts\\\\Inkfree.ttf', name='Ink Free', style='normal', variant='normal', weight=400, stretch='normal', size='scalable')) = 10.05\n",
      "2024-03-20 23:17:02,440 : DEBUG : findfont: score(FontEntry(fname='C:\\\\Windows\\\\Fonts\\\\mtproxy6.ttf', name='Proxy 6', style='normal', variant='normal', weight=400, stretch='normal', size='scalable')) = 10.05\n",
      "2024-03-20 23:17:02,441 : DEBUG : findfont: score(FontEntry(fname='C:\\\\Windows\\\\Fonts\\\\mmrtextb.ttf', name='Myanmar Text', style='normal', variant='normal', weight=700, stretch='normal', size='scalable')) = 10.335\n",
      "2024-03-20 23:17:02,443 : DEBUG : findfont: score(FontEntry(fname='C:\\\\Windows\\\\Fonts\\\\segoeuii.ttf', name='Segoe UI', style='italic', variant='normal', weight=400, stretch='normal', size='scalable')) = 11.05\n",
      "2024-03-20 23:17:02,445 : DEBUG : findfont: score(FontEntry(fname='C:\\\\Windows\\\\Fonts\\\\counb___.ttf', name='CountryBlueprint', style='normal', variant='normal', weight=400, stretch='normal', size='scalable')) = 10.05\n",
      "2024-03-20 23:17:02,446 : DEBUG : findfont: score(FontEntry(fname='C:\\\\Windows\\\\Fonts\\\\himalaya.ttf', name='Microsoft Himalaya', style='normal', variant='normal', weight=400, stretch='normal', size='scalable')) = 10.05\n",
      "2024-03-20 23:17:02,447 : DEBUG : findfont: score(FontEntry(fname='C:\\\\Windows\\\\Fonts\\\\YuGothB.ttc', name='Yu Gothic', style='normal', variant='normal', weight=700, stretch='normal', size='scalable')) = 10.335\n",
      "2024-03-20 23:17:02,448 : DEBUG : findfont: score(FontEntry(fname='C:\\\\Windows\\\\Fonts\\\\segoeprb.ttf', name='Segoe Print', style='normal', variant='normal', weight=700, stretch='normal', size='scalable')) = 10.335\n",
      "2024-03-20 23:17:02,450 : DEBUG : findfont: score(FontEntry(fname='C:\\\\Windows\\\\Fonts\\\\gadugi.ttf', name='Gadugi', style='normal', variant='normal', weight=400, stretch='normal', size='scalable')) = 10.05\n",
      "2024-03-20 23:17:02,451 : DEBUG : findfont: score(FontEntry(fname='C:\\\\Windows\\\\Fonts\\\\trebucit.ttf', name='Trebuchet MS', style='italic', variant='normal', weight=400, stretch='normal', size='scalable')) = 11.05\n",
      "2024-03-20 23:17:02,452 : DEBUG : findfont: score(FontEntry(fname='C:\\\\Windows\\\\Fonts\\\\symath__.ttf', name='Symath', style='normal', variant='normal', weight=400, stretch='normal', size='scalable')) = 10.05\n",
      "2024-03-20 23:17:02,454 : DEBUG : findfont: score(FontEntry(fname='C:\\\\Windows\\\\Fonts\\\\mtproxy5.ttf', name='Proxy 5', style='normal', variant='normal', weight=400, stretch='normal', size='scalable')) = 10.05\n",
      "2024-03-20 23:17:02,455 : DEBUG : findfont: score(FontEntry(fname='C:\\\\Windows\\\\Fonts\\\\swiss.ttf', name='Swis721 BT', style='normal', variant='normal', weight=400, stretch='normal', size='scalable')) = 10.05\n",
      "2024-03-20 23:17:02,457 : DEBUG : findfont: score(FontEntry(fname='C:\\\\Windows\\\\Fonts\\\\ebrimabd.ttf', name='Ebrima', style='normal', variant='normal', weight=700, stretch='normal', size='scalable')) = 10.335\n",
      "2024-03-20 23:17:02,458 : DEBUG : findfont: score(FontEntry(fname='C:\\\\Windows\\\\Fonts\\\\mtproxy1.ttf', name='Proxy 1', style='normal', variant='normal', weight=400, stretch='normal', size='scalable')) = 10.05\n",
      "2024-03-20 23:17:02,459 : DEBUG : findfont: score(FontEntry(fname='C:\\\\Windows\\\\Fonts\\\\isocp2__.ttf', name='ISOCP2', style='normal', variant='normal', weight=400, stretch='normal', size='scalable')) = 10.05\n",
      "2024-03-20 23:17:02,460 : DEBUG : findfont: score(FontEntry(fname='C:\\\\Windows\\\\Fonts\\\\LEELAWDB.TTF', name='Leelawadee', style='normal', variant='normal', weight=700, stretch='normal', size='scalable')) = 10.335\n",
      "2024-03-20 23:17:02,462 : DEBUG : findfont: score(FontEntry(fname='C:\\\\Windows\\\\Fonts\\\\tahomabd.ttf', name='Tahoma', style='normal', variant='normal', weight=700, stretch='normal', size='scalable')) = 10.335\n",
      "2024-03-20 23:17:02,463 : DEBUG : findfont: score(FontEntry(fname='C:\\\\Windows\\\\Fonts\\\\BOOKOSB.TTF', name='Bookman Old Style', style='normal', variant='normal', weight=600, stretch='normal', size='scalable')) = 10.24\n",
      "2024-03-20 23:17:02,464 : DEBUG : findfont: score(FontEntry(fname='C:\\\\Windows\\\\Fonts\\\\BOOKOSBI.TTF', name='Bookman Old Style', style='italic', variant='normal', weight=600, stretch='normal', size='scalable')) = 11.24\n",
      "2024-03-20 23:17:02,465 : DEBUG : findfont: score(FontEntry(fname='C:\\\\Windows\\\\Fonts\\\\arial.ttf', name='Arial', style='normal', variant='normal', weight=400, stretch='normal', size='scalable')) = 6.413636363636363\n",
      "2024-03-20 23:17:02,466 : DEBUG : findfont: score(FontEntry(fname='C:\\\\Windows\\\\Fonts\\\\swisscb.ttf', name='Swis721 Cn BT', style='normal', variant='normal', weight=700, stretch='condensed', size='scalable')) = 10.535\n",
      "2024-03-20 23:17:02,517 : DEBUG : findfont: score(FontEntry(fname='C:\\\\Windows\\\\Fonts\\\\bgothl.ttf', name='BankGothic Lt BT', style='normal', variant='normal', weight=400, stretch='normal', size='scalable')) = 10.05\n",
      "2024-03-20 23:17:02,519 : DEBUG : findfont: score(FontEntry(fname='C:\\\\Windows\\\\Fonts\\\\dutch.ttf', name='Dutch801 Rm BT', style='normal', variant='normal', weight=400, stretch='normal', size='scalable')) = 10.05\n",
      "2024-03-20 23:17:02,521 : DEBUG : findfont: score(FontEntry(fname='C:\\\\Windows\\\\Fonts\\\\supef___.ttf', name='SuperFrench', style='normal', variant='normal', weight=400, stretch='normal', size='scalable')) = 10.05\n",
      "2024-03-20 23:17:02,526 : DEBUG : findfont: score(FontEntry(fname='C:\\\\Windows\\\\Fonts\\\\isocp___.ttf', name='ISOCP', style='normal', variant='normal', weight=400, stretch='normal', size='scalable')) = 10.05\n",
      "2024-03-20 23:17:02,529 : DEBUG : findfont: score(FontEntry(fname='C:\\\\Windows\\\\Fonts\\\\consolab.ttf', name='Consolas', style='normal', variant='normal', weight=700, stretch='normal', size='scalable')) = 10.335\n",
      "2024-03-20 23:17:02,532 : DEBUG : findfont: score(FontEntry(fname='C:\\\\Windows\\\\Fonts\\\\mtproxy4.ttf', name='Proxy 4', style='normal', variant='normal', weight=400, stretch='normal', size='scalable')) = 10.05\n",
      "2024-03-20 23:17:02,534 : DEBUG : findfont: score(FontEntry(fname='C:\\\\Windows\\\\Fonts\\\\seguisli.ttf', name='Segoe UI', style='italic', variant='normal', weight=350, stretch='normal', size='scalable')) = 11.0975\n",
      "2024-03-20 23:17:02,535 : DEBUG : findfont: score(FontEntry(fname='C:\\\\Windows\\\\Fonts\\\\cour.ttf', name='Courier New', style='normal', variant='normal', weight=400, stretch='normal', size='scalable')) = 10.05\n",
      "2024-03-20 23:17:02,536 : DEBUG : findfont: score(FontEntry(fname='C:\\\\Windows\\\\Fonts\\\\SansSerifCollection.ttf', name='Sans Serif Collection', style='normal', variant='normal', weight=400, stretch='normal', size='scalable')) = 10.05\n",
      "2024-03-20 23:17:02,537 : DEBUG : findfont: score(FontEntry(fname='C:\\\\Windows\\\\Fonts\\\\swisseb.ttf', name='Swis721 Ex BT', style='normal', variant='normal', weight=700, stretch='expanded', size='scalable')) = 10.535\n",
      "2024-03-20 23:17:02,538 : DEBUG : findfont: score(FontEntry(fname='C:\\\\Windows\\\\Fonts\\\\segoeuib.ttf', name='Segoe UI', style='normal', variant='normal', weight=700, stretch='normal', size='scalable')) = 10.335\n",
      "2024-03-20 23:17:02,540 : DEBUG : findfont: score(FontEntry(fname='C:\\\\Windows\\\\Fonts\\\\CENTURY.TTF', name='Century', style='normal', variant='normal', weight=400, stretch='normal', size='scalable')) = 10.05\n",
      "2024-03-20 23:17:02,541 : DEBUG : findfont: score(FontEntry(fname='C:\\\\Windows\\\\Fonts\\\\monbaiti.ttf', name='Mongolian Baiti', style='normal', variant='normal', weight=400, stretch='normal', size='scalable')) = 10.05\n",
      "2024-03-20 23:17:02,542 : DEBUG : findfont: score(FontEntry(fname='C:\\\\Windows\\\\Fonts\\\\palab.ttf', name='Palatino Linotype', style='normal', variant='normal', weight=700, stretch='normal', size='scalable')) = 10.335\n",
      "2024-03-20 23:17:02,544 : DEBUG : findfont: score(FontEntry(fname='C:\\\\Windows\\\\Fonts\\\\italicc_.ttf', name='ItalicC', style='italic', variant='normal', weight=400, stretch='normal', size='scalable')) = 11.05\n",
      "2024-03-20 23:17:02,546 : DEBUG : findfont: score(FontEntry(fname='C:\\\\Windows\\\\Fonts\\\\msyh.ttc', name='Microsoft YaHei', style='normal', variant='normal', weight=400, stretch='normal', size='scalable')) = 10.05\n",
      "2024-03-20 23:17:02,549 : DEBUG : findfont: score(FontEntry(fname='C:\\\\Windows\\\\Fonts\\\\swissek.ttf', name='Swis721 BlkEx BT', style='normal', variant='normal', weight=400, stretch='expanded', size='scalable')) = 10.25\n",
      "2024-03-20 23:17:02,550 : DEBUG : findfont: score(FontEntry(fname='C:\\\\Windows\\\\Fonts\\\\BKANT.TTF', name='Book Antiqua', style='normal', variant='normal', weight=400, stretch='normal', size='scalable')) = 10.05\n",
      "2024-03-20 23:17:02,554 : DEBUG : findfont: score(FontEntry(fname='C:\\\\Windows\\\\Fonts\\\\msyhl.ttc', name='Microsoft YaHei', style='normal', variant='normal', weight=290, stretch='normal', size='scalable')) = 10.1545\n",
      "2024-03-20 23:17:02,556 : DEBUG : findfont: score(FontEntry(fname='C:\\\\Windows\\\\Fonts\\\\DUBAI-BOLD.TTF', name='Dubai', style='normal', variant='normal', weight=700, stretch='normal', size='scalable')) = 10.335\n",
      "2024-03-20 23:17:02,558 : DEBUG : findfont: score(FontEntry(fname='C:\\\\Windows\\\\Fonts\\\\symbol.ttf', name='Symbol', style='normal', variant='normal', weight=400, stretch='normal', size='scalable')) = 10.05\n",
      "2024-03-20 23:17:02,561 : DEBUG : findfont: score(FontEntry(fname='C:\\\\Windows\\\\Fonts\\\\isocteui.ttf', name='ISOCTEUR', style='italic', variant='normal', weight=400, stretch='normal', size='scalable')) = 11.05\n",
      "2024-03-20 23:17:02,562 : DEBUG : findfont: score(FontEntry(fname='C:\\\\Windows\\\\Fonts\\\\symeteo_.ttf', name='Symeteo', style='normal', variant='normal', weight=400, stretch='normal', size='scalable')) = 10.05\n",
      "2024-03-20 23:17:02,568 : DEBUG : findfont: score(FontEntry(fname='C:\\\\Windows\\\\Fonts\\\\ANTQUAI.TTF', name='Book Antiqua', style='italic', variant='normal', weight=400, stretch='normal', size='scalable')) = 11.05\n",
      "2024-03-20 23:17:02,570 : DEBUG : findfont: score(FontEntry(fname='C:\\\\Windows\\\\Fonts\\\\YuGothM.ttc', name='Yu Gothic', style='normal', variant='normal', weight=500, stretch='normal', size='scalable')) = 10.145\n",
      "2024-03-20 23:17:02,573 : DEBUG : findfont: score(FontEntry(fname='C:\\\\Windows\\\\Fonts\\\\Artifakt Element Thin Italic.ttf', name='Artifakt Element', style='italic', variant='normal', weight=200, stretch='normal', size='scalable')) = 11.24\n",
      "2024-03-20 23:17:02,580 : DEBUG : findfont: score(FontEntry(fname='C:\\\\Windows\\\\Fonts\\\\trebucbd.ttf', name='Trebuchet MS', style='normal', variant='normal', weight=700, stretch='normal', size='scalable')) = 10.335\n",
      "2024-03-20 23:17:02,582 : DEBUG : findfont: score(FontEntry(fname='C:\\\\Windows\\\\Fonts\\\\timesi.ttf', name='Times New Roman', style='italic', variant='normal', weight=400, stretch='normal', size='scalable')) = 11.05\n",
      "2024-03-20 23:17:02,584 : DEBUG : findfont: score(FontEntry(fname='C:\\\\Windows\\\\Fonts\\\\mingliub.ttc', name='MingLiU-ExtB', style='normal', variant='normal', weight=400, stretch='normal', size='scalable')) = 10.05\n",
      "2024-03-20 23:17:02,587 : DEBUG : findfont: score(FontEntry(fname='C:\\\\Windows\\\\Fonts\\\\symusic_.ttf', name='Symusic', style='normal', variant='normal', weight=400, stretch='normal', size='scalable')) = 10.05\n",
      "2024-03-20 23:17:02,589 : DEBUG : findfont: score(FontEntry(fname='C:\\\\Windows\\\\Fonts\\\\georgiaz.ttf', name='Georgia', style='italic', variant='normal', weight=700, stretch='normal', size='scalable')) = 11.335\n",
      "2024-03-20 23:17:02,590 : DEBUG : findfont: score(FontEntry(fname='C:\\\\Windows\\\\Fonts\\\\sanssbo_.ttf', name='SansSerif', style='oblique', variant='normal', weight=700, stretch='normal', size='scalable')) = 11.335\n",
      "2024-03-20 23:17:02,592 : DEBUG : findfont: score(FontEntry(fname='C:\\\\Windows\\\\Fonts\\\\segmdl2.ttf', name='Segoe MDL2 Assets', style='normal', variant='normal', weight=400, stretch='normal', size='scalable')) = 10.05\n",
      "2024-03-20 23:17:02,594 : DEBUG : findfont: score(FontEntry(fname='C:\\\\Windows\\\\Fonts\\\\comsc.ttf', name='CommercialScript BT', style='normal', variant='normal', weight=400, stretch='normal', size='scalable')) = 10.05\n",
      "2024-03-20 23:17:02,596 : DEBUG : findfont: score(FontEntry(fname='C:\\\\Windows\\\\Fonts\\\\MSUIGHUR.TTF', name='Microsoft Uighur', style='normal', variant='normal', weight=400, stretch='normal', size='scalable')) = 10.05\n",
      "2024-03-20 23:17:02,598 : DEBUG : findfont: score(FontEntry(fname='C:\\\\Windows\\\\Fonts\\\\romand__.ttf', name='RomanD', style='normal', variant='normal', weight=400, stretch='normal', size='scalable')) = 10.05\n",
      "2024-03-20 23:17:02,601 : DEBUG : findfont: score(FontEntry(fname='C:\\\\Windows\\\\Fonts\\\\MSUIGHUB.TTF', name='Microsoft Uighur', style='normal', variant='normal', weight=700, stretch='normal', size='scalable')) = 10.335\n",
      "2024-03-20 23:17:02,603 : DEBUG : findfont: score(FontEntry(fname='C:\\\\Windows\\\\Fonts\\\\msjh.ttc', name='Microsoft JhengHei', style='normal', variant='normal', weight=400, stretch='normal', size='scalable')) = 10.05\n",
      "2024-03-20 23:17:02,604 : DEBUG : findfont: score(FontEntry(fname='C:\\\\Windows\\\\Fonts\\\\corbel.ttf', name='Corbel', style='normal', variant='normal', weight=400, stretch='normal', size='scalable')) = 10.05\n",
      "2024-03-20 23:17:02,606 : DEBUG : findfont: score(FontEntry(fname='C:\\\\Windows\\\\Fonts\\\\verdanab.ttf', name='Verdana', style='normal', variant='normal', weight=700, stretch='normal', size='scalable')) = 3.9713636363636367\n",
      "2024-03-20 23:17:02,608 : DEBUG : findfont: score(FontEntry(fname='C:\\\\Windows\\\\Fonts\\\\georgiai.ttf', name='Georgia', style='italic', variant='normal', weight=400, stretch='normal', size='scalable')) = 11.05\n",
      "2024-03-20 23:17:02,610 : DEBUG : findfont: score(FontEntry(fname='C:\\\\Windows\\\\Fonts\\\\trebucbi.ttf', name='Trebuchet MS', style='italic', variant='normal', weight=700, stretch='normal', size='scalable')) = 11.335\n",
      "2024-03-20 23:17:02,613 : DEBUG : findfont: score(FontEntry(fname='C:\\\\Windows\\\\Fonts\\\\LEELAWAD.TTF', name='Leelawadee', style='normal', variant='normal', weight=400, stretch='normal', size='scalable')) = 10.05\n",
      "2024-03-20 23:17:02,614 : DEBUG : findfont: score(FontEntry(fname='C:\\\\Windows\\\\Fonts\\\\swisscki.ttf', name='Swis721 BlkCn BT', style='italic', variant='normal', weight=400, stretch='condensed', size='scalable')) = 11.25\n",
      "2024-03-20 23:17:02,616 : DEBUG : findfont: score(FontEntry(fname='C:\\\\Windows\\\\Fonts\\\\segoeuiz.ttf', name='Segoe UI', style='italic', variant='normal', weight=700, stretch='normal', size='scalable')) = 11.335\n",
      "2024-03-20 23:17:02,617 : DEBUG : findfont: score(FontEntry(fname='C:\\\\Windows\\\\Fonts\\\\seguiemj.ttf', name='Segoe UI Emoji', style='normal', variant='normal', weight=400, stretch='normal', size='scalable')) = 10.05\n",
      "2024-03-20 23:17:02,621 : DEBUG : findfont: score(FontEntry(fname='C:\\\\Windows\\\\Fonts\\\\cambriaz.ttf', name='Cambria', style='italic', variant='normal', weight=700, stretch='normal', size='scalable')) = 11.335\n",
      "2024-03-20 23:17:02,623 : DEBUG : findfont: score(FontEntry(fname='C:\\\\Windows\\\\Fonts\\\\GOTHICB.TTF', name='Century Gothic', style='normal', variant='normal', weight=700, stretch='normal', size='scalable')) = 10.335\n",
      "2024-03-20 23:17:02,625 : DEBUG : findfont: score(FontEntry(fname='C:\\\\Windows\\\\Fonts\\\\comicz.ttf', name='Comic Sans MS', style='italic', variant='normal', weight=700, stretch='normal', size='scalable')) = 11.335\n",
      "2024-03-20 23:17:02,627 : DEBUG : findfont: score(FontEntry(fname='C:\\\\Windows\\\\Fonts\\\\eurr____.ttf', name='EuroRoman', style='normal', variant='normal', weight=400, stretch='normal', size='scalable')) = 10.05\n",
      "2024-03-20 23:17:02,630 : DEBUG : findfont: score(FontEntry(fname='C:\\\\Windows\\\\Fonts\\\\Candarali.ttf', name='Candara', style='italic', variant='normal', weight=400, stretch='normal', size='scalable')) = 11.05\n",
      "2024-03-20 23:17:02,631 : DEBUG : findfont: score(FontEntry(fname='C:\\\\Windows\\\\Fonts\\\\BOOKOSI.TTF', name='Bookman Old Style', style='italic', variant='normal', weight=300, stretch='normal', size='scalable')) = 11.145\n",
      "2024-03-20 23:17:02,633 : DEBUG : findfont: score(FontEntry(fname='C:\\\\Windows\\\\Fonts\\\\isoct3__.ttf', name='ISOCT3', style='normal', variant='normal', weight=400, stretch='normal', size='scalable')) = 10.05\n",
      "2024-03-20 23:17:02,634 : DEBUG : findfont: score(FontEntry(fname='C:\\\\Windows\\\\Fonts\\\\ebrima.ttf', name='Ebrima', style='normal', variant='normal', weight=400, stretch='normal', size='scalable')) = 10.05\n",
      "2024-03-20 23:17:02,636 : DEBUG : findfont: score(FontEntry(fname='C:\\\\Windows\\\\Fonts\\\\gothici_.ttf', name='GothicI', style='normal', variant='normal', weight=400, stretch='normal', size='scalable')) = 10.05\n",
      "2024-03-20 23:17:02,637 : DEBUG : findfont: score(FontEntry(fname='C:\\\\Windows\\\\Fonts\\\\malgun.ttf', name='Malgun Gothic', style='normal', variant='normal', weight=400, stretch='normal', size='scalable')) = 10.05\n",
      "2024-03-20 23:17:02,638 : DEBUG : findfont: score(FontEntry(fname='C:\\\\Windows\\\\Fonts\\\\segoeuil.ttf', name='Segoe UI', style='normal', variant='normal', weight=300, stretch='normal', size='scalable')) = 10.145\n",
      "2024-03-20 23:17:02,641 : DEBUG : findfont: score(FontEntry(fname='C:\\\\Windows\\\\Fonts\\\\ntailub.ttf', name='Microsoft New Tai Lue', style='normal', variant='normal', weight=700, stretch='normal', size='scalable')) = 10.335\n",
      "2024-03-20 23:17:02,645 : DEBUG : findfont: score(FontEntry(fname='C:\\\\Windows\\\\Fonts\\\\romans__.ttf', name='RomanS', style='normal', variant='normal', weight=400, stretch='normal', size='scalable')) = 10.05\n",
      "2024-03-20 23:17:02,647 : DEBUG : findfont: score(FontEntry(fname='C:\\\\Windows\\\\Fonts\\\\arialbi.ttf', name='Arial', style='italic', variant='normal', weight=700, stretch='normal', size='scalable')) = 7.698636363636363\n",
      "2024-03-20 23:17:02,649 : DEBUG : findfont: score(FontEntry(fname='C:\\\\Windows\\\\Fonts\\\\CascadiaCode.ttf', name='Cascadia Code', style='normal', variant='normal', weight=400, stretch='normal', size='scalable')) = 10.05\n",
      "2024-03-20 23:17:02,649 : DEBUG : findfont: score(FontEntry(fname='C:\\\\Windows\\\\Fonts\\\\Artifakt Element Regular.ttf', name='Artifakt Element', style='normal', variant='normal', weight=400, stretch='normal', size='scalable')) = 10.05\n",
      "2024-03-20 23:17:02,659 : DEBUG : findfont: score(FontEntry(fname='C:\\\\Windows\\\\Fonts\\\\swisscl.ttf', name='Swis721 LtCn BT', style='normal', variant='normal', weight=400, stretch='condensed', size='scalable')) = 10.25\n",
      "2024-03-20 23:17:02,664 : DEBUG : findfont: score(FontEntry(fname='C:\\\\Windows\\\\Fonts\\\\AIGDT___.TTF', name='AIGDT', style='normal', variant='normal', weight=400, stretch='normal', size='scalable')) = 10.05\n",
      "2024-03-20 23:17:02,666 : DEBUG : findfont: score(FontEntry(fname='C:\\\\Windows\\\\Fonts\\\\ANTQUAB.TTF', name='Book Antiqua', style='normal', variant='normal', weight=700, stretch='normal', size='scalable')) = 10.335\n",
      "2024-03-20 23:17:02,669 : DEBUG : findfont: score(FontEntry(fname='C:\\\\Windows\\\\Fonts\\\\BOOKOS.TTF', name='Bookman Old Style', style='normal', variant='normal', weight=300, stretch='normal', size='scalable')) = 10.145\n",
      "2024-03-20 23:17:02,671 : DEBUG : findfont: score(FontEntry(fname='C:\\\\Windows\\\\Fonts\\\\mvboli.ttf', name='MV Boli', style='normal', variant='normal', weight=400, stretch='normal', size='scalable')) = 10.05\n",
      "2024-03-20 23:17:02,672 : DEBUG : findfont: score(FontEntry(fname='C:\\\\Windows\\\\Fonts\\\\seguisb.ttf', name='Segoe UI', style='normal', variant='normal', weight=600, stretch='normal', size='scalable')) = 10.24\n",
      "2024-03-20 23:17:02,673 : DEBUG : findfont: score(FontEntry(fname='C:\\\\Windows\\\\Fonts\\\\ARIALNBI.TTF', name='Arial', style='italic', variant='normal', weight=700, stretch='condensed', size='scalable')) = 7.8986363636363635\n",
      "2024-03-20 23:17:02,676 : DEBUG : findfont: score(FontEntry(fname='C:\\\\Windows\\\\Fonts\\\\Artifakt Element Medium.ttf', name='Artifakt Element', style='normal', variant='normal', weight=600, stretch='normal', size='scalable')) = 10.24\n",
      "2024-03-20 23:17:02,678 : DEBUG : findfont: score(FontEntry(fname='C:\\\\Windows\\\\Fonts\\\\FRSCRIPT.TTF', name='French Script MT', style='normal', variant='normal', weight=400, stretch='normal', size='scalable')) = 10.05\n",
      "2024-03-20 23:17:02,682 : DEBUG : findfont: score(FontEntry(fname='C:\\\\Windows\\\\Fonts\\\\LHANDW.TTF', name='Lucida Handwriting', style='italic', variant='normal', weight=400, stretch='normal', size='scalable')) = 11.05\n",
      "2024-03-20 23:17:02,685 : DEBUG : findfont: score(FontEntry(fname='C:\\\\Windows\\\\Fonts\\\\calibri.ttf', name='Calibri', style='normal', variant='normal', weight=400, stretch='normal', size='scalable')) = 10.05\n",
      "2024-03-20 23:17:02,688 : DEBUG : findfont: score(FontEntry(fname='C:\\\\Windows\\\\Fonts\\\\Artifakt Element Light Italic.ttf', name='Artifakt Element', style='italic', variant='normal', weight=300, stretch='normal', size='scalable')) = 11.145\n",
      "2024-03-20 23:17:02,689 : DEBUG : findfont: score(FontEntry(fname='C:\\\\Windows\\\\Fonts\\\\gothice_.ttf', name='GothicE', style='normal', variant='normal', weight=400, stretch='normal', size='scalable')) = 10.05\n",
      "2024-03-20 23:17:02,691 : DEBUG : findfont: score(FontEntry(fname='C:\\\\Windows\\\\Fonts\\\\monos.ttf', name='Monospac821 BT', style='normal', variant='normal', weight=400, stretch='normal', size='scalable')) = 10.05\n",
      "2024-03-20 23:17:02,693 : DEBUG : findfont: score(FontEntry(fname='C:\\\\Windows\\\\Fonts\\\\framd.ttf', name='Franklin Gothic Medium', style='normal', variant='normal', weight=400, stretch='normal', size='scalable')) = 10.05\n",
      "2024-03-20 23:17:02,695 : DEBUG : findfont: score(FontEntry(fname='C:\\\\Windows\\\\Fonts\\\\umath.ttf', name='UniversalMath1 BT', style='normal', variant='normal', weight=400, stretch='normal', size='scalable')) = 10.05\n",
      "2024-03-20 23:17:02,696 : DEBUG : findfont: score(FontEntry(fname='C:\\\\Windows\\\\Fonts\\\\swissci.ttf', name='Swis721 Cn BT', style='italic', variant='normal', weight=400, stretch='condensed', size='scalable')) = 11.25\n",
      "2024-03-20 23:17:02,698 : DEBUG : findfont: score(FontEntry(fname='C:\\\\Windows\\\\Fonts\\\\msjhbd.ttc', name='Microsoft JhengHei', style='normal', variant='normal', weight=700, stretch='normal', size='scalable')) = 10.335\n",
      "2024-03-20 23:17:02,699 : DEBUG : findfont: score(FontEntry(fname='C:\\\\Windows\\\\Fonts\\\\complex_.ttf', name='Complex', style='normal', variant='normal', weight=400, stretch='normal', size='scalable')) = 10.05\n",
      "2024-03-20 23:17:02,700 : DEBUG : findfont: score(FontEntry(fname='C:\\\\Windows\\\\Fonts\\\\mtproxy3.ttf', name='Proxy 3', style='normal', variant='normal', weight=400, stretch='normal', size='scalable')) = 10.05\n",
      "2024-03-20 23:17:02,701 : DEBUG : findfont: score(FontEntry(fname='C:\\\\Windows\\\\Fonts\\\\swissli.ttf', name='Swis721 Lt BT', style='italic', variant='normal', weight=400, stretch='normal', size='scalable')) = 11.05\n",
      "2024-03-20 23:17:02,703 : DEBUG : findfont: score(FontEntry(fname='C:\\\\Windows\\\\Fonts\\\\calibrii.ttf', name='Calibri', style='italic', variant='normal', weight=400, stretch='normal', size='scalable')) = 11.05\n",
      "2024-03-20 23:17:02,704 : DEBUG : findfont: score(FontEntry(fname='C:\\\\Windows\\\\Fonts\\\\Artifakt Element Hair Italic.ttf', name='Artifakt Element', style='italic', variant='normal', weight=100, stretch='normal', size='scalable')) = 11.335\n",
      "2024-03-20 23:17:02,705 : DEBUG : findfont: score(FontEntry(fname='C:\\\\Windows\\\\Fonts\\\\corbelz.ttf', name='Corbel', style='italic', variant='normal', weight=700, stretch='normal', size='scalable')) = 11.335\n",
      "2024-03-20 23:17:02,707 : DEBUG : findfont: score(FontEntry(fname='C:\\\\Windows\\\\Fonts\\\\Artifakt Element Bold Italic.ttf', name='Artifakt Element', style='italic', variant='normal', weight=700, stretch='normal', size='scalable')) = 11.335\n",
      "2024-03-20 23:17:02,708 : DEBUG : findfont: score(FontEntry(fname='C:\\\\Windows\\\\Fonts\\\\monotxt_.ttf', name='Monotxt', style='normal', variant='normal', weight=400, stretch='normal', size='scalable')) = 10.05\n",
      "2024-03-20 23:17:02,708 : DEBUG : findfont: score(FontEntry(fname='C:\\\\Windows\\\\Fonts\\\\REFSPCL.TTF', name='MS Reference Specialty', style='normal', variant='normal', weight=400, stretch='normal', size='scalable')) = 10.05\n",
      "2024-03-20 23:17:02,709 : DEBUG : findfont: score(FontEntry(fname='C:\\\\Windows\\\\Fonts\\\\MTCORSVA.TTF', name='Monotype Corsiva', style='normal', variant='normal', weight=400, stretch='normal', size='scalable')) = 10.05\n",
      "2024-03-20 23:17:02,712 : DEBUG : findfont: score(FontEntry(fname='C:\\\\Windows\\\\Fonts\\\\REFSAN.TTF', name='MS Reference Sans Serif', style='normal', variant='normal', weight=400, stretch='normal', size='scalable')) = 10.05\n",
      "2024-03-20 23:17:02,713 : DEBUG : findfont: score(FontEntry(fname='C:\\\\Windows\\\\Fonts\\\\phagspa.ttf', name='Microsoft PhagsPa', style='normal', variant='normal', weight=400, stretch='normal', size='scalable')) = 10.05\n",
      "2024-03-20 23:17:02,714 : DEBUG : findfont: score(FontEntry(fname='C:\\\\Windows\\\\Fonts\\\\isocpeur.ttf', name='ISOCPEUR', style='normal', variant='normal', weight=400, stretch='normal', size='scalable')) = 10.05\n",
      "2024-03-20 23:17:02,715 : DEBUG : findfont: score(FontEntry(fname='C:\\\\Windows\\\\Fonts\\\\stylu.ttf', name='Stylus BT', style='normal', variant='normal', weight=300, stretch='normal', size='scalable')) = 10.145\n",
      "2024-03-20 23:17:02,716 : DEBUG : findfont: score(FontEntry(fname='C:\\\\Windows\\\\Fonts\\\\tahoma.ttf', name='Tahoma', style='normal', variant='normal', weight=400, stretch='normal', size='scalable')) = 10.05\n",
      "2024-03-20 23:17:02,717 : DEBUG : findfont: score(FontEntry(fname='C:\\\\Windows\\\\Fonts\\\\BSSYM7.TTF', name='Bookshelf Symbol 7', style='normal', variant='normal', weight=400, stretch='normal', size='scalable')) = 10.05\n",
      "2024-03-20 23:17:02,718 : DEBUG : findfont: score(FontEntry(fname='C:\\\\Windows\\\\Fonts\\\\isoct___.ttf', name='ISOCT', style='normal', variant='normal', weight=400, stretch='normal', size='scalable')) = 10.05\n",
      "2024-03-20 23:17:02,720 : DEBUG : findfont: score(FontEntry(fname='C:\\\\Windows\\\\Fonts\\\\swisscli.ttf', name='Swis721 LtCn BT', style='italic', variant='normal', weight=400, stretch='condensed', size='scalable')) = 11.25\n",
      "2024-03-20 23:17:02,721 : DEBUG : findfont: score(FontEntry(fname='C:\\\\Windows\\\\Fonts\\\\Candaraz.ttf', name='Candara', style='italic', variant='normal', weight=700, stretch='normal', size='scalable')) = 11.335\n",
      "2024-03-20 23:17:02,724 : DEBUG : findfont: score(FontEntry(fname='C:\\\\Windows\\\\Fonts\\\\isocpeui.ttf', name='ISOCPEUR', style='italic', variant='normal', weight=400, stretch='normal', size='scalable')) = 11.05\n",
      "2024-03-20 23:17:02,725 : DEBUG : findfont: score(FontEntry(fname='C:\\\\Windows\\\\Fonts\\\\comici.ttf', name='Comic Sans MS', style='italic', variant='normal', weight=400, stretch='normal', size='scalable')) = 11.05\n",
      "2024-03-20 23:17:02,727 : DEBUG : findfont: score(FontEntry(fname='C:\\\\Windows\\\\Fonts\\\\techb___.ttf', name='TechnicBold', style='normal', variant='normal', weight=400, stretch='normal', size='scalable')) = 10.05\n",
      "2024-03-20 23:17:02,729 : DEBUG : findfont: score(FontEntry(fname='C:\\\\Windows\\\\Fonts\\\\bahnschrift.ttf', name='Bahnschrift', style='normal', variant='normal', weight=400, stretch='normal', size='scalable')) = 10.05\n",
      "2024-03-20 23:17:02,731 : DEBUG : findfont: score(FontEntry(fname='C:\\\\Windows\\\\Fonts\\\\verdanai.ttf', name='Verdana', style='italic', variant='normal', weight=400, stretch='normal', size='scalable')) = 4.6863636363636365\n",
      "2024-03-20 23:17:02,733 : DEBUG : findfont: score(FontEntry(fname='C:\\\\Windows\\\\Fonts\\\\swissko.ttf', name='Swis721 BlkOul BT', style='normal', variant='normal', weight=400, stretch='normal', size='scalable')) = 10.05\n",
      "2024-03-20 23:17:02,734 : DEBUG : findfont: score(FontEntry(fname='C:\\\\Windows\\\\Fonts\\\\dutchb.ttf', name='Dutch801 Rm BT', style='normal', variant='normal', weight=700, stretch='normal', size='scalable')) = 10.335\n",
      "2024-03-20 23:17:02,735 : DEBUG : findfont: score(FontEntry(fname='C:\\\\Windows\\\\Fonts\\\\calibrili.ttf', name='Calibri', style='italic', variant='normal', weight=300, stretch='normal', size='scalable')) = 11.145\n",
      "2024-03-20 23:17:02,736 : DEBUG : findfont: score(FontEntry(fname='C:\\\\Windows\\\\Fonts\\\\ARIALN.TTF', name='Arial', style='normal', variant='normal', weight=400, stretch='condensed', size='scalable')) = 6.613636363636363\n",
      "2024-03-20 23:17:02,737 : DEBUG : findfont: score(FontEntry(fname='C:\\\\Windows\\\\Fonts\\\\NirmalaS.ttf', name='Nirmala UI', style='normal', variant='normal', weight=350, stretch='normal', size='scalable')) = 10.0975\n",
      "2024-03-20 23:17:02,739 : DEBUG : findfont: score(FontEntry(fname='C:\\\\Windows\\\\Fonts\\\\msjhl.ttc', name='Microsoft JhengHei', style='normal', variant='normal', weight=290, stretch='normal', size='scalable')) = 10.1545\n",
      "2024-03-20 23:17:02,740 : DEBUG : findfont: score(FontEntry(fname='C:\\\\Windows\\\\Fonts\\\\ARIALNB.TTF', name='Arial', style='normal', variant='normal', weight=700, stretch='condensed', size='scalable')) = 6.8986363636363635\n",
      "2024-03-20 23:17:02,741 : DEBUG : findfont: score(FontEntry(fname='C:\\\\Windows\\\\Fonts\\\\GARAIT.TTF', name='Garamond', style='italic', variant='normal', weight=400, stretch='normal', size='scalable')) = 11.05\n",
      "2024-03-20 23:17:02,746 : DEBUG : findfont: score(FontEntry(fname='C:\\\\Windows\\\\Fonts\\\\AcadEref.ttf', name='AcadEref', style='normal', variant='normal', weight=400, stretch='normal', size='scalable')) = 10.05\n",
      "2024-03-20 23:17:02,748 : DEBUG : findfont: score(FontEntry(fname='C:\\\\Windows\\\\Fonts\\\\corbell.ttf', name='Corbel', style='normal', variant='normal', weight=300, stretch='normal', size='scalable')) = 10.145\n",
      "2024-03-20 23:17:02,751 : DEBUG : findfont: score(FontEntry(fname='C:\\\\Windows\\\\Fonts\\\\Candaral.ttf', name='Candara', style='normal', variant='normal', weight=400, stretch='normal', size='scalable')) = 10.05\n",
      "2024-03-20 23:17:02,752 : DEBUG : findfont: score(FontEntry(fname='C:\\\\Windows\\\\Fonts\\\\ITCKRIST.TTF', name='Kristen ITC', style='normal', variant='normal', weight=400, stretch='normal', size='scalable')) = 10.05\n",
      "2024-03-20 23:17:02,755 : DEBUG : findfont: score(FontEntry(fname='C:\\\\Windows\\\\Fonts\\\\gdt_____.ttf', name='GDT', style='normal', variant='normal', weight=400, stretch='normal', size='scalable')) = 10.05\n",
      "2024-03-20 23:17:02,759 : DEBUG : findfont: score(FontEntry(fname='C:\\\\Windows\\\\Fonts\\\\cityb___.ttf', name='CityBlueprint', style='normal', variant='normal', weight=400, stretch='normal', size='scalable')) = 10.05\n",
      "2024-03-20 23:17:02,762 : DEBUG : findfont: score(FontEntry(fname='C:\\\\Windows\\\\Fonts\\\\mtproxy2.ttf', name='Proxy 2', style='normal', variant='normal', weight=400, stretch='normal', size='scalable')) = 10.05\n",
      "2024-03-20 23:17:02,764 : DEBUG : findfont: score(FontEntry(fname='C:\\\\Windows\\\\Fonts\\\\symap___.ttf', name='Symap', style='normal', variant='normal', weight=400, stretch='normal', size='scalable')) = 10.05\n",
      "2024-03-20 23:17:02,765 : DEBUG : findfont: score(FontEntry(fname='C:\\\\Windows\\\\Fonts\\\\YuGothR.ttc', name='Yu Gothic', style='normal', variant='normal', weight=400, stretch='normal', size='scalable')) = 10.05\n",
      "2024-03-20 23:17:02,766 : DEBUG : findfont: score(FontEntry(fname='C:\\\\Windows\\\\Fonts\\\\comic.ttf', name='Comic Sans MS', style='normal', variant='normal', weight=400, stretch='normal', size='scalable')) = 10.05\n",
      "2024-03-20 23:17:02,768 : DEBUG : findfont: score(FontEntry(fname='C:\\\\Windows\\\\Fonts\\\\constanb.ttf', name='Constantia', style='normal', variant='normal', weight=700, stretch='normal', size='scalable')) = 10.335\n",
      "2024-03-20 23:17:02,769 : DEBUG : findfont: score(FontEntry(fname='C:\\\\Windows\\\\Fonts\\\\phagspab.ttf', name='Microsoft PhagsPa', style='normal', variant='normal', weight=700, stretch='normal', size='scalable')) = 10.335\n",
      "2024-03-20 23:17:02,770 : DEBUG : findfont: score(FontEntry(fname='C:\\\\Windows\\\\Fonts\\\\timesbi.ttf', name='Times New Roman', style='italic', variant='normal', weight=700, stretch='normal', size='scalable')) = 11.335\n",
      "2024-03-20 23:17:02,773 : DEBUG : findfont: score(FontEntry(fname='C:\\\\Windows\\\\Fonts\\\\gothicg_.ttf', name='GothicG', style='normal', variant='normal', weight=400, stretch='normal', size='scalable')) = 10.05\n",
      "2024-03-20 23:17:02,776 : DEBUG : findfont: score(FontEntry(fname='C:\\\\Windows\\\\Fonts\\\\couri.ttf', name='Courier New', style='italic', variant='normal', weight=400, stretch='normal', size='scalable')) = 11.05\n",
      "2024-03-20 23:17:02,777 : DEBUG : findfont: score(FontEntry(fname='C:\\\\Windows\\\\Fonts\\\\swisski.ttf', name='Swis721 Blk BT', style='italic', variant='normal', weight=400, stretch='normal', size='scalable')) = 11.05\n",
      "2024-03-20 23:17:02,781 : DEBUG : findfont: score(FontEntry(fname='C:\\\\Windows\\\\Fonts\\\\monosi.ttf', name='Monospac821 BT', style='italic', variant='normal', weight=400, stretch='normal', size='scalable')) = 11.05\n",
      "2024-03-20 23:17:02,782 : DEBUG : findfont: score(FontEntry(fname='C:\\\\Windows\\\\Fonts\\\\holomdl2.ttf', name='HoloLens MDL2 Assets', style='normal', variant='normal', weight=400, stretch='normal', size='scalable')) = 10.05\n",
      "2024-03-20 23:17:02,784 : DEBUG : findfont: score(FontEntry(fname='C:\\\\Windows\\\\Fonts\\\\WINGDNG3.TTF', name='Wingdings 3', style='normal', variant='normal', weight=400, stretch='normal', size='scalable')) = 10.05\n",
      "2024-03-20 23:17:02,785 : DEBUG : findfont: score(FontEntry(fname='C:\\\\Windows\\\\Fonts\\\\ARIALNI.TTF', name='Arial', style='italic', variant='normal', weight=400, stretch='condensed', size='scalable')) = 7.613636363636363\n",
      "2024-03-20 23:17:02,787 : DEBUG : findfont: score(FontEntry(fname='C:\\\\Windows\\\\Fonts\\\\TEMPSITC.TTF', name='Tempus Sans ITC', style='normal', variant='normal', weight=400, stretch='normal', size='scalable')) = 10.05\n",
      "2024-03-20 23:17:02,788 : DEBUG : findfont: score(FontEntry(fname='C:\\\\Windows\\\\Fonts\\\\sylfaen.ttf', name='Sylfaen', style='normal', variant='normal', weight=400, stretch='normal', size='scalable')) = 10.05\n",
      "2024-03-20 23:17:02,790 : DEBUG : findfont: score(FontEntry(fname='C:\\\\Windows\\\\Fonts\\\\dutchbi.ttf', name='Dutch801 Rm BT', style='italic', variant='normal', weight=700, stretch='normal', size='scalable')) = 11.335\n",
      "2024-03-20 23:17:02,792 : DEBUG : findfont: score(FontEntry(fname='C:\\\\Windows\\\\Fonts\\\\msyi.ttf', name='Microsoft Yi Baiti', style='normal', variant='normal', weight=400, stretch='normal', size='scalable')) = 10.05\n",
      "2024-03-20 23:17:02,793 : DEBUG : findfont: score(FontEntry(fname='C:\\\\Windows\\\\Fonts\\\\technic_.ttf', name='Technic', style='normal', variant='normal', weight=400, stretch='normal', size='scalable')) = 10.05\n",
      "2024-03-20 23:17:02,794 : DEBUG : findfont: score(FontEntry(fname='C:\\\\Windows\\\\Fonts\\\\ntailu.ttf', name='Microsoft New Tai Lue', style='normal', variant='normal', weight=400, stretch='normal', size='scalable')) = 10.05\n",
      "2024-03-20 23:17:02,796 : DEBUG : findfont: score(FontEntry(fname='C:\\\\Windows\\\\Fonts\\\\Gabriola.ttf', name='Gabriola', style='normal', variant='normal', weight=400, stretch='normal', size='scalable')) = 10.05\n",
      "2024-03-20 23:17:02,797 : DEBUG : findfont: score(FontEntry(fname='C:\\\\Windows\\\\Fonts\\\\Candarab.ttf', name='Candara', style='normal', variant='normal', weight=700, stretch='normal', size='scalable')) = 10.335\n",
      "2024-03-20 23:17:02,824 : DEBUG : findfont: score(FontEntry(fname='C:\\\\Windows\\\\Fonts\\\\swisscbo.ttf', name='Swis721 BdCnOul BT', style='normal', variant='normal', weight=400, stretch='condensed', size='scalable')) = 10.25\n",
      "2024-03-20 23:17:02,846 : DEBUG : findfont: score(FontEntry(fname='C:\\\\Windows\\\\Fonts\\\\scripts_.ttf', name='ScriptS', style='normal', variant='normal', weight=400, stretch='normal', size='scalable')) = 10.05\n",
      "2024-03-20 23:17:02,848 : DEBUG : findfont: score(FontEntry(fname='C:\\\\Windows\\\\Fonts\\\\msyhbd.ttc', name='Microsoft YaHei', style='normal', variant='normal', weight=700, stretch='normal', size='scalable')) = 10.335\n",
      "2024-03-20 23:17:02,850 : DEBUG : findfont: score(FontEntry(fname='C:\\\\Windows\\\\Fonts\\\\palabi.ttf', name='Palatino Linotype', style='italic', variant='normal', weight=700, stretch='normal', size='scalable')) = 11.335\n",
      "2024-03-20 23:17:02,853 : DEBUG : findfont: score(FontEntry(fname='C:\\\\Windows\\\\Fonts\\\\msgothic.ttc', name='MS Gothic', style='normal', variant='normal', weight=400, stretch='normal', size='scalable')) = 10.05\n",
      "2024-03-20 23:17:02,855 : DEBUG : findfont: score(FontEntry(fname='C:\\\\Windows\\\\Fonts\\\\corbeli.ttf', name='Corbel', style='italic', variant='normal', weight=400, stretch='normal', size='scalable')) = 11.05\n",
      "2024-03-20 23:17:02,857 : DEBUG : findfont: score(FontEntry(fname='C:\\\\Windows\\\\Fonts\\\\sansso__.ttf', name='SansSerif', style='oblique', variant='normal', weight=400, stretch='normal', size='scalable')) = 11.05\n",
      "2024-03-20 23:17:02,858 : DEBUG : findfont: score(FontEntry(fname='C:\\\\Windows\\\\Fonts\\\\greekc__.ttf', name='GreekC', style='normal', variant='normal', weight=400, stretch='normal', size='scalable')) = 10.05\n",
      "2024-03-20 23:17:02,859 : DEBUG : findfont: score(FontEntry(fname='C:\\\\Windows\\\\Fonts\\\\segoeuisl.ttf', name='Segoe UI', style='normal', variant='normal', weight=350, stretch='normal', size='scalable')) = 10.0975\n",
      "2024-03-20 23:17:02,861 : DEBUG : findfont: score(FontEntry(fname='C:\\\\Windows\\\\Fonts\\\\mtproxy7.ttf', name='Proxy 7', style='normal', variant='normal', weight=400, stretch='normal', size='scalable')) = 10.05\n",
      "2024-03-20 23:17:02,862 : DEBUG : findfont: score(FontEntry(fname='C:\\\\Windows\\\\Fonts\\\\isocp3__.ttf', name='ISOCP3', style='normal', variant='normal', weight=400, stretch='normal', size='scalable')) = 10.05\n",
      "2024-03-20 23:17:02,863 : DEBUG : findfont: score(FontEntry(fname='C:\\\\Windows\\\\Fonts\\\\corbelli.ttf', name='Corbel', style='italic', variant='normal', weight=300, stretch='normal', size='scalable')) = 11.145\n",
      "2024-03-20 23:17:02,864 : DEBUG : findfont: score(FontEntry(fname='C:\\\\Windows\\\\Fonts\\\\cambria.ttc', name='Cambria', style='normal', variant='normal', weight=400, stretch='normal', size='scalable')) = 10.05\n",
      "2024-03-20 23:17:02,865 : DEBUG : findfont: score(FontEntry(fname='C:\\\\Windows\\\\Fonts\\\\swissb.ttf', name='Swis721 BT', style='normal', variant='normal', weight=700, stretch='normal', size='scalable')) = 10.335\n",
      "2024-03-20 23:17:02,866 : DEBUG : findfont: score(FontEntry(fname='C:\\\\Windows\\\\Fonts\\\\swissel.ttf', name='Swis721 LtEx BT', style='normal', variant='normal', weight=400, stretch='expanded', size='scalable')) = 10.25\n",
      "2024-03-20 23:17:02,868 : DEBUG : findfont: score(FontEntry(fname='C:\\\\Windows\\\\Fonts\\\\simplex_.ttf', name='Simplex', style='normal', variant='normal', weight=400, stretch='normal', size='scalable')) = 10.05\n",
      "2024-03-20 23:17:02,868 : DEBUG : findfont: score(FontEntry(fname='C:\\\\Windows\\\\Fonts\\\\compi.ttf', name='CommercialPi BT', style='normal', variant='normal', weight=400, stretch='normal', size='scalable')) = 10.05\n",
      "2024-03-20 23:17:02,870 : DEBUG : findfont: score(FontEntry(fname='C:\\\\Windows\\\\Fonts\\\\swissl.ttf', name='Swis721 Lt BT', style='normal', variant='normal', weight=400, stretch='normal', size='scalable')) = 10.05\n",
      "2024-03-20 23:17:02,871 : DEBUG : findfont: score(FontEntry(fname='C:\\\\Windows\\\\Fonts\\\\verdana.ttf', name='Verdana', style='normal', variant='normal', weight=400, stretch='normal', size='scalable')) = 3.6863636363636365\n",
      "2024-03-20 23:17:02,872 : DEBUG : findfont: score(FontEntry(fname='C:\\\\Windows\\\\Fonts\\\\cambriab.ttf', name='Cambria', style='normal', variant='normal', weight=700, stretch='normal', size='scalable')) = 10.335\n",
      "2024-03-20 23:17:02,873 : DEBUG : findfont: score(FontEntry(fname='C:\\\\Windows\\\\Fonts\\\\seguibli.ttf', name='Segoe UI', style='italic', variant='normal', weight=900, stretch='normal', size='scalable')) = 11.525\n",
      "2024-03-20 23:17:02,875 : DEBUG : findfont: score(FontEntry(fname='C:\\\\Windows\\\\Fonts\\\\GARA.TTF', name='Garamond', style='normal', variant='normal', weight=400, stretch='normal', size='scalable')) = 10.05\n",
      "2024-03-20 23:17:02,876 : DEBUG : findfont: score(FontEntry(fname='C:\\\\Windows\\\\Fonts\\\\constanz.ttf', name='Constantia', style='italic', variant='normal', weight=700, stretch='normal', size='scalable')) = 11.335\n",
      "2024-03-20 23:17:02,878 : DEBUG : findfont: score(FontEntry(fname='C:\\\\Windows\\\\Fonts\\\\BRADHITC.TTF', name='Bradley Hand ITC', style='normal', variant='normal', weight=400, stretch='normal', size='scalable')) = 10.05\n",
      "2024-03-20 23:17:02,880 : DEBUG : findfont: score(FontEntry(fname='C:\\\\Windows\\\\Fonts\\\\romai___.ttf', name='Romantic', style='italic', variant='normal', weight=400, stretch='normal', size='scalable')) = 11.05\n",
      "2024-03-20 23:17:02,881 : DEBUG : findfont: score(FontEntry(fname='C:\\\\Windows\\\\Fonts\\\\monosbi.ttf', name='Monospac821 BT', style='italic', variant='normal', weight=700, stretch='normal', size='scalable')) = 11.335\n",
      "2024-03-20 23:17:02,882 : DEBUG : findfont: score(FontEntry(fname='C:\\\\Windows\\\\Fonts\\\\AMDT_Symbols.ttf', name='AmdtSymbols', style='normal', variant='normal', weight=400, stretch='normal', size='scalable')) = 10.05\n",
      "2024-03-20 23:17:02,884 : DEBUG : findfont: score(FontEntry(fname='C:\\\\Windows\\\\Fonts\\\\wingding.ttf', name='Wingdings', style='normal', variant='normal', weight=400, stretch='normal', size='scalable')) = 10.05\n",
      "2024-03-20 23:17:02,902 : DEBUG : findfont: score(FontEntry(fname='C:\\\\Windows\\\\Fonts\\\\gadugib.ttf', name='Gadugi', style='normal', variant='normal', weight=700, stretch='normal', size='scalable')) = 10.335\n",
      "2024-03-20 23:17:02,904 : DEBUG : findfont: score(FontEntry(fname='C:\\\\Windows\\\\Fonts\\\\YuGothL.ttc', name='Yu Gothic', style='normal', variant='normal', weight=300, stretch='normal', size='scalable')) = 10.145\n",
      "2024-03-20 23:17:02,906 : DEBUG : findfont: score(FontEntry(fname='C:\\\\Windows\\\\Fonts\\\\FREESCPT.TTF', name='Freestyle Script', style='normal', variant='normal', weight=400, stretch='normal', size='scalable')) = 10.05\n",
      "2024-03-20 23:17:02,907 : DEBUG : findfont: score(FontEntry(fname='C:\\\\Windows\\\\Fonts\\\\Artifakt Element Thin.ttf', name='Artifakt Element', style='normal', variant='normal', weight=200, stretch='normal', size='scalable')) = 10.24\n",
      "2024-03-20 23:17:02,910 : DEBUG : findfont: score(FontEntry(fname='C:\\\\Windows\\\\Fonts\\\\Artifakt Element Book.ttf', name='Artifakt Element', style='normal', variant='normal', weight=450, stretch='normal', size='scalable')) = 10.0975\n",
      "2024-03-20 23:17:02,913 : DEBUG : findfont: score(FontEntry(fname='C:\\\\Windows\\\\Fonts\\\\techl___.ttf', name='TechnicLite', style='normal', variant='normal', weight=400, stretch='normal', size='scalable')) = 10.05\n",
      "2024-03-20 23:17:02,915 : DEBUG : findfont: score(FontEntry(fname='C:\\\\Windows\\\\Fonts\\\\JUICE___.TTF', name='Juice ITC', style='normal', variant='normal', weight=400, stretch='normal', size='scalable')) = 10.05\n",
      "2024-03-20 23:17:02,925 : DEBUG : findfont: score(FontEntry(fname='C:\\\\Windows\\\\Fonts\\\\javatext.ttf', name='Javanese Text', style='normal', variant='normal', weight=400, stretch='normal', size='scalable')) = 10.05\n",
      "2024-03-20 23:17:02,927 : DEBUG : findfont: score(FontEntry(fname='C:\\\\Windows\\\\Fonts\\\\Artifakt Element Black Italic.ttf', name='Artifakt Element', style='italic', variant='normal', weight=800, stretch='normal', size='scalable')) = 11.43\n",
      "2024-03-20 23:17:02,928 : DEBUG : findfont: score(FontEntry(fname='C:\\\\Windows\\\\Fonts\\\\GARABD.TTF', name='Garamond', style='normal', variant='normal', weight=700, stretch='normal', size='scalable')) = 10.335\n",
      "2024-03-20 23:17:02,929 : DEBUG : findfont: score(FontEntry(fname='C:\\\\Windows\\\\Fonts\\\\comicbd.ttf', name='Comic Sans MS', style='normal', variant='normal', weight=700, stretch='normal', size='scalable')) = 10.335\n",
      "2024-03-20 23:17:02,930 : DEBUG : findfont: score(FontEntry(fname='C:\\\\Windows\\\\Fonts\\\\taile.ttf', name='Microsoft Tai Le', style='normal', variant='normal', weight=400, stretch='normal', size='scalable')) = 10.05\n",
      "2024-03-20 23:17:02,931 : DEBUG : findfont: score(FontEntry(fname='C:\\\\Windows\\\\Fonts\\\\webdings.ttf', name='Webdings', style='normal', variant='normal', weight=400, stretch='normal', size='scalable')) = 10.05\n",
      "2024-03-20 23:17:02,932 : DEBUG : findfont: score(FontEntry(fname='C:\\\\Windows\\\\Fonts\\\\AMGDT___.ttf', name='AMGDT', style='normal', variant='normal', weight=400, stretch='normal', size='scalable')) = 10.05\n",
      "2024-03-20 23:17:02,933 : DEBUG : findfont: score(FontEntry(fname='C:\\\\Windows\\\\Fonts\\\\calibriz.ttf', name='Calibri', style='italic', variant='normal', weight=700, stretch='normal', size='scalable')) = 11.335\n",
      "2024-03-20 23:17:02,934 : DEBUG : findfont: score(FontEntry(fname='C:\\\\Windows\\\\Fonts\\\\eurro___.ttf', name='EuroRoman', style='oblique', variant='normal', weight=400, stretch='normal', size='scalable')) = 11.05\n",
      "2024-03-20 23:17:02,935 : DEBUG : findfont: score(FontEntry(fname='C:\\\\Windows\\\\Fonts\\\\impact.ttf', name='Impact', style='normal', variant='normal', weight=400, stretch='normal', size='scalable')) = 10.05\n",
      "2024-03-20 23:17:02,936 : DEBUG : findfont: score(FontEntry(fname='C:\\\\Windows\\\\Fonts\\\\Artifakt Element Medium Italic.ttf', name='Artifakt Element', style='italic', variant='normal', weight=600, stretch='normal', size='scalable')) = 11.24\n",
      "2024-03-20 23:17:02,937 : DEBUG : findfont: score(FontEntry(fname='C:\\\\Windows\\\\Fonts\\\\simsun.ttc', name='SimSun', style='normal', variant='normal', weight=400, stretch='normal', size='scalable')) = 10.05\n",
      "2024-03-20 23:17:02,938 : DEBUG : findfont: score(FontEntry(fname='C:\\\\Windows\\\\Fonts\\\\malgunsl.ttf', name='Malgun Gothic', style='normal', variant='normal', weight=300, stretch='normal', size='scalable')) = 10.145\n",
      "2024-03-20 23:17:02,940 : DEBUG : findfont: score(FontEntry(fname='C:\\\\Windows\\\\Fonts\\\\swissbo.ttf', name='Swis721 BdOul BT', style='normal', variant='normal', weight=400, stretch='normal', size='scalable')) = 10.05\n",
      "2024-03-20 23:17:02,941 : DEBUG : findfont: score(FontEntry(fname='C:\\\\Windows\\\\Fonts\\\\constan.ttf', name='Constantia', style='normal', variant='normal', weight=400, stretch='normal', size='scalable')) = 10.05\n",
      "2024-03-20 23:17:02,942 : DEBUG : findfont: score(FontEntry(fname='C:\\\\Windows\\\\Fonts\\\\swissi.ttf', name='Swis721 BT', style='italic', variant='normal', weight=400, stretch='normal', size='scalable')) = 11.05\n",
      "2024-03-20 23:17:02,943 : DEBUG : findfont: score(FontEntry(fname='C:\\\\Windows\\\\Fonts\\\\CascadiaMono.ttf', name='Cascadia Mono', style='normal', variant='normal', weight=400, stretch='normal', size='scalable')) = 10.05\n",
      "2024-03-20 23:17:02,944 : DEBUG : findfont: score(FontEntry(fname='C:\\\\Windows\\\\Fonts\\\\GOTHICI.TTF', name='Century Gothic', style='italic', variant='normal', weight=400, stretch='normal', size='scalable')) = 11.05\n",
      "2024-03-20 23:17:02,946 : DEBUG : findfont: score(FontEntry(fname='C:\\\\Windows\\\\Fonts\\\\seguibl.ttf', name='Segoe UI', style='normal', variant='normal', weight=900, stretch='normal', size='scalable')) = 10.525\n",
      "2024-03-20 23:17:02,947 : DEBUG : findfont: score(FontEntry(fname='C:\\\\Windows\\\\Fonts\\\\mtproxy8.ttf', name='Proxy 8', style='normal', variant='normal', weight=400, stretch='normal', size='scalable')) = 10.05\n",
      "2024-03-20 23:17:02,948 : DEBUG : findfont: score(FontEntry(fname='C:\\\\Windows\\\\Fonts\\\\panroman.ttf', name='PanRoman', style='normal', variant='normal', weight=400, stretch='normal', size='scalable')) = 10.05\n",
      "2024-03-20 23:17:02,951 : DEBUG : findfont: score(FontEntry(fname='C:\\\\Windows\\\\Fonts\\\\Nirmala.ttf', name='Nirmala UI', style='normal', variant='normal', weight=400, stretch='normal', size='scalable')) = 10.05\n",
      "2024-03-20 23:17:02,953 : DEBUG : findfont: score(FontEntry(fname='C:\\\\Windows\\\\Fonts\\\\PRISTINA.TTF', name='Pristina', style='normal', variant='normal', weight=400, stretch='normal', size='scalable')) = 10.05\n",
      "2024-03-20 23:17:02,957 : DEBUG : findfont: score(FontEntry(fname='C:\\\\Windows\\\\Fonts\\\\GOTHIC.TTF', name='Century Gothic', style='normal', variant='normal', weight=400, stretch='normal', size='scalable')) = 10.05\n",
      "2024-03-20 23:17:02,960 : DEBUG : findfont: score(FontEntry(fname='C:\\\\Windows\\\\Fonts\\\\Artifakt Element Hair.ttf', name='Artifakt Element', style='normal', variant='normal', weight=100, stretch='normal', size='scalable')) = 10.335\n",
      "2024-03-20 23:17:02,962 : DEBUG : findfont: score(FontEntry(fname='C:\\\\Windows\\\\Fonts\\\\isocteur.ttf', name='ISOCTEUR', style='normal', variant='normal', weight=400, stretch='normal', size='scalable')) = 10.05\n",
      "2024-03-20 23:17:02,964 : DEBUG : findfont: score(FontEntry(fname='C:\\\\Windows\\\\Fonts\\\\swisscbi.ttf', name='Swis721 Cn BT', style='italic', variant='normal', weight=700, stretch='condensed', size='scalable')) = 11.535\n",
      "2024-03-20 23:17:02,966 : DEBUG : findfont: score(FontEntry(fname='C:\\\\Windows\\\\Fonts\\\\calibril.ttf', name='Calibri', style='normal', variant='normal', weight=300, stretch='normal', size='scalable')) = 10.145\n",
      "2024-03-20 23:17:02,967 : DEBUG : findfont: score(FontEntry(fname='C:\\\\Windows\\\\Fonts\\\\SegUIVar.ttf', name='Segoe UI Variable', style='normal', variant='normal', weight=400, stretch='normal', size='scalable')) = 10.05\n",
      "2024-03-20 23:17:02,969 : DEBUG : findfont: score(FontEntry(fname='C:\\\\Windows\\\\Fonts\\\\GENISO.ttf', name='GENISO', style='normal', variant='normal', weight=400, stretch='normal', size='scalable')) = 10.05\n",
      "2024-03-20 23:17:02,971 : DEBUG : findfont: score(FontEntry(fname='C:\\\\Windows\\\\Fonts\\\\segoepr.ttf', name='Segoe Print', style='normal', variant='normal', weight=400, stretch='normal', size='scalable')) = 10.05\n",
      "2024-03-20 23:17:02,973 : DEBUG : findfont: score(FontEntry(fname='C:\\\\Windows\\\\Fonts\\\\italict_.ttf', name='ItalicT', style='italic', variant='normal', weight=400, stretch='normal', size='scalable')) = 11.05\n",
      "2024-03-20 23:17:02,974 : DEBUG : findfont: score(FontEntry(fname='C:\\\\Windows\\\\Fonts\\\\segoescb.ttf', name='Segoe Script', style='normal', variant='normal', weight=700, stretch='normal', size='scalable')) = 10.335\n",
      "2024-03-20 23:17:02,977 : DEBUG : findfont: score(FontEntry(fname='C:\\\\Windows\\\\Fonts\\\\framdit.ttf', name='Franklin Gothic Medium', style='italic', variant='normal', weight=400, stretch='normal', size='scalable')) = 11.05\n",
      "2024-03-20 23:17:02,979 : DEBUG : findfont: score(FontEntry(fname='C:\\\\Windows\\\\Fonts\\\\swisse.ttf', name='Swis721 Ex BT', style='normal', variant='normal', weight=400, stretch='expanded', size='scalable')) = 10.25\n",
      "2024-03-20 23:17:02,980 : DEBUG : findfont: score(FontEntry(fname='C:\\\\Windows\\\\Fonts\\\\mtproxy9.ttf', name='Proxy 9', style='normal', variant='normal', weight=400, stretch='normal', size='scalable')) = 10.05\n",
      "2024-03-20 23:17:02,981 : DEBUG : findfont: score(FontEntry(fname='C:\\\\Windows\\\\Fonts\\\\Artifakt Element LIght.ttf', name='Artifakt Element', style='normal', variant='normal', weight=300, stretch='normal', size='scalable')) = 10.145\n",
      "2024-03-20 23:17:02,983 : DEBUG : findfont: score(FontEntry(fname='C:\\\\Windows\\\\Fonts\\\\swissc.ttf', name='Swis721 Cn BT', style='normal', variant='normal', weight=400, stretch='condensed', size='scalable')) = 10.25\n",
      "2024-03-20 23:17:02,984 : DEBUG : findfont: score(FontEntry(fname='C:\\\\Windows\\\\Fonts\\\\ARIALUNI.ttf', name='Arial Unicode MS', style='normal', variant='normal', weight=400, stretch='normal', size='scalable')) = 10.05\n",
      "2024-03-20 23:17:02,985 : DEBUG : findfont: score(FontEntry(fname='C:\\\\Windows\\\\Fonts\\\\Artifakt Element Black.ttf', name='Artifakt Element', style='normal', variant='normal', weight=800, stretch='normal', size='scalable')) = 10.43\n",
      "2024-03-20 23:17:02,986 : DEBUG : findfont: score(FontEntry(fname='C:\\\\Windows\\\\Fonts\\\\Artifakt Element Bold.ttf', name='Artifakt Element', style='normal', variant='normal', weight=700, stretch='normal', size='scalable')) = 10.335\n",
      "2024-03-20 23:17:02,987 : DEBUG : findfont: score(FontEntry(fname='C:\\\\Windows\\\\Fonts\\\\bgothm.ttf', name='BankGothic Md BT', style='normal', variant='normal', weight=400, stretch='normal', size='scalable')) = 10.05\n",
      "2024-03-20 23:17:02,988 : DEBUG : findfont: score(FontEntry(fname='C:\\\\Windows\\\\Fonts\\\\arialbd.ttf', name='Arial', style='normal', variant='normal', weight=700, stretch='normal', size='scalable')) = 6.698636363636363\n",
      "2024-03-20 23:17:02,989 : DEBUG : findfont: score(FontEntry(fname='C:\\\\Windows\\\\Fonts\\\\georgiab.ttf', name='Georgia', style='normal', variant='normal', weight=700, stretch='normal', size='scalable')) = 10.335\n",
      "2024-03-20 23:17:02,990 : DEBUG : findfont: score(FontEntry(fname='C:\\\\Windows\\\\Fonts\\\\sanss___.ttf', name='SansSerif', style='normal', variant='normal', weight=400, stretch='normal', size='scalable')) = 10.05\n",
      "2024-03-20 23:17:02,991 : DEBUG : findfont: score(FontEntry(fname='C:\\\\Windows\\\\Fonts\\\\timesbd.ttf', name='Times New Roman', style='normal', variant='normal', weight=700, stretch='normal', size='scalable')) = 10.335\n",
      "2024-03-20 23:17:02,992 : DEBUG : findfont: score(FontEntry(fname='C:\\\\Windows\\\\Fonts\\\\Candara.ttf', name='Candara', style='normal', variant='normal', weight=400, stretch='normal', size='scalable')) = 10.05\n",
      "2024-03-20 23:17:02,996 : DEBUG : findfont: score(FontEntry(fname='C:\\\\Windows\\\\Fonts\\\\consola.ttf', name='Consolas', style='normal', variant='normal', weight=400, stretch='normal', size='scalable')) = 10.05\n",
      "2024-03-20 23:17:02,997 : DEBUG : findfont: Matching sans\\-serif:style=normal:variant=normal:weight=normal:stretch=normal:size=12.0 to DejaVu Sans ('C:\\\\Users\\\\satya\\\\AppData\\\\Local\\\\Packages\\\\PythonSoftwareFoundation.Python.3.11_qbz5n2kfra8p0\\\\LocalCache\\\\local-packages\\\\Python311\\\\site-packages\\\\matplotlib\\\\mpl-data\\\\fonts\\\\ttf\\\\DejaVuSans.ttf') with score of 0.050000.\n"
     ]
    },
    {
     "data": {
      "image/png": "[encoded data removed]",
      "text/plain": [
       "<Figure size 1000x600 with 1 Axes>"
      ]
     },
     "metadata": {},
     "output_type": "display_data"
    },
    {
     "data": {
      "image/png": "[encoded data removed]",
      "text/plain": [
       "<Figure size 1000x600 with 1 Axes>"
      ]
     },
     "metadata": {},
     "output_type": "display_data"
    }
   ],
   "source": [
    "import matplotlib.pyplot as plt\n",
    "\n",
    "# Extract IDs and scores from sorted recommendations\n",
    "ids = [recommend[0] for recommend in sorted_recommendations]\n",
    "scores = [recommend[1] for recommend in sorted_recommendations]\n",
    "\n",
    "# Bar plot\n",
    "plt.figure(figsize=(10, 6))\n",
    "plt.bar(ids, scores, color='skyblue')\n",
    "plt.title('Scores for Different IDs (Bar Plot)')\n",
    "plt.xlabel('ID')\n",
    "plt.ylabel('Score')\n",
    "plt.xticks(rotation=45, ha='right')  # Rotate x-axis labels for better readability\n",
    "plt.tight_layout()\n",
    "plt.show()\n",
    "\n",
    "# Scatter plot\n",
    "plt.figure(figsize=(10, 6))\n",
    "plt.scatter(ids, scores, color='orange', alpha=0.7)\n",
    "plt.title('Scores for Different IDs (Scatter Plot)')\n",
    "plt.xlabel('ID')\n",
    "plt.ylabel('Score')\n",
    "plt.xticks(rotation=45, ha='right')  # Rotate x-axis labels for better readability\n",
    "plt.tight_layout()\n",
    "plt.show()\n"
   ]
  },
  {
   "cell_type": "code",
   "execution_count": 32,
   "metadata": {},
   "outputs": [
    {
     "name": "stderr",
     "output_type": "stream",
     "text": [
      "2024-03-20 23:28:51,348 : DEBUG : close.started\n",
      "2024-03-20 23:28:51,350 : DEBUG : close.complete\n",
      "2024-03-20 23:28:51,352 : DEBUG : connect_tcp.started host='b54f2f73-aa84-43cb-9e5b-48738d261af3.us-east4-0.gcp.cloud.qdrant.io' port=6333 local_address=None timeout=5.0 socket_options=None\n",
      "2024-03-20 23:28:51,630 : DEBUG : connect_tcp.complete return_value=<httpcore._backends.sync.SyncStream object at 0x000002B4DBBE17D0>\n",
      "2024-03-20 23:28:51,632 : DEBUG : start_tls.started ssl_context=<ssl.SSLContext object at 0x000002B4DA5F8710> server_hostname='b54f2f73-aa84-43cb-9e5b-48738d261af3.us-east4-0.gcp.cloud.qdrant.io' timeout=5.0\n",
      "2024-03-20 23:28:51,908 : DEBUG : start_tls.complete return_value=<httpcore._backends.sync.SyncStream object at 0x000002B4DBADA9D0>\n",
      "2024-03-20 23:28:51,910 : DEBUG : send_request_headers.started request=<Request [b'POST']>\n",
      "2024-03-20 23:28:51,912 : DEBUG : send_request_headers.complete\n",
      "2024-03-20 23:28:51,914 : DEBUG : send_request_body.started request=<Request [b'POST']>\n",
      "2024-03-20 23:28:51,916 : DEBUG : send_request_body.complete\n",
      "2024-03-20 23:28:51,919 : DEBUG : receive_response_headers.started request=<Request [b'POST']>\n",
      "2024-03-20 23:28:52,182 : DEBUG : receive_response_headers.complete return_value=(b'HTTP/1.1', 200, b'OK', [(b'Content-Encoding', b'gzip'), (b'Content-Type', b'application/json'), (b'Date', b'Wed, 20 Mar 2024 17:58:52 GMT'), (b'Vary', b'accept-encoding, Origin, Access-Control-Request-Method, Access-Control-Request-Headers'), (b'Transfer-Encoding', b'chunked')])\n",
      "2024-03-20 23:28:52,184 : INFO : HTTP Request: POST https://b54f2f73-aa84-43cb-9e5b-48738d261af3.us-east4-0.gcp.cloud.qdrant.io:6333/collections/test_collection_country/points \"HTTP/1.1 200 OK\"\n",
      "2024-03-20 23:28:52,186 : DEBUG : receive_response_body.started request=<Request [b'POST']>\n",
      "2024-03-20 23:28:52,449 : DEBUG : receive_response_body.complete\n",
      "2024-03-20 23:28:52,450 : DEBUG : response_closed.started\n",
      "2024-03-20 23:28:52,452 : DEBUG : response_closed.complete\n"
     ]
    },
    {
     "data": {
      "text/plain": [
       "[0.060385756, 0.07749039, -0.04740037, 0.111623615, -0.02930445]"
      ]
     },
     "execution_count": 32,
     "metadata": {},
     "output_type": "execute_result"
    }
   ],
   "source": [
    "complete_data = client.retrieve(\n",
    "    collection_name=country_collection_name,\n",
    "    ids= [data[0] for data in sorted_recommendations],\n",
    "    with_vectors=True\n",
    ")\n",
    "\n",
    "# Extract vectors from complete_data\n",
    "vector_data = [data.vector for data in complete_data]\n",
    "vector_data[0][:5]\n"
   ]
  },
  {
   "cell_type": "code",
   "execution_count": 34,
   "metadata": {},
   "outputs": [
    {
     "data": {
      "image/png": "[encoded data removed]",
      "text/plain": [
       "<Figure size 800x600 with 1 Axes>"
      ]
     },
     "metadata": {},
     "output_type": "display_data"
    }
   ],
   "source": [
    "import numpy as np\n",
    "import matplotlib.pyplot as plt\n",
    "from sklearn.decomposition import PCA\n",
    "\n",
    "# Reduce dimensionality using PCA\n",
    "pca = PCA(n_components=3)\n",
    "vectors_3d = pca.fit_transform(vector_data)\n",
    "\n",
    "# Create 3D scatter plot\n",
    "fig = plt.figure(figsize=(8, 6))\n",
    "ax = fig.add_subplot(111, projection='3d')\n",
    "\n",
    "# Plot 3D scatter plot\n",
    "ax.scatter(vectors_3d[:, 0], vectors_3d[:, 1], vectors_3d[:, 2], c='b', marker='o')\n",
    "\n",
    "# Set labels and title\n",
    "ax.set_xlabel('PC1')\n",
    "ax.set_ylabel('PC2')\n",
    "ax.set_zlabel('PC3')\n",
    "ax.set_title('PCA 3D Scatter Plot')\n",
    "\n",
    "plt.show()\n"
   ]
  },
  {
   "cell_type": "code",
   "execution_count": 37,
   "metadata": {},
   "outputs": [
    {
     "data": {
      "application/vnd.plotly.v1+json": {
       "config": {
        "plotlyServerURL": "https://plot.ly"
       },
       "data": [
        {
         "marker": {
          "color": "blue",
          "opacity": 0.8,
          "size": 5
         },
         "mode": "markers",
         "type": "scatter3d",
         "x": [
          -0.03042567948804942,
          0.11679243460231477,
          -0.37176750146852594,
          -0.37176750146852605,
          0.03977620313584133,
          0.0527166837550132,
          0.05271668375501322,
          0.6940736072430181,
          0.6940736072430181,
          -0.060757142091774304,
          -0.06689154246159192,
          -0.33032546074123026,
          -0.3303254607412303,
          0.09216214522417648,
          -0.18911644287823895,
          0.08317926558797839,
          -0.07230625344037415,
          0.0922216997558799,
          0.0320081111732351,
          -0.4555777092880302,
          -0.4555777092880301,
          -0.07176786079463558,
          0.09609713943421255,
          -0.1561532312110619,
          -0.3002079855104221,
          0.5061090993907453,
          0.5061090993907453,
          0.3967094932502785,
          0.18160071743956568,
          0.18160071743956566,
          -0.30900167523452243,
          -0.30900167523452243,
          0.14684619411612831,
          -0.08382207059596382
         ],
         "y": [
          -0.05245792390655853,
          -0.27053061977780135,
          0.03604102972558391,
          0.03604102972558383,
          0.10999557624891229,
          -0.6711847997347554,
          -0.6711847997347553,
          0.007084291645476327,
          0.00708429164547642,
          -0.043920790690495384,
          -0.0764781830737021,
          -0.47055062181578783,
          -0.470550621815788,
          0.015057146372054436,
          0.22468691628605178,
          0.17879072761530893,
          0.04922832733295577,
          -0.0695909297938882,
          0.2767820412304737,
          -0.03632860885922854,
          -0.03632860885922851,
          -0.1575121744645352,
          0.04745433868762866,
          -0.03456915095491301,
          0.07151218054305168,
          0.2774378482386736,
          0.2774378482386737,
          -0.14568545894902316,
          -0.012083195409375205,
          -0.012083195409375158,
          0.6998610509467194,
          0.6998610509467194,
          0.09186538608952065,
          0.12481860173034783
         ],
         "z": [
          -0.06542894598865849,
          -0.33538291220814836,
          0.2336995802861684,
          0.23369958028616863,
          -0.15242538103138698,
          -0.24910516098113128,
          -0.2491051609811313,
          -0.2695840053008649,
          -0.26958400530086485,
          0.06275272919902693,
          -0.18310434514866297,
          0.42479402288457574,
          0.42479402288457585,
          -0.2707879037567007,
          -0.06457386470116355,
          -0.1473179773171175,
          -0.08440679290714222,
          -0.029198275656810706,
          -0.28993987290210466,
          -0.017633553577200558,
          -0.017633553577200402,
          -0.24317006341191344,
          0.22090615253264811,
          -0.12387737581515004,
          -0.34947625042066116,
          0.4213604170264013,
          0.4213604170264013,
          -0.09047562350356275,
          0.5910630083748548,
          0.5910630083748548,
          -0.12679471337834622,
          -0.1267947133783463,
          0.2983992672229973,
          -0.16809175485440273
         ]
        }
       ],
       "layout": {
        "scene": {
         "xaxis": {
          "title": {
           "text": "PC1"
          }
         },
         "yaxis": {
          "title": {
           "text": "PC2"
          }
         },
         "zaxis": {
          "title": {
           "text": "PC3"
          }
         }
        },
        "template": {
         "data": {
          "bar": [
           {
            "error_x": {
             "color": "#2a3f5f"
            },
            "error_y": {
             "color": "#2a3f5f"
            },
            "marker": {
             "line": {
              "color": "#E5ECF6",
              "width": 0.5
             },
             "pattern": {
              "fillmode": "overlay",
              "size": 10,
              "solidity": 0.2
             }
            },
            "type": "bar"
           }
          ],
          "barpolar": [
           {
            "marker": {
             "line": {
              "color": "#E5ECF6",
              "width": 0.5
             },
             "pattern": {
              "fillmode": "overlay",
              "size": 10,
              "solidity": 0.2
             }
            },
            "type": "barpolar"
           }
          ],
          "carpet": [
           {
            "aaxis": {
             "endlinecolor": "#2a3f5f",
             "gridcolor": "white",
             "linecolor": "white",
             "minorgridcolor": "white",
             "startlinecolor": "#2a3f5f"
            },
            "baxis": {
             "endlinecolor": "#2a3f5f",
             "gridcolor": "white",
             "linecolor": "white",
             "minorgridcolor": "white",
             "startlinecolor": "#2a3f5f"
            },
            "type": "carpet"
           }
          ],
          "choropleth": [
           {
            "colorbar": {
             "outlinewidth": 0,
             "ticks": ""
            },
            "type": "choropleth"
           }
          ],
          "contour": [
           {
            "colorbar": {
             "outlinewidth": 0,
             "ticks": ""
            },
            "colorscale": [
             [
              0,
              "#0d0887"
             ],
             [
              0.1111111111111111,
              "#46039f"
             ],
             [
              0.2222222222222222,
              "#7201a8"
             ],
             [
              0.3333333333333333,
              "#9c179e"
             ],
             [
              0.4444444444444444,
              "#bd3786"
             ],
             [
              0.5555555555555556,
              "#d8576b"
             ],
             [
              0.6666666666666666,
              "#ed7953"
             ],
             [
              0.7777777777777778,
              "#fb9f3a"
             ],
             [
              0.8888888888888888,
              "#fdca26"
             ],
             [
              1,
              "#f0f921"
             ]
            ],
            "type": "contour"
           }
          ],
          "contourcarpet": [
           {
            "colorbar": {
             "outlinewidth": 0,
             "ticks": ""
            },
            "type": "contourcarpet"
           }
          ],
          "heatmap": [
           {
            "colorbar": {
             "outlinewidth": 0,
             "ticks": ""
            },
            "colorscale": [
             [
              0,
              "#0d0887"
             ],
             [
              0.1111111111111111,
              "#46039f"
             ],
             [
              0.2222222222222222,
              "#7201a8"
             ],
             [
              0.3333333333333333,
              "#9c179e"
             ],
             [
              0.4444444444444444,
              "#bd3786"
             ],
             [
              0.5555555555555556,
              "#d8576b"
             ],
             [
              0.6666666666666666,
              "#ed7953"
             ],
             [
              0.7777777777777778,
              "#fb9f3a"
             ],
             [
              0.8888888888888888,
              "#fdca26"
             ],
             [
              1,
              "#f0f921"
             ]
            ],
            "type": "heatmap"
           }
          ],
          "heatmapgl": [
           {
            "colorbar": {
             "outlinewidth": 0,
             "ticks": ""
            },
            "colorscale": [
             [
              0,
              "#0d0887"
             ],
             [
              0.1111111111111111,
              "#46039f"
             ],
             [
              0.2222222222222222,
              "#7201a8"
             ],
             [
              0.3333333333333333,
              "#9c179e"
             ],
             [
              0.4444444444444444,
              "#bd3786"
             ],
             [
              0.5555555555555556,
              "#d8576b"
             ],
             [
              0.6666666666666666,
              "#ed7953"
             ],
             [
              0.7777777777777778,
              "#fb9f3a"
             ],
             [
              0.8888888888888888,
              "#fdca26"
             ],
             [
              1,
              "#f0f921"
             ]
            ],
            "type": "heatmapgl"
           }
          ],
          "histogram": [
           {
            "marker": {
             "pattern": {
              "fillmode": "overlay",
              "size": 10,
              "solidity": 0.2
             }
            },
            "type": "histogram"
           }
          ],
          "histogram2d": [
           {
            "colorbar": {
             "outlinewidth": 0,
             "ticks": ""
            },
            "colorscale": [
             [
              0,
              "#0d0887"
             ],
             [
              0.1111111111111111,
              "#46039f"
             ],
             [
              0.2222222222222222,
              "#7201a8"
             ],
             [
              0.3333333333333333,
              "#9c179e"
             ],
             [
              0.4444444444444444,
              "#bd3786"
             ],
             [
              0.5555555555555556,
              "#d8576b"
             ],
             [
              0.6666666666666666,
              "#ed7953"
             ],
             [
              0.7777777777777778,
              "#fb9f3a"
             ],
             [
              0.8888888888888888,
              "#fdca26"
             ],
             [
              1,
              "#f0f921"
             ]
            ],
            "type": "histogram2d"
           }
          ],
          "histogram2dcontour": [
           {
            "colorbar": {
             "outlinewidth": 0,
             "ticks": ""
            },
            "colorscale": [
             [
              0,
              "#0d0887"
             ],
             [
              0.1111111111111111,
              "#46039f"
             ],
             [
              0.2222222222222222,
              "#7201a8"
             ],
             [
              0.3333333333333333,
              "#9c179e"
             ],
             [
              0.4444444444444444,
              "#bd3786"
             ],
             [
              0.5555555555555556,
              "#d8576b"
             ],
             [
              0.6666666666666666,
              "#ed7953"
             ],
             [
              0.7777777777777778,
              "#fb9f3a"
             ],
             [
              0.8888888888888888,
              "#fdca26"
             ],
             [
              1,
              "#f0f921"
             ]
            ],
            "type": "histogram2dcontour"
           }
          ],
          "mesh3d": [
           {
            "colorbar": {
             "outlinewidth": 0,
             "ticks": ""
            },
            "type": "mesh3d"
           }
          ],
          "parcoords": [
           {
            "line": {
             "colorbar": {
              "outlinewidth": 0,
              "ticks": ""
             }
            },
            "type": "parcoords"
           }
          ],
          "pie": [
           {
            "automargin": true,
            "type": "pie"
           }
          ],
          "scatter": [
           {
            "fillpattern": {
             "fillmode": "overlay",
             "size": 10,
             "solidity": 0.2
            },
            "type": "scatter"
           }
          ],
          "scatter3d": [
           {
            "line": {
             "colorbar": {
              "outlinewidth": 0,
              "ticks": ""
             }
            },
            "marker": {
             "colorbar": {
              "outlinewidth": 0,
              "ticks": ""
             }
            },
            "type": "scatter3d"
           }
          ],
          "scattercarpet": [
           {
            "marker": {
             "colorbar": {
              "outlinewidth": 0,
              "ticks": ""
             }
            },
            "type": "scattercarpet"
           }
          ],
          "scattergeo": [
           {
            "marker": {
             "colorbar": {
              "outlinewidth": 0,
              "ticks": ""
             }
            },
            "type": "scattergeo"
           }
          ],
          "scattergl": [
           {
            "marker": {
             "colorbar": {
              "outlinewidth": 0,
              "ticks": ""
             }
            },
            "type": "scattergl"
           }
          ],
          "scattermapbox": [
           {
            "marker": {
             "colorbar": {
              "outlinewidth": 0,
              "ticks": ""
             }
            },
            "type": "scattermapbox"
           }
          ],
          "scatterpolar": [
           {
            "marker": {
             "colorbar": {
              "outlinewidth": 0,
              "ticks": ""
             }
            },
            "type": "scatterpolar"
           }
          ],
          "scatterpolargl": [
           {
            "marker": {
             "colorbar": {
              "outlinewidth": 0,
              "ticks": ""
             }
            },
            "type": "scatterpolargl"
           }
          ],
          "scatterternary": [
           {
            "marker": {
             "colorbar": {
              "outlinewidth": 0,
              "ticks": ""
             }
            },
            "type": "scatterternary"
           }
          ],
          "surface": [
           {
            "colorbar": {
             "outlinewidth": 0,
             "ticks": ""
            },
            "colorscale": [
             [
              0,
              "#0d0887"
             ],
             [
              0.1111111111111111,
              "#46039f"
             ],
             [
              0.2222222222222222,
              "#7201a8"
             ],
             [
              0.3333333333333333,
              "#9c179e"
             ],
             [
              0.4444444444444444,
              "#bd3786"
             ],
             [
              0.5555555555555556,
              "#d8576b"
             ],
             [
              0.6666666666666666,
              "#ed7953"
             ],
             [
              0.7777777777777778,
              "#fb9f3a"
             ],
             [
              0.8888888888888888,
              "#fdca26"
             ],
             [
              1,
              "#f0f921"
             ]
            ],
            "type": "surface"
           }
          ],
          "table": [
           {
            "cells": {
             "fill": {
              "color": "#EBF0F8"
             },
             "line": {
              "color": "white"
             }
            },
            "header": {
             "fill": {
              "color": "#C8D4E3"
             },
             "line": {
              "color": "white"
             }
            },
            "type": "table"
           }
          ]
         },
         "layout": {
          "annotationdefaults": {
           "arrowcolor": "#2a3f5f",
           "arrowhead": 0,
           "arrowwidth": 1
          },
          "autotypenumbers": "strict",
          "coloraxis": {
           "colorbar": {
            "outlinewidth": 0,
            "ticks": ""
           }
          },
          "colorscale": {
           "diverging": [
            [
             0,
             "#8e0152"
            ],
            [
             0.1,
             "#c51b7d"
            ],
            [
             0.2,
             "#de77ae"
            ],
            [
             0.3,
             "#f1b6da"
            ],
            [
             0.4,
             "#fde0ef"
            ],
            [
             0.5,
             "#f7f7f7"
            ],
            [
             0.6,
             "#e6f5d0"
            ],
            [
             0.7,
             "#b8e186"
            ],
            [
             0.8,
             "#7fbc41"
            ],
            [
             0.9,
             "#4d9221"
            ],
            [
             1,
             "#276419"
            ]
           ],
           "sequential": [
            [
             0,
             "#0d0887"
            ],
            [
             0.1111111111111111,
             "#46039f"
            ],
            [
             0.2222222222222222,
             "#7201a8"
            ],
            [
             0.3333333333333333,
             "#9c179e"
            ],
            [
             0.4444444444444444,
             "#bd3786"
            ],
            [
             0.5555555555555556,
             "#d8576b"
            ],
            [
             0.6666666666666666,
             "#ed7953"
            ],
            [
             0.7777777777777778,
             "#fb9f3a"
            ],
            [
             0.8888888888888888,
             "#fdca26"
            ],
            [
             1,
             "#f0f921"
            ]
           ],
           "sequentialminus": [
            [
             0,
             "#0d0887"
            ],
            [
             0.1111111111111111,
             "#46039f"
            ],
            [
             0.2222222222222222,
             "#7201a8"
            ],
            [
             0.3333333333333333,
             "#9c179e"
            ],
            [
             0.4444444444444444,
             "#bd3786"
            ],
            [
             0.5555555555555556,
             "#d8576b"
            ],
            [
             0.6666666666666666,
             "#ed7953"
            ],
            [
             0.7777777777777778,
             "#fb9f3a"
            ],
            [
             0.8888888888888888,
             "#fdca26"
            ],
            [
             1,
             "#f0f921"
            ]
           ]
          },
          "colorway": [
           "#636efa",
           "#EF553B",
           "#00cc96",
           "#ab63fa",
           "#FFA15A",
           "#19d3f3",
           "#FF6692",
           "#B6E880",
           "#FF97FF",
           "#FECB52"
          ],
          "font": {
           "color": "#2a3f5f"
          },
          "geo": {
           "bgcolor": "white",
           "lakecolor": "white",
           "landcolor": "#E5ECF6",
           "showlakes": true,
           "showland": true,
           "subunitcolor": "white"
          },
          "hoverlabel": {
           "align": "left"
          },
          "hovermode": "closest",
          "mapbox": {
           "style": "light"
          },
          "paper_bgcolor": "white",
          "plot_bgcolor": "#E5ECF6",
          "polar": {
           "angularaxis": {
            "gridcolor": "white",
            "linecolor": "white",
            "ticks": ""
           },
           "bgcolor": "#E5ECF6",
           "radialaxis": {
            "gridcolor": "white",
            "linecolor": "white",
            "ticks": ""
           }
          },
          "scene": {
           "xaxis": {
            "backgroundcolor": "#E5ECF6",
            "gridcolor": "white",
            "gridwidth": 2,
            "linecolor": "white",
            "showbackground": true,
            "ticks": "",
            "zerolinecolor": "white"
           },
           "yaxis": {
            "backgroundcolor": "#E5ECF6",
            "gridcolor": "white",
            "gridwidth": 2,
            "linecolor": "white",
            "showbackground": true,
            "ticks": "",
            "zerolinecolor": "white"
           },
           "zaxis": {
            "backgroundcolor": "#E5ECF6",
            "gridcolor": "white",
            "gridwidth": 2,
            "linecolor": "white",
            "showbackground": true,
            "ticks": "",
            "zerolinecolor": "white"
           }
          },
          "shapedefaults": {
           "line": {
            "color": "#2a3f5f"
           }
          },
          "ternary": {
           "aaxis": {
            "gridcolor": "white",
            "linecolor": "white",
            "ticks": ""
           },
           "baxis": {
            "gridcolor": "white",
            "linecolor": "white",
            "ticks": ""
           },
           "bgcolor": "#E5ECF6",
           "caxis": {
            "gridcolor": "white",
            "linecolor": "white",
            "ticks": ""
           }
          },
          "title": {
           "x": 0.05
          },
          "xaxis": {
           "automargin": true,
           "gridcolor": "white",
           "linecolor": "white",
           "ticks": "",
           "title": {
            "standoff": 15
           },
           "zerolinecolor": "white",
           "zerolinewidth": 2
          },
          "yaxis": {
           "automargin": true,
           "gridcolor": "white",
           "linecolor": "white",
           "ticks": "",
           "title": {
            "standoff": 15
           },
           "zerolinecolor": "white",
           "zerolinewidth": 2
          }
         }
        },
        "title": {
         "text": "PCA 3D Scatter Plot"
        }
       }
      }
     },
     "metadata": {},
     "output_type": "display_data"
    }
   ],
   "source": [
    "import numpy as np\n",
    "import plotly.graph_objs as go\n",
    "from sklearn.decomposition import PCA\n",
    "\n",
    "# Reduce dimensionality using PCA\n",
    "pca = PCA(n_components=3)\n",
    "vectors_3d = pca.fit_transform(vector_data)\n",
    "\n",
    "# Create interactive scatter plot with Plotly\n",
    "fig = go.Figure(data=[go.Scatter3d(\n",
    "    x=vectors_3d[:, 0],\n",
    "    y=vectors_3d[:, 1],\n",
    "    z=vectors_3d[:, 2],\n",
    "    mode='markers',\n",
    "    marker=dict(\n",
    "        size=5,\n",
    "        color='blue',                # set color to an array/list of desired values\n",
    "        opacity=0.8\n",
    "    )\n",
    ")])\n",
    "\n",
    "# Set layout options\n",
    "fig.update_layout(\n",
    "    scene=dict(\n",
    "        xaxis_title='PC1',\n",
    "        yaxis_title='PC2',\n",
    "        zaxis_title='PC3'\n",
    "    ),\n",
    "    title='PCA 3D Scatter Plot'\n",
    ")\n",
    "\n",
    "# Show the plot\n",
    "fig.show()\n"
   ]
  },
  {
   "cell_type": "code",
   "execution_count": null,
   "metadata": {},
   "outputs": [],
   "source": []
  }
 ],
 "metadata": {
  "kernelspec": {
   "display_name": "Python 3",
   "language": "python",
   "name": "python3"
  },
  "language_info": {
   "codemirror_mode": {
    "name": "ipython",
    "version": 3
   },
   "file_extension": ".py",
   "mimetype": "text/x-python",
   "name": "python",
   "nbconvert_exporter": "python",
   "pygments_lexer": "ipython3",
   "version": "3.11.8"
  }
 },
 "nbformat": 4,
 "nbformat_minor": 2
}
