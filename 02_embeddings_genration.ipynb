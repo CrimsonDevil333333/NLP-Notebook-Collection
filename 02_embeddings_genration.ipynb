{
 "cells": [
  {
   "cell_type": "markdown",
   "metadata": {},
   "source": [
    "### Sample program to create embeddings using 'gensim'\n",
    "\n",
    "<!-- ```py\n",
    "from gensim.models import Word2Vec\n",
    "\n",
    "# Sample sentences\n",
    "sentences = [\n",
    "    ['this', 'is', 'a', 'sample', 'sentence'],\n",
    "    ['another', 'example', 'sentence'],\n",
    "    ['yet', 'another', 'sentence'],\n",
    "    ['one', 'more', 'example'],\n",
    "    ['one', 'more', 'examples'],\n",
    "]\n",
    "\n",
    "# Train Word2Vec model\n",
    "model = Word2Vec(sentences, vector_size=100, window=100, min_count=1, workers=4)\n",
    "\n",
    "# Get the embedding vector for a word\n",
    "word_embedding = model.wv['examples']\n",
    "print(\"Embedding for 'examples':\", word_embedding[:4])\n",
    "\n",
    "# Find similar words\n",
    "similar_words = model.wv.most_similar('example', topn=3)\n",
    "print(\"Similar words to 'example':\", similar_words)\n",
    "\n",
    "model.wv.key_to_index.keys()\n",
    "``` -->"
   ]
  },
  {
   "cell_type": "code",
   "execution_count": 1,
   "metadata": {},
   "outputs": [],
   "source": [
    "import logging\n",
    "logging.basicConfig(format='%(asctime)s : %(levelname)s : %(message)s', level=logging.DEBUG)"
   ]
  },
  {
   "cell_type": "code",
   "execution_count": 2,
   "metadata": {},
   "outputs": [],
   "source": [
    "# Creating random data with there embedings\n",
    "\n",
    "import pandas as pd\n",
    "from gensim.models import Word2Vec\n",
    "import numpy as np\n",
    "from faker import Faker\n",
    "\n",
    "dummy_data_genrator = Faker()\n",
    "data_volume = 1_000"
   ]
  },
  {
   "cell_type": "code",
   "execution_count": 3,
   "metadata": {},
   "outputs": [],
   "source": [
    "payload_data = []\n",
    "\n",
    "for r in range(data_volume):\n",
    "    payload_data.append(\n",
    "        {\n",
    "            \"name\":dummy_data_genrator.name(),\n",
    "            \"address\":dummy_data_genrator.address(),\n",
    "            \"country\":dummy_data_genrator.country(),\n",
    "            \"url\":dummy_data_genrator.url(),\n",
    "            \"year\":dummy_data_genrator.year(),\n",
    "            \"color\":dummy_data_genrator.color()\n",
    "        }\n",
    "    )"
   ]
  },
  {
   "cell_type": "code",
   "execution_count": 4,
   "metadata": {},
   "outputs": [
    {
     "data": {
      "text/html": [
       "<div>\n",
       "<style scoped>\n",
       "    .dataframe tbody tr th:only-of-type {\n",
       "        vertical-align: middle;\n",
       "    }\n",
       "\n",
       "    .dataframe tbody tr th {\n",
       "        vertical-align: top;\n",
       "    }\n",
       "\n",
       "    .dataframe thead th {\n",
       "        text-align: right;\n",
       "    }\n",
       "</style>\n",
       "<table border=\"1\" class=\"dataframe\">\n",
       "  <thead>\n",
       "    <tr style=\"text-align: right;\">\n",
       "      <th></th>\n",
       "      <th>name</th>\n",
       "      <th>address</th>\n",
       "      <th>country</th>\n",
       "      <th>url</th>\n",
       "      <th>year</th>\n",
       "      <th>color</th>\n",
       "    </tr>\n",
       "  </thead>\n",
       "  <tbody>\n",
       "    <tr>\n",
       "      <th>0</th>\n",
       "      <td>Angel Douglas</td>\n",
       "      <td>08993 Hendrix Ways Apt. 402\\nMartintown, PA 59699</td>\n",
       "      <td>San Marino</td>\n",
       "      <td>http://www.larson.com/</td>\n",
       "      <td>2019</td>\n",
       "      <td>#998eed</td>\n",
       "    </tr>\n",
       "    <tr>\n",
       "      <th>1</th>\n",
       "      <td>Lynn Patterson</td>\n",
       "      <td>716 Shannon Club Suite 773\\nEast Kelly, FL 98700</td>\n",
       "      <td>United States Minor Outlying Islands</td>\n",
       "      <td>http://www.raymond.com/</td>\n",
       "      <td>1976</td>\n",
       "      <td>#c19a22</td>\n",
       "    </tr>\n",
       "  </tbody>\n",
       "</table>\n",
       "</div>"
      ],
      "text/plain": [
       "             name                                            address  \\\n",
       "0   Angel Douglas  08993 Hendrix Ways Apt. 402\\nMartintown, PA 59699   \n",
       "1  Lynn Patterson   716 Shannon Club Suite 773\\nEast Kelly, FL 98700   \n",
       "\n",
       "                                country                      url  year  \\\n",
       "0                            San Marino   http://www.larson.com/  2019   \n",
       "1  United States Minor Outlying Islands  http://www.raymond.com/  1976   \n",
       "\n",
       "     color  \n",
       "0  #998eed  \n",
       "1  #c19a22  "
      ]
     },
     "execution_count": 4,
     "metadata": {},
     "output_type": "execute_result"
    }
   ],
   "source": [
    "df = pd.DataFrame(payload_data)\n",
    "df.head(2)"
   ]
  },
  {
   "cell_type": "code",
   "execution_count": 5,
   "metadata": {},
   "outputs": [
    {
     "data": {
      "text/plain": [
       "[['San Marino', '2019'],\n",
       " ['United States Minor Outlying Islands', '1976'],\n",
       " ['Wallis and Futuna', '2007']]"
      ]
     },
     "execution_count": 5,
     "metadata": {},
     "output_type": "execute_result"
    }
   ],
   "source": [
    "extracted_country_data = [[data['country'], data['year']] for index, data in df.iterrows()]\n",
    "extracted_country_data[:3]"
   ]
  },
  {
   "cell_type": "code",
   "execution_count": 6,
   "metadata": {},
   "outputs": [
    {
     "name": "stderr",
     "output_type": "stream",
     "text": [
      "2024-03-20 22:32:06,889 : INFO : collecting all words and their counts\n",
      "2024-03-20 22:32:06,890 : INFO : PROGRESS: at sentence #0, processed 0 words, keeping 0 word types\n",
      "2024-03-20 22:32:06,892 : INFO : collected 291 word types from a corpus of 2000 raw words and 1000 sentences\n",
      "2024-03-20 22:32:06,893 : INFO : Creating a fresh vocabulary\n",
      "2024-03-20 22:32:06,897 : DEBUG : starting a new internal lifecycle event log for Word2Vec\n",
      "2024-03-20 22:32:06,898 : INFO : Word2Vec lifecycle event {'msg': 'effective_min_count=1 retains 291 unique words (100.00% of original 291, drops 0)', 'datetime': '2024-03-20T22:32:06.897469', 'gensim': '4.3.2', 'python': '3.11.8 (tags/v3.11.8:db85d51, Feb  6 2024, 22:03:32) [MSC v.1937 64 bit (AMD64)]', 'platform': 'Windows-10-10.0.22631-SP0', 'event': 'prepare_vocab'}\n",
      "2024-03-20 22:32:06,899 : INFO : Word2Vec lifecycle event {'msg': 'effective_min_count=1 leaves 2000 word corpus (100.00% of original 2000, drops 0)', 'datetime': '2024-03-20T22:32:06.899465', 'gensim': '4.3.2', 'python': '3.11.8 (tags/v3.11.8:db85d51, Feb  6 2024, 22:03:32) [MSC v.1937 64 bit (AMD64)]', 'platform': 'Windows-10-10.0.22631-SP0', 'event': 'prepare_vocab'}\n",
      "2024-03-20 22:32:06,904 : INFO : deleting the raw counts dictionary of 291 items\n",
      "2024-03-20 22:32:06,906 : INFO : sample=0.001 downsamples 112 most-common words\n",
      "2024-03-20 22:32:06,906 : INFO : Word2Vec lifecycle event {'msg': 'downsampling leaves estimated 1365.6329974353594 word corpus (68.3%% of prior 2000)', 'datetime': '2024-03-20T22:32:06.906468', 'gensim': '4.3.2', 'python': '3.11.8 (tags/v3.11.8:db85d51, Feb  6 2024, 22:03:32) [MSC v.1937 64 bit (AMD64)]', 'platform': 'Windows-10-10.0.22631-SP0', 'event': 'prepare_vocab'}\n",
      "2024-03-20 22:32:06,912 : INFO : estimated required memory for 291 words and 100 dimensions: 378300 bytes\n",
      "2024-03-20 22:32:06,915 : INFO : resetting layer weights\n",
      "2024-03-20 22:32:06,917 : INFO : Word2Vec lifecycle event {'update': False, 'trim_rule': 'None', 'datetime': '2024-03-20T22:32:06.917469', 'gensim': '4.3.2', 'python': '3.11.8 (tags/v3.11.8:db85d51, Feb  6 2024, 22:03:32) [MSC v.1937 64 bit (AMD64)]', 'platform': 'Windows-10-10.0.22631-SP0', 'event': 'build_vocab'}\n",
      "2024-03-20 22:32:06,919 : INFO : Word2Vec lifecycle event {'msg': 'training model with 4 workers on 291 vocabulary and 100 features, using sg=0 hs=0 sample=0.001 negative=5 window=5 shrink_windows=True', 'datetime': '2024-03-20T22:32:06.919468', 'gensim': '4.3.2', 'python': '3.11.8 (tags/v3.11.8:db85d51, Feb  6 2024, 22:03:32) [MSC v.1937 64 bit (AMD64)]', 'platform': 'Windows-10-10.0.22631-SP0', 'event': 'train'}\n",
      "2024-03-20 22:32:06,925 : DEBUG : job loop exiting, total 1 jobs\n",
      "2024-03-20 22:32:06,929 : DEBUG : worker exiting, processed 0 jobs\n",
      "2024-03-20 22:32:06,929 : DEBUG : worker exiting, processed 0 jobs\n",
      "2024-03-20 22:32:06,930 : DEBUG : worker exiting, processed 0 jobs\n",
      "2024-03-20 22:32:06,930 : DEBUG : worker thread finished; awaiting finish of 3 more threads\n",
      "2024-03-20 22:32:06,949 : DEBUG : worker exiting, processed 1 jobs\n",
      "2024-03-20 22:32:06,959 : DEBUG : worker thread finished; awaiting finish of 2 more threads\n",
      "2024-03-20 22:32:06,963 : DEBUG : worker thread finished; awaiting finish of 1 more threads\n",
      "2024-03-20 22:32:06,964 : DEBUG : worker thread finished; awaiting finish of 0 more threads\n",
      "2024-03-20 22:32:06,966 : INFO : EPOCH 0: training on 2000 raw words (1359 effective words) took 0.0s, 37498 effective words/s\n",
      "2024-03-20 22:32:06,972 : DEBUG : job loop exiting, total 1 jobs\n",
      "2024-03-20 22:32:06,976 : DEBUG : worker exiting, processed 0 jobs\n",
      "2024-03-20 22:32:06,976 : DEBUG : worker exiting, processed 0 jobs\n",
      "2024-03-20 22:32:06,976 : DEBUG : worker exiting, processed 0 jobs\n",
      "2024-03-20 22:32:06,977 : DEBUG : worker thread finished; awaiting finish of 3 more threads\n",
      "2024-03-20 22:32:06,981 : DEBUG : worker exiting, processed 1 jobs\n",
      "2024-03-20 22:32:06,990 : DEBUG : worker thread finished; awaiting finish of 2 more threads\n",
      "2024-03-20 22:32:06,995 : DEBUG : worker thread finished; awaiting finish of 1 more threads\n",
      "2024-03-20 22:32:06,997 : DEBUG : worker thread finished; awaiting finish of 0 more threads\n",
      "2024-03-20 22:32:06,998 : INFO : EPOCH 1: training on 2000 raw words (1362 effective words) took 0.0s, 57440 effective words/s\n",
      "2024-03-20 22:32:07,006 : DEBUG : job loop exiting, total 1 jobs\n",
      "2024-03-20 22:32:07,013 : DEBUG : worker exiting, processed 0 jobs\n",
      "2024-03-20 22:32:07,013 : DEBUG : worker thread finished; awaiting finish of 3 more threads\n",
      "2024-03-20 22:32:07,013 : DEBUG : worker exiting, processed 0 jobs\n",
      "2024-03-20 22:32:07,014 : DEBUG : worker exiting, processed 0 jobs\n",
      "2024-03-20 22:32:07,019 : DEBUG : worker exiting, processed 1 jobs\n",
      "2024-03-20 22:32:07,021 : DEBUG : worker thread finished; awaiting finish of 2 more threads\n",
      "2024-03-20 22:32:07,047 : DEBUG : worker thread finished; awaiting finish of 1 more threads\n",
      "2024-03-20 22:32:07,050 : DEBUG : worker thread finished; awaiting finish of 0 more threads\n",
      "2024-03-20 22:32:07,051 : INFO : EPOCH 2: training on 2000 raw words (1376 effective words) took 0.0s, 36371 effective words/s\n",
      "2024-03-20 22:32:07,059 : DEBUG : job loop exiting, total 1 jobs\n",
      "2024-03-20 22:32:07,062 : DEBUG : worker exiting, processed 0 jobs\n",
      "2024-03-20 22:32:07,063 : DEBUG : worker exiting, processed 0 jobs\n",
      "2024-03-20 22:32:07,063 : DEBUG : worker exiting, processed 0 jobs\n",
      "2024-03-20 22:32:07,063 : DEBUG : worker thread finished; awaiting finish of 3 more threads\n",
      "2024-03-20 22:32:07,091 : DEBUG : worker exiting, processed 1 jobs\n",
      "2024-03-20 22:32:07,100 : DEBUG : worker thread finished; awaiting finish of 2 more threads\n",
      "2024-03-20 22:32:07,103 : DEBUG : worker thread finished; awaiting finish of 1 more threads\n",
      "2024-03-20 22:32:07,104 : DEBUG : worker thread finished; awaiting finish of 0 more threads\n",
      "2024-03-20 22:32:07,106 : INFO : EPOCH 3: training on 2000 raw words (1367 effective words) took 0.0s, 31919 effective words/s\n",
      "2024-03-20 22:32:07,111 : DEBUG : job loop exiting, total 1 jobs\n",
      "2024-03-20 22:32:07,114 : DEBUG : worker exiting, processed 0 jobs\n",
      "2024-03-20 22:32:07,114 : DEBUG : worker exiting, processed 0 jobs\n",
      "2024-03-20 22:32:07,114 : DEBUG : worker exiting, processed 0 jobs\n",
      "2024-03-20 22:32:07,115 : DEBUG : worker thread finished; awaiting finish of 3 more threads\n",
      "2024-03-20 22:32:07,118 : DEBUG : worker exiting, processed 1 jobs\n",
      "2024-03-20 22:32:07,130 : DEBUG : worker thread finished; awaiting finish of 2 more threads\n",
      "2024-03-20 22:32:07,137 : DEBUG : worker thread finished; awaiting finish of 1 more threads\n",
      "2024-03-20 22:32:07,139 : DEBUG : worker thread finished; awaiting finish of 0 more threads\n",
      "2024-03-20 22:32:07,141 : INFO : EPOCH 4: training on 2000 raw words (1341 effective words) took 0.0s, 47731 effective words/s\n",
      "2024-03-20 22:32:07,143 : INFO : Word2Vec lifecycle event {'msg': 'training on 10000 raw words (6805 effective words) took 0.2s, 30482 effective words/s', 'datetime': '2024-03-20T22:32:07.143467', 'gensim': '4.3.2', 'python': '3.11.8 (tags/v3.11.8:db85d51, Feb  6 2024, 22:03:32) [MSC v.1937 64 bit (AMD64)]', 'platform': 'Windows-10-10.0.22631-SP0', 'event': 'train'}\n",
      "2024-03-20 22:32:07,144 : INFO : Word2Vec lifecycle event {'params': 'Word2Vec<vocab=291, vector_size=100, alpha=0.025>', 'datetime': '2024-03-20T22:32:07.144468', 'gensim': '4.3.2', 'python': '3.11.8 (tags/v3.11.8:db85d51, Feb  6 2024, 22:03:32) [MSC v.1937 64 bit (AMD64)]', 'platform': 'Windows-10-10.0.22631-SP0', 'event': 'created'}\n"
     ]
    }
   ],
   "source": [
    "# Train Word2Vec model\n",
    "# Adjust parameters like vector_size (dimensionality of the embeddings), window (context window size), and min_count (minimum frequency of words) based on your dataset and requirements.\n",
    "# Use meaningful variable names for better readability and maintainability.\n",
    "vector_size = 100  # Dimensionality of the embeddings\n",
    "window = 5  # Context window size\n",
    "min_count = 1  # Minimum frequency of words\n",
    "workers = 4  # Number of worker threads to train the model\n",
    "model = Word2Vec(extracted_country_data, vector_size=vector_size, window=window, min_count=min_count, workers=workers)"
   ]
  },
  {
   "cell_type": "code",
   "execution_count": 7,
   "metadata": {},
   "outputs": [
    {
     "data": {
      "text/plain": [
       "['1988', '1970', '1985']"
      ]
     },
     "execution_count": 7,
     "metadata": {},
     "output_type": "execute_result"
    }
   ],
   "source": [
    "# Get keys (words) from the Word2Vec model\n",
    "list(model.wv.key_to_index.keys())[:3]"
   ]
  },
  {
   "cell_type": "code",
   "execution_count": 8,
   "metadata": {},
   "outputs": [
    {
     "data": {
      "text/plain": [
       "(array([-0.00295571,  0.00201463], dtype=float32),\n",
       " array([0.00954947, 0.00739194], dtype=float32))"
      ]
     },
     "execution_count": 8,
     "metadata": {},
     "output_type": "execute_result"
    }
   ],
   "source": [
    "# Get embeddings for each user\n",
    "country_embeddings = []\n",
    "year_embeddings = []\n",
    "for idx, row in df.iterrows():\n",
    "    country = row['country']\n",
    "    year = row['year']\n",
    "    country_embeddings.append(model.wv[str(country)])\n",
    "    year_embeddings.append(model.wv[str(year)])\n",
    "country_embeddings[1][:2], year_embeddings[1][:2]\n"
   ]
  },
  {
   "cell_type": "code",
   "execution_count": 9,
   "metadata": {},
   "outputs": [
    {
     "data": {
      "text/plain": [
       "(1000, 1000, 1000)"
      ]
     },
     "execution_count": 9,
     "metadata": {},
     "output_type": "execute_result"
    }
   ],
   "source": [
    "len(country_embeddings), len(year_embeddings), len(payload_data)"
   ]
  },
  {
   "cell_type": "markdown",
   "metadata": {},
   "source": [
    "### Storing embeddings in vector database"
   ]
  },
  {
   "cell_type": "code",
   "execution_count": 10,
   "metadata": {},
   "outputs": [
    {
     "name": "stderr",
     "output_type": "stream",
     "text": [
      "2024-03-20 22:32:17,982 : DEBUG : load_ssl_context verify=True cert=None trust_env=True http2=False\n",
      "2024-03-20 22:32:17,988 : DEBUG : load_verify_locations capath='c:\\\\Users\\\\satya\\\\.vscode\\\\extensions\\\\ukoloff.win-ca-3.5.1\\\\node_modules\\\\win-ca\\\\pem'\n"
     ]
    },
    {
     "data": {
      "text/plain": [
       "<qdrant_client.qdrant_client.QdrantClient at 0x1cc1ddc4110>"
      ]
     },
     "execution_count": 10,
     "metadata": {},
     "output_type": "execute_result"
    }
   ],
   "source": [
    "from utilities import get_key\n",
    "\n",
    "from qdrant_client import QdrantClient\n",
    "from qdrant_client.http import models\n",
    "\n",
    "client = QdrantClient(\n",
    "    url=get_key(\"QDRANT_URL\"),\n",
    "    api_key=get_key(\"QDRANT_KEY\"),\n",
    ")\n",
    "client"
   ]
  },
  {
   "cell_type": "code",
   "execution_count": 11,
   "metadata": {},
   "outputs": [
    {
     "data": {
      "text/plain": [
       "('test_collection_country', 'test_collection_year', [0, 1, 2], 1000)"
      ]
     },
     "execution_count": 11,
     "metadata": {},
     "output_type": "execute_result"
    }
   ],
   "source": [
    "country_collection_name = \"test_collection_country\"\n",
    "year_collection_name = \"test_collection_year\"\n",
    "index = list(range(data_volume))\n",
    "country_collection_name,year_collection_name, index[:3], len(index)"
   ]
  },
  {
   "cell_type": "code",
   "execution_count": 12,
   "metadata": {},
   "outputs": [
    {
     "name": "stderr",
     "output_type": "stream",
     "text": [
      "2024-03-20 22:32:23,529 : DEBUG : connect_tcp.started host='b54f2f73-aa84-43cb-9e5b-48738d261af3.us-east4-0.gcp.cloud.qdrant.io' port=6333 local_address=None timeout=5.0 socket_options=None\n",
      "2024-03-20 22:32:23,812 : DEBUG : connect_tcp.complete return_value=<httpcore._backends.sync.SyncStream object at 0x000001CC1EA16D90>\n",
      "2024-03-20 22:32:23,813 : DEBUG : start_tls.started ssl_context=<ssl.SSLContext object at 0x000001CC1FAF8710> server_hostname='b54f2f73-aa84-43cb-9e5b-48738d261af3.us-east4-0.gcp.cloud.qdrant.io' timeout=5.0\n",
      "2024-03-20 22:32:24,082 : DEBUG : start_tls.complete return_value=<httpcore._backends.sync.SyncStream object at 0x000001CC1EB21D50>\n",
      "2024-03-20 22:32:24,083 : DEBUG : send_request_headers.started request=<Request [b'PUT']>\n",
      "2024-03-20 22:32:24,084 : DEBUG : send_request_headers.complete\n",
      "2024-03-20 22:32:24,086 : DEBUG : send_request_body.started request=<Request [b'PUT']>\n",
      "2024-03-20 22:32:24,088 : DEBUG : send_request_body.complete\n",
      "2024-03-20 22:32:24,089 : DEBUG : receive_response_headers.started request=<Request [b'PUT']>\n",
      "2024-03-20 22:32:24,491 : DEBUG : receive_response_headers.complete return_value=(b'HTTP/1.1', 200, b'OK', [(b'Content-Encoding', b'gzip'), (b'Content-Type', b'application/json'), (b'Date', b'Wed, 20 Mar 2024 17:02:24 GMT'), (b'Vary', b'accept-encoding, Origin, Access-Control-Request-Method, Access-Control-Request-Headers'), (b'Transfer-Encoding', b'chunked')])\n",
      "2024-03-20 22:32:24,494 : INFO : HTTP Request: PUT https://b54f2f73-aa84-43cb-9e5b-48738d261af3.us-east4-0.gcp.cloud.qdrant.io:6333/collections/test_collection_year \"HTTP/1.1 200 OK\"\n",
      "2024-03-20 22:32:24,496 : DEBUG : receive_response_body.started request=<Request [b'PUT']>\n",
      "2024-03-20 22:32:24,498 : DEBUG : receive_response_body.complete\n",
      "2024-03-20 22:32:24,500 : DEBUG : response_closed.started\n",
      "2024-03-20 22:32:24,501 : DEBUG : response_closed.complete\n",
      "2024-03-20 22:32:24,504 : DEBUG : send_request_headers.started request=<Request [b'PUT']>\n",
      "2024-03-20 22:32:24,507 : DEBUG : send_request_headers.complete\n",
      "2024-03-20 22:32:24,509 : DEBUG : send_request_body.started request=<Request [b'PUT']>\n",
      "2024-03-20 22:32:24,512 : DEBUG : send_request_body.complete\n",
      "2024-03-20 22:32:24,514 : DEBUG : receive_response_headers.started request=<Request [b'PUT']>\n",
      "2024-03-20 22:32:24,915 : DEBUG : receive_response_headers.complete return_value=(b'HTTP/1.1', 200, b'OK', [(b'Content-Encoding', b'gzip'), (b'Content-Type', b'application/json'), (b'Date', b'Wed, 20 Mar 2024 17:02:24 GMT'), (b'Vary', b'accept-encoding, Origin, Access-Control-Request-Method, Access-Control-Request-Headers'), (b'Transfer-Encoding', b'chunked')])\n",
      "2024-03-20 22:32:24,916 : INFO : HTTP Request: PUT https://b54f2f73-aa84-43cb-9e5b-48738d261af3.us-east4-0.gcp.cloud.qdrant.io:6333/collections/test_collection_country \"HTTP/1.1 200 OK\"\n",
      "2024-03-20 22:32:24,917 : DEBUG : receive_response_body.started request=<Request [b'PUT']>\n",
      "2024-03-20 22:32:24,918 : DEBUG : receive_response_body.complete\n",
      "2024-03-20 22:32:24,920 : DEBUG : response_closed.started\n",
      "2024-03-20 22:32:24,921 : DEBUG : response_closed.complete\n"
     ]
    }
   ],
   "source": [
    "try:\n",
    "    client.create_collection(\n",
    "        collection_name=year_collection_name,\n",
    "        vectors_config=models.VectorParams(size=100, distance=models.Distance.COSINE)\n",
    "    )\n",
    "    client.create_collection(\n",
    "        collection_name=country_collection_name,\n",
    "        vectors_config=models.VectorParams(size=100, distance=models.Distance.COSINE)\n",
    "    )\n",
    "except Exception as ex:\n",
    "    print(ex)"
   ]
  },
  {
   "cell_type": "code",
   "execution_count": 13,
   "metadata": {},
   "outputs": [
    {
     "name": "stderr",
     "output_type": "stream",
     "text": [
      "2024-03-20 22:32:28,333 : DEBUG : send_request_headers.started request=<Request [b'PUT']>\n",
      "2024-03-20 22:32:28,335 : DEBUG : send_request_headers.complete\n",
      "2024-03-20 22:32:28,336 : DEBUG : send_request_body.started request=<Request [b'PUT']>\n",
      "2024-03-20 22:32:30,180 : DEBUG : send_request_body.complete\n",
      "2024-03-20 22:32:30,181 : DEBUG : receive_response_headers.started request=<Request [b'PUT']>\n",
      "2024-03-20 22:32:31,051 : DEBUG : receive_response_headers.complete return_value=(b'HTTP/1.1', 200, b'OK', [(b'Content-Encoding', b'gzip'), (b'Content-Type', b'application/json'), (b'Date', b'Wed, 20 Mar 2024 17:02:30 GMT'), (b'Vary', b'accept-encoding, Origin, Access-Control-Request-Method, Access-Control-Request-Headers'), (b'Transfer-Encoding', b'chunked')])\n",
      "2024-03-20 22:32:31,053 : INFO : HTTP Request: PUT https://b54f2f73-aa84-43cb-9e5b-48738d261af3.us-east4-0.gcp.cloud.qdrant.io:6333/collections/test_collection_country/points?wait=true \"HTTP/1.1 200 OK\"\n",
      "2024-03-20 22:32:31,054 : DEBUG : receive_response_body.started request=<Request [b'PUT']>\n",
      "2024-03-20 22:32:31,056 : DEBUG : receive_response_body.complete\n",
      "2024-03-20 22:32:31,057 : DEBUG : response_closed.started\n",
      "2024-03-20 22:32:31,058 : DEBUG : response_closed.complete\n",
      "2024-03-20 22:32:31,126 : DEBUG : send_request_headers.started request=<Request [b'PUT']>\n",
      "2024-03-20 22:32:31,128 : DEBUG : send_request_headers.complete\n",
      "2024-03-20 22:32:31,129 : DEBUG : send_request_body.started request=<Request [b'PUT']>\n",
      "2024-03-20 22:32:31,415 : DEBUG : send_request_body.complete\n",
      "2024-03-20 22:32:31,416 : DEBUG : receive_response_headers.started request=<Request [b'PUT']>\n",
      "2024-03-20 22:32:32,647 : DEBUG : receive_response_headers.complete return_value=(b'HTTP/1.1', 200, b'OK', [(b'Content-Encoding', b'gzip'), (b'Content-Type', b'application/json'), (b'Date', b'Wed, 20 Mar 2024 17:02:32 GMT'), (b'Vary', b'accept-encoding, Origin, Access-Control-Request-Method, Access-Control-Request-Headers'), (b'Transfer-Encoding', b'chunked')])\n",
      "2024-03-20 22:32:32,648 : INFO : HTTP Request: PUT https://b54f2f73-aa84-43cb-9e5b-48738d261af3.us-east4-0.gcp.cloud.qdrant.io:6333/collections/test_collection_year/points?wait=true \"HTTP/1.1 200 OK\"\n",
      "2024-03-20 22:32:32,649 : DEBUG : receive_response_body.started request=<Request [b'PUT']>\n",
      "2024-03-20 22:32:32,651 : DEBUG : receive_response_body.complete\n",
      "2024-03-20 22:32:32,652 : DEBUG : response_closed.started\n",
      "2024-03-20 22:32:32,653 : DEBUG : response_closed.complete\n"
     ]
    },
    {
     "data": {
      "text/plain": [
       "UpdateResult(operation_id=0, status=<UpdateStatus.COMPLETED: 'completed'>)"
      ]
     },
     "execution_count": 13,
     "metadata": {},
     "output_type": "execute_result"
    }
   ],
   "source": [
    "client.upsert(\n",
    "    collection_name=country_collection_name,\n",
    "    points=models.Batch(\n",
    "        ids=index,\n",
    "        vectors=country_embeddings, # Include both sets of embeddings\n",
    "        payloads=payload_data\n",
    "    )\n",
    ")\n",
    "\n",
    "client.upsert(\n",
    "    collection_name=year_collection_name,\n",
    "    points=models.Batch(\n",
    "        ids=index,\n",
    "        vectors=year_embeddings, # Include both sets of embeddings\n",
    "        payloads=payload_data\n",
    "    )\n",
    ")"
   ]
  },
  {
   "cell_type": "markdown",
   "metadata": {},
   "source": [
    "### Recommend people location of other based on the location and year"
   ]
  },
  {
   "cell_type": "code",
   "execution_count": 17,
   "metadata": {},
   "outputs": [
    {
     "name": "stderr",
     "output_type": "stream",
     "text": [
      "2024-03-20 22:47:28,949 : DEBUG : close.started\n",
      "2024-03-20 22:47:28,952 : DEBUG : close.complete\n",
      "2024-03-20 22:47:28,953 : DEBUG : connect_tcp.started host='b54f2f73-aa84-43cb-9e5b-48738d261af3.us-east4-0.gcp.cloud.qdrant.io' port=6333 local_address=None timeout=5.0 socket_options=None\n",
      "2024-03-20 22:47:29,243 : DEBUG : connect_tcp.complete return_value=<httpcore._backends.sync.SyncStream object at 0x000001CC1EA1AAD0>\n",
      "2024-03-20 22:47:29,244 : DEBUG : start_tls.started ssl_context=<ssl.SSLContext object at 0x000001CC1FAF8710> server_hostname='b54f2f73-aa84-43cb-9e5b-48738d261af3.us-east4-0.gcp.cloud.qdrant.io' timeout=5.0\n",
      "2024-03-20 22:47:29,512 : DEBUG : start_tls.complete return_value=<httpcore._backends.sync.SyncStream object at 0x000001CC1EBE1490>\n",
      "2024-03-20 22:47:29,513 : DEBUG : send_request_headers.started request=<Request [b'POST']>\n",
      "2024-03-20 22:47:29,515 : DEBUG : send_request_headers.complete\n",
      "2024-03-20 22:47:29,517 : DEBUG : send_request_body.started request=<Request [b'POST']>\n",
      "2024-03-20 22:47:29,519 : DEBUG : send_request_body.complete\n",
      "2024-03-20 22:47:29,520 : DEBUG : receive_response_headers.started request=<Request [b'POST']>\n",
      "2024-03-20 22:47:29,784 : DEBUG : receive_response_headers.complete return_value=(b'HTTP/1.1', 200, b'OK', [(b'Content-Encoding', b'gzip'), (b'Content-Type', b'application/json'), (b'Date', b'Wed, 20 Mar 2024 17:17:29 GMT'), (b'Vary', b'accept-encoding, Origin, Access-Control-Request-Method, Access-Control-Request-Headers'), (b'Transfer-Encoding', b'chunked')])\n",
      "2024-03-20 22:47:29,786 : INFO : HTTP Request: POST https://b54f2f73-aa84-43cb-9e5b-48738d261af3.us-east4-0.gcp.cloud.qdrant.io:6333/collections/test_collection_year/points/recommend \"HTTP/1.1 200 OK\"\n",
      "2024-03-20 22:47:29,788 : DEBUG : receive_response_body.started request=<Request [b'POST']>\n",
      "2024-03-20 22:47:30,041 : DEBUG : receive_response_body.complete\n",
      "2024-03-20 22:47:30,043 : DEBUG : response_closed.started\n",
      "2024-03-20 22:47:30,044 : DEBUG : response_closed.complete\n",
      "2024-03-20 22:47:30,048 : DEBUG : send_request_headers.started request=<Request [b'POST']>\n",
      "2024-03-20 22:47:30,050 : DEBUG : send_request_headers.complete\n",
      "2024-03-20 22:47:30,053 : DEBUG : send_request_body.started request=<Request [b'POST']>\n",
      "2024-03-20 22:47:30,054 : DEBUG : send_request_body.complete\n",
      "2024-03-20 22:47:30,055 : DEBUG : receive_response_headers.started request=<Request [b'POST']>\n",
      "2024-03-20 22:47:30,323 : DEBUG : receive_response_headers.complete return_value=(b'HTTP/1.1', 200, b'OK', [(b'Content-Encoding', b'gzip'), (b'Content-Type', b'application/json'), (b'Date', b'Wed, 20 Mar 2024 17:17:30 GMT'), (b'Vary', b'accept-encoding, Origin, Access-Control-Request-Method, Access-Control-Request-Headers'), (b'Transfer-Encoding', b'chunked')])\n",
      "2024-03-20 22:47:30,325 : INFO : HTTP Request: POST https://b54f2f73-aa84-43cb-9e5b-48738d261af3.us-east4-0.gcp.cloud.qdrant.io:6333/collections/test_collection_country/points/recommend \"HTTP/1.1 200 OK\"\n",
      "2024-03-20 22:47:30,327 : DEBUG : receive_response_body.started request=<Request [b'POST']>\n",
      "2024-03-20 22:47:30,331 : DEBUG : receive_response_body.complete\n",
      "2024-03-20 22:47:30,333 : DEBUG : response_closed.started\n",
      "2024-03-20 22:47:30,335 : DEBUG : response_closed.complete\n"
     ]
    }
   ],
   "source": [
    "same_year_recommends = client.recommend(\n",
    "    collection_name=year_collection_name,\n",
    "    positive=[1], # index of similar pattern\n",
    "    # negative=[75,40], # negitive index\n",
    "    limit=200\n",
    ")\n",
    "\n",
    "same_country_recommends = client.recommend(\n",
    "    collection_name=country_collection_name,\n",
    "    positive=[1], # index of similar pattern\n",
    "    # negative=[75,40], # negitive index\n",
    "    limit=200\n",
    ")"
   ]
  },
  {
   "cell_type": "code",
   "execution_count": 40,
   "metadata": {},
   "outputs": [
    {
     "data": {
      "text/plain": [
       "[(914,\n",
       "  1.0,\n",
       "  {'address': '83964 Misty Viaduct\\nHopkinsport, VT 77964',\n",
       "   'color': '#db3f4f',\n",
       "   'country': 'Cambodia',\n",
       "   'name': 'Jody Ramsey',\n",
       "   'url': 'https://moran-payne.org/',\n",
       "   'year': '1976'}),\n",
       " (680,\n",
       "  1.0,\n",
       "  {'address': 'Unit 6965 Box 0881\\nDPO AA 61216',\n",
       "   'color': '#91bbd6',\n",
       "   'country': 'Vietnam',\n",
       "   'name': 'Mr. Christopher Carter',\n",
       "   'url': 'https://www.hudson.biz/',\n",
       "   'year': '1976'}),\n",
       " (435,\n",
       "  1.0,\n",
       "  {'address': '024 Gutierrez Square\\nNorth Shannon, MP 63565',\n",
       "   'color': '#e59f37',\n",
       "   'country': 'New Caledonia',\n",
       "   'name': 'Richard Brown',\n",
       "   'url': 'https://meadows.biz/',\n",
       "   'year': '1976'})]"
      ]
     },
     "execution_count": 40,
     "metadata": {},
     "output_type": "execute_result"
    }
   ],
   "source": [
    "# Create dictionaries mapping IDs to (score, payload) tuples for each collection\n",
    "year_data_mapping = {recommend.id: (recommend.score, recommend.payload) for recommend in same_year_recommends}\n",
    "country_data_mapping = {recommend.id: (recommend.score, recommend.payload) for recommend in same_country_recommends}\n",
    "\n",
    "# Find common IDs\n",
    "common_ids = set(year_data_mapping.keys()) & set(country_data_mapping.keys())\n",
    "\n",
    "# Create a list to store filtered recommendations with original payloads\n",
    "filtered_recommendations = []\n",
    "\n",
    "# Iterate through common IDs and retrieve data\n",
    "for common_id in common_ids:\n",
    "    year_data = year_data_mapping.get(common_id)\n",
    "    country_data = country_data_mapping.get(common_id)\n",
    "    if year_data and country_data:  # Check if both data exist\n",
    "        # Choose one of the scores and payloads, or combine them as needed\n",
    "        score = year_data[0]  # Example: Choose year score\n",
    "        payload = year_data[1]  # Example: Choose year payload\n",
    "        # Append the ID, score, and payload to the filtered recommendations list\n",
    "        filtered_recommendations.append((common_id, score, payload))\n",
    "\n",
    "# Now, filtered_recommendations contains tuples of (ID, score, payload) for recommendations present in both collections\n",
    "# Sort filtered recommendations based on score\n",
    "sorted_recommendations = sorted(filtered_recommendations, key=lambda x: x[1], reverse=True)\n",
    "\n",
    "# Now, sorted_recommendations contains sorted tuples of (ID, score, payload) based on the score\n",
    "sorted_recommendations[:3]"
   ]
  },
  {
   "cell_type": "code",
   "execution_count": 46,
   "metadata": {},
   "outputs": [
    {
     "data": {
      "image/png": "[encoded data removed]",
      "text/plain": [
       "<Figure size 1000x600 with 1 Axes>"
      ]
     },
     "metadata": {},
     "output_type": "display_data"
    },
    {
     "data": {
      "image/png": "[encoded data removed]",
      "text/plain": [
       "<Figure size 1000x600 with 1 Axes>"
      ]
     },
     "metadata": {},
     "output_type": "display_data"
    }
   ],
   "source": [
    "import matplotlib.pyplot as plt\n",
    "\n",
    "# Extract IDs and scores from sorted recommendations\n",
    "ids = [recommend[0] for recommend in sorted_recommendations]\n",
    "scores = [recommend[1] for recommend in sorted_recommendations]\n",
    "\n",
    "# Bar plot\n",
    "plt.figure(figsize=(10, 6))\n",
    "plt.bar(ids, scores, color='skyblue')\n",
    "plt.title('Scores for Different IDs (Bar Plot)')\n",
    "plt.xlabel('ID')\n",
    "plt.ylabel('Score')\n",
    "plt.xticks(rotation=45, ha='right')  # Rotate x-axis labels for better readability\n",
    "plt.tight_layout()\n",
    "plt.show()\n",
    "\n",
    "# Scatter plot\n",
    "plt.figure(figsize=(10, 6))\n",
    "plt.scatter(ids, scores, color='orange', alpha=0.7)\n",
    "plt.title('Scores for Different IDs (Scatter Plot)')\n",
    "plt.xlabel('ID')\n",
    "plt.ylabel('Score')\n",
    "plt.xticks(rotation=45, ha='right')  # Rotate x-axis labels for better readability\n",
    "plt.tight_layout()\n",
    "plt.show()\n"
   ]
  },
  {
   "cell_type": "code",
   "execution_count": null,
   "metadata": {},
   "outputs": [],
   "source": []
  }
 ],
 "metadata": {
  "kernelspec": {
   "display_name": "Python 3",
   "language": "python",
   "name": "python3"
  },
  "language_info": {
   "codemirror_mode": {
    "name": "ipython",
    "version": 3
   },
   "file_extension": ".py",
   "mimetype": "text/x-python",
   "name": "python",
   "nbconvert_exporter": "python",
   "pygments_lexer": "ipython3",
   "version": "3.11.8"
  }
 },
 "nbformat": 4,
 "nbformat_minor": 2
}
