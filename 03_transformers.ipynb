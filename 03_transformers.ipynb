{
 "cells": [
  {
   "cell_type": "markdown",
   "id": "cd054a8f-4bdd-47bb-88bd-dbce2720bb66",
   "metadata": {},
   "source": [
    "### Transformers Pipelines"
   ]
  },
  {
   "cell_type": "code",
   "execution_count": 1,
   "id": "dfcef6da-9951-4a12-86ba-9e27e9ba941f",
   "metadata": {},
   "outputs": [],
   "source": [
    "# Importing necessary libraries\n",
    "from transformers import pipeline"
   ]
  },
  {
   "cell_type": "code",
   "execution_count": 2,
   "id": "b8e7266a-5393-49d9-b21e-ee1107a990b5",
   "metadata": {},
   "outputs": [
    {
     "name": "stdout",
     "output_type": "stream",
     "text": [
      "WARNING:tensorflow:From C:\\Users\\satya\\AppData\\Local\\Packages\\PythonSoftwareFoundation.Python.3.11_qbz5n2kfra8p0\\LocalCache\\local-packages\\Python311\\site-packages\\tf_keras\\src\\losses.py:2976: The name tf.losses.sparse_softmax_cross_entropy is deprecated. Please use tf.compat.v1.losses.sparse_softmax_cross_entropy instead.\n",
      "\n"
     ]
    },
    {
     "data": {
      "text/plain": [
       "[{'label': 'POSITIVE', 'score': 0.9998718500137329},\n",
       " {'label': 'NEGATIVE', 'score': 0.9997977614402771},\n",
       " {'label': 'POSITIVE', 'score': 0.9979287385940552}]"
      ]
     },
     "execution_count": 2,
     "metadata": {},
     "output_type": "execute_result"
    }
   ],
   "source": [
    "# sementic analyzer\n",
    "# Sentiment analysis is a natural language processing (NLP) technique used to determine the sentiment or emotional tone expressed in a piece of text. \n",
    "# It involves analyzing text data to identify and classify opinions, emotions, attitudes, or sentiments conveyed by the author. \n",
    "classifier = pipeline(\"sentiment-analysis\",\n",
    "                      model=\"distilbert/distilbert-base-uncased-finetuned-sst-2-english\", \n",
    "                      revision=\"af0f99b\")\n",
    "\n",
    "results = classifier(\n",
    "    [\n",
    "        \"this is a positive thing to do.\",\n",
    "        \"wat you did was not a good thing to do at all!....\",\n",
    "        \"what you did wasn't bad.\"\n",
    "    ]\n",
    ")\n",
    "\n",
    "results"
   ]
  },
  {
   "cell_type": "code",
   "execution_count": 3,
   "id": "1a4e4c59-e3b3-4f20-aed5-cf2a06d5c583",
   "metadata": {},
   "outputs": [
    {
     "name": "stderr",
     "output_type": "stream",
     "text": [
      "Setting `pad_token_id` to `eos_token_id`:50256 for open-end generation.\n",
      "Setting `pad_token_id` to `eos_token_id`:50256 for open-end generation.\n"
     ]
    },
    {
     "data": {
      "text/plain": [
       "[[{'generated_text': 'Once upon a time, the greatest human beings were the people who lived and died each day. They were the ones who were'}],\n",
       " [{'generated_text': 'He was a good guy.\"'}]]"
      ]
     },
     "execution_count": 3,
     "metadata": {},
     "output_type": "execute_result"
    }
   ],
   "source": [
    "# text generator\n",
    "\n",
    "generator = pipeline(\"text-generation\",\n",
    "                     model=\"openai-community/gpt2\", \n",
    "                     revision=\"6c0e608\")\n",
    "\n",
    "results = generator([\n",
    "    \"Once upon a time\",\n",
    "    \"He was a good guy\"\n",
    "],max_length=25, truncation=True)\n",
    "\n",
    "results"
   ]
  },
  {
   "cell_type": "code",
   "execution_count": 4,
   "id": "f2c6c22b-ff03-488c-8082-dcc6f726bd90",
   "metadata": {},
   "outputs": [
    {
     "name": "stdout",
     "output_type": "stream",
     "text": [
      "[{'orignal': \"Large Language Models (LLMs) represent a groundbreaking advancement in natural language processing (NLP), revolutionizing the way machines understand and generate human-like text. These models, powered by deep learning algorithms and massive amounts of training data, have demonstrated remarkable capabilities in various NLP tasks, including text generation, translation, sentiment analysis, and more. At the forefront of LLMs are architectures like OpenAI's GPT (Generative Pre-trained Transformer) series, Google's BERT (Bidirectional Encoder Representations from Transformers), and other transformer-based models.\"}]\n"
     ]
    },
    {
     "data": {
      "text/plain": [
       "[{'summary_text': ' Large Language Models (LLMs) represent a groundbreaking advancement in natural language processing (NLP) These models are powered by deep learning algorithms and massive amounts of training data . LLMs have demonstrated remarkable capabilities in various NLP tasks, including text generation, translation, sentiment'}]"
      ]
     },
     "execution_count": 4,
     "metadata": {},
     "output_type": "execute_result"
    }
   ],
   "source": [
    "# text summarizer\n",
    "\n",
    "summarizer = pipeline(\"summarization\",\n",
    "                     model=\"sshleifer/distilbart-cnn-12-6\", \n",
    "                     revision=\"a4f8f3e\")\n",
    "\n",
    "# Reading some long text\n",
    "with open('support_files/long_text.txt', 'r') as file:\n",
    "    contents = file.read()\n",
    "print([{\"orignal\":contents}])\n",
    "\n",
    "result = summarizer(contents, max_length=56)\n",
    "\n",
    "result"
   ]
  },
  {
   "cell_type": "code",
   "execution_count": null,
   "id": "0792bdc7-0885-4f89-b5b1-057cf5681703",
   "metadata": {},
   "outputs": [],
   "source": []
  }
 ],
 "metadata": {
  "kernelspec": {
   "display_name": "Python 3 (ipykernel)",
   "language": "python",
   "name": "python3"
  },
  "language_info": {
   "codemirror_mode": {
    "name": "ipython",
    "version": 3
   },
   "file_extension": ".py",
   "mimetype": "text/x-python",
   "name": "python",
   "nbconvert_exporter": "python",
   "pygments_lexer": "ipython3",
   "version": "3.11.8"
  }
 },
 "nbformat": 4,
 "nbformat_minor": 5
}
