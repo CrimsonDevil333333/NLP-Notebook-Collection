{
 "cells": [
  {
   "cell_type": "code",
   "execution_count": 2,
   "metadata": {},
   "outputs": [
    {
     "data": {
      "text/plain": [
       "<qdrant_client.qdrant_client.QdrantClient at 0x2dab06cdb50>"
      ]
     },
     "execution_count": 2,
     "metadata": {},
     "output_type": "execute_result"
    }
   ],
   "source": [
    "from utilities import get_key\n",
    "\n",
    "from qdrant_client import QdrantClient\n",
    "from qdrant_client.http import models\n",
    "import numpy as np\n",
    "from faker import Faker\n",
    "\n",
    "\n",
    "client = QdrantClient(\n",
    "    url=get_key(\"QDRANT_URL\"),\n",
    "    api_key=get_key(\"QDRANT_KEY\"),\n",
    ")\n",
    "client"
   ]
  },
  {
   "cell_type": "code",
   "execution_count": 4,
   "metadata": {},
   "outputs": [],
   "source": [
    "dummy_data_collection = \"dummy_collection\""
   ]
  },
  {
   "cell_type": "code",
   "execution_count": 4,
   "metadata": {},
   "outputs": [
    {
     "data": {
      "text/plain": [
       "('Travis Baker', 'PSC 1212, Box 4212\\nAPO AE 57116', 'Albania', '#d35ae2')"
      ]
     },
     "execution_count": 4,
     "metadata": {},
     "output_type": "execute_result"
    }
   ],
   "source": [
    "# Fake User Data\n",
    "dummy_data_genrator = Faker()\n",
    "dummy_data_genrator.name(), dummy_data_genrator.address(), dummy_data_genrator.country(), dummy_data_genrator.color()\n"
   ]
  },
  {
   "cell_type": "code",
   "execution_count": 5,
   "metadata": {},
   "outputs": [],
   "source": [
    "vector_data_size = 100\n",
    "vector_data = np.random.uniform(low=-1.0,high=1.0, size=(vector_data_size,100))\n",
    "index = list(range(vector_data_size))"
   ]
  },
  {
   "cell_type": "code",
   "execution_count": 6,
   "metadata": {},
   "outputs": [
    {
     "data": {
      "text/plain": [
       "[{'name': 'Candice Garcia',\n",
       "  'address': '533 Booth Mountains Apt. 983\\nPeterbury, NC 66735',\n",
       "  'country': 'Canada',\n",
       "  'url': 'http://miller.info/',\n",
       "  'year': '1987',\n",
       "  'color': '#9fe544'},\n",
       " {'name': 'Joel Lee',\n",
       "  'address': '71518 Jasmine Cape Suite 334\\nWest Sarah, TX 17659',\n",
       "  'country': 'New Zealand',\n",
       "  'url': 'http://www.castillo-martinez.biz/',\n",
       "  'year': '1980',\n",
       "  'color': '#ed1225'}]"
      ]
     },
     "execution_count": 6,
     "metadata": {},
     "output_type": "execute_result"
    }
   ],
   "source": [
    "payload_data = []\n",
    "\n",
    "for r in range(vector_data_size):\n",
    "    payload_data.append(\n",
    "        {\n",
    "            \"name\":dummy_data_genrator.name(),\n",
    "            \"address\":dummy_data_genrator.address(),\n",
    "            \"country\":dummy_data_genrator.country(),\n",
    "            \"url\":dummy_data_genrator.url(),\n",
    "            \"year\":dummy_data_genrator.year(),\n",
    "            \"color\":dummy_data_genrator.color()\n",
    "        }\n",
    "    )\n",
    "    \n",
    "payload_data[:2]"
   ]
  },
  {
   "cell_type": "code",
   "execution_count": 12,
   "metadata": {},
   "outputs": [
    {
     "name": "stdout",
     "output_type": "stream",
     "text": [
      "Unexpected Response: 409 (Conflict)\n",
      "Raw response content:\n",
      "b'{\"status\":{\"error\":\"Wrong input: Collection `dummy_collection` already exists!\"},\"time\":0.009697678}'\n"
     ]
    }
   ],
   "source": [
    "try:\n",
    "    client.create_collection(\n",
    "        collection_name=dummy_data_collection,\n",
    "        vectors_config=models.VectorParams(size=100, distance=models.Distance.COSINE)\n",
    "    )\n",
    "except Exception as ex:\n",
    "    print(ex)"
   ]
  },
  {
   "cell_type": "code",
   "execution_count": 8,
   "metadata": {},
   "outputs": [
    {
     "data": {
      "text/plain": [
       "UpdateResult(operation_id=0, status=<UpdateStatus.COMPLETED: 'completed'>)"
      ]
     },
     "execution_count": 8,
     "metadata": {},
     "output_type": "execute_result"
    }
   ],
   "source": [
    "client.upsert(\n",
    "    collection_name=dummy_data_collection,\n",
    "    points=models.Batch(\n",
    "        ids=index,\n",
    "        vectors=vector_data.tolist(),\n",
    "        payloads=payload_data\n",
    "    )\n",
    ")"
   ]
  },
  {
   "cell_type": "code",
   "execution_count": 9,
   "metadata": {},
   "outputs": [
    {
     "data": {
      "text/plain": [
       "[ScoredPoint(id=79, version=0, score=0.24612512, payload={'address': 'Unit 4654 Box 3598\\nDPO AP 71186', 'color': '#23fcb7', 'country': 'Senegal', 'name': 'Sylvia Robertson', 'url': 'http://lindsey-simpson.com/', 'year': '1989'}, vector=None, shard_key=None),\n",
       " ScoredPoint(id=73, version=0, score=0.21954285, payload={'address': '1401 Harris Place\\nJohnburgh, NC 52917', 'color': '#67e5a4', 'country': 'Jamaica', 'name': 'Diane Walter', 'url': 'https://www.bailey-soto.biz/', 'year': '1981'}, vector=None, shard_key=None),\n",
       " ScoredPoint(id=90, version=0, score=0.2154387, payload={'address': '149 Brennan Ports\\nWest Robertstad, WV 97451', 'color': '#e8d153', 'country': 'Nauru', 'name': 'Daniel Robinson', 'url': 'https://www.lambert-barnett.com/', 'year': '1982'}, vector=None, shard_key=None),\n",
       " ScoredPoint(id=67, version=0, score=0.20277382, payload={'address': '8649 Terry Flats\\nMendozamouth, WI 05794', 'color': '#3cc19e', 'country': 'Syrian Arab Republic', 'name': 'Brian White', 'url': 'https://www.williams-johnson.net/', 'year': '2011'}, vector=None, shard_key=None),\n",
       " ScoredPoint(id=32, version=0, score=0.1944621, payload={'address': '9089 Kathleen Point\\nJenniferville, MO 60712', 'color': '#b2eef4', 'country': 'Greece', 'name': 'Angela Graham', 'url': 'http://owens-powers.com/', 'year': '1978'}, vector=None, shard_key=None),\n",
       " ScoredPoint(id=25, version=0, score=0.18316288, payload={'address': '744 Jennifer Shoal Apt. 273\\nBrandonton, DE 54630', 'color': '#fff1bf', 'country': 'Guyana', 'name': 'April Ramsey', 'url': 'https://mitchell-hoffman.com/', 'year': '1972'}, vector=None, shard_key=None),\n",
       " ScoredPoint(id=24, version=0, score=0.15853663, payload={'address': '43856 Pittman Ville\\nClineton, AK 28121', 'color': '#9cd868', 'country': 'Spain', 'name': 'Lori Reed', 'url': 'http://liu.com/', 'year': '2019'}, vector=None, shard_key=None),\n",
       " ScoredPoint(id=3, version=0, score=0.15656956, payload={'address': '928 Thomas Manors Apt. 474\\nHenryborough, KS 92966', 'color': '#f24b7a', 'country': 'Finland', 'name': 'Karen Edwards', 'url': 'http://erickson-bell.com/', 'year': '2019'}, vector=None, shard_key=None),\n",
       " ScoredPoint(id=71, version=0, score=0.15460625, payload={'address': '1641 Craig Hollow Apt. 379\\nLake Andrew, AL 34313', 'color': '#a7d2e8', 'country': 'Cyprus', 'name': 'Nicole Roth', 'url': 'https://www.johnson.com/', 'year': '1970'}, vector=None, shard_key=None),\n",
       " ScoredPoint(id=20, version=0, score=0.15157981, payload={'address': 'PSC 5756, Box 0781\\nAPO AE 28856', 'color': '#ea6bc8', 'country': 'Italy', 'name': 'Casey Middleton', 'url': 'http://frye-logan.biz/', 'year': '2021'}, vector=None, shard_key=None),\n",
       " ScoredPoint(id=26, version=0, score=0.14827438, payload={'address': 'USS Howell\\nFPO AP 28782', 'color': '#ad303f', 'country': 'Kiribati', 'name': 'Adam Harris', 'url': 'https://fitzpatrick.com/', 'year': '1977'}, vector=None, shard_key=None),\n",
       " ScoredPoint(id=76, version=0, score=0.12996435, payload={'address': '998 Kyle Mount Suite 696\\nWhitetown, MT 47116', 'color': '#94b4dd', 'country': 'Pakistan', 'name': 'Dana Pierce', 'url': 'https://hickman-jones.com/', 'year': '1976'}, vector=None, shard_key=None),\n",
       " ScoredPoint(id=91, version=0, score=0.12041109, payload={'address': '8224 Bush Light Suite 199\\nUnderwoodside, NC 25584', 'color': '#f77eca', 'country': 'Niger', 'name': 'Christine Brock', 'url': 'https://www.west.com/', 'year': '1999'}, vector=None, shard_key=None),\n",
       " ScoredPoint(id=69, version=0, score=0.11769991, payload={'address': '7795 Norton Rest\\nEast Adamstad, TN 41544', 'color': '#204bf9', 'country': 'Brazil', 'name': 'Allen Gomez', 'url': 'http://www.livingston-miller.com/', 'year': '1973'}, vector=None, shard_key=None),\n",
       " ScoredPoint(id=12, version=0, score=0.11757719, payload={'address': '77426 Baldwin Summit Apt. 146\\nSouth Jamieport, OH 08001', 'color': '#c44659', 'country': 'Guinea', 'name': 'Joshua Briggs', 'url': 'http://lloyd-bowman.net/', 'year': '1971'}, vector=None, shard_key=None)]"
      ]
     },
     "execution_count": 9,
     "metadata": {},
     "output_type": "execute_result"
    }
   ],
   "source": [
    "serch_input_vector = np.random.uniform(low=-1.0,high=1.0, size=(100))\n",
    "\n",
    "client.search(\n",
    "    collection_name=dummy_data_collection,\n",
    "    query_vector=serch_input_vector, # Random vector\n",
    "    limit=15\n",
    ")"
   ]
  },
  {
   "cell_type": "code",
   "execution_count": 13,
   "metadata": {},
   "outputs": [
    {
     "data": {
      "text/plain": [
       "[ScoredPoint(id=0, version=0, score=1.0, payload={'address': '533 Booth Mountains Apt. 983\\nPeterbury, NC 66735', 'color': '#9fe544', 'country': 'Canada', 'name': 'Candice Garcia', 'url': 'http://miller.info/', 'year': '1987'}, vector=None, shard_key=None),\n",
       " ScoredPoint(id=95, version=0, score=0.1931763, payload={'address': 'PSC 0849, Box 0570\\nAPO AE 15418', 'color': '#2baf51', 'country': 'Italy', 'name': 'William Gutierrez', 'url': 'http://martin.org/', 'year': '2001'}, vector=None, shard_key=None),\n",
       " ScoredPoint(id=9, version=0, score=0.18886496, payload={'address': '45937 Perez Divide\\nAndersonfort, WA 34103', 'color': '#78a1e8', 'country': 'Bosnia and Herzegovina', 'name': 'Hector Singleton', 'url': 'http://reed.com/', 'year': '1988'}, vector=None, shard_key=None),\n",
       " ScoredPoint(id=89, version=0, score=0.17631654, payload={'address': 'Unit 3418 Box 6264\\nDPO AE 83303', 'color': '#93eaf9', 'country': 'Kazakhstan', 'name': 'Mrs. Emily Phillips DDS', 'url': 'https://www.welch.net/', 'year': '2021'}, vector=None, shard_key=None),\n",
       " ScoredPoint(id=34, version=0, score=0.17045924, payload={'address': 'Unit 2869 Box 9745\\nDPO AP 52400', 'color': '#3a6cad', 'country': 'Kiribati', 'name': 'Michelle Erickson', 'url': 'http://stewart.com/', 'year': '2007'}, vector=None, shard_key=None),\n",
       " ScoredPoint(id=13, version=0, score=0.15387882, payload={'address': '37303 Edwards Dale\\nLake Amy, DC 58218', 'color': '#080da0', 'country': 'El Salvador', 'name': 'Todd Gill', 'url': 'http://riley.com/', 'year': '1997'}, vector=None, shard_key=None),\n",
       " ScoredPoint(id=60, version=0, score=0.14369962, payload={'address': '01070 Evans Terrace Apt. 479\\nEast Davidborough, SD 86517', 'color': '#3ddbae', 'country': 'Morocco', 'name': 'Angela Lewis', 'url': 'http://www.white.com/', 'year': '1997'}, vector=None, shard_key=None),\n",
       " ScoredPoint(id=66, version=0, score=0.13523954, payload={'address': '224 Brooks Drive\\nPort Amanda, WY 25344', 'color': '#f28ee8', 'country': 'Somalia', 'name': 'Jaime Forbes', 'url': 'http://reynolds.biz/', 'year': '1972'}, vector=None, shard_key=None),\n",
       " ScoredPoint(id=43, version=0, score=0.13384897, payload={'address': 'PSC 4886, Box 8819\\nAPO AA 94105', 'color': '#f9c9ff', 'country': 'Australia', 'name': 'Timothy Mason', 'url': 'https://www.chang.biz/', 'year': '2020'}, vector=None, shard_key=None),\n",
       " ScoredPoint(id=36, version=0, score=0.13295169, payload={'address': '2027 Aguirre Pike\\nGutierrezhaven, NH 59686', 'color': '#73ed55', 'country': 'Djibouti', 'name': 'Adam Parrish', 'url': 'http://little.org/', 'year': '2001'}, vector=None, shard_key=None),\n",
       " ScoredPoint(id=73, version=0, score=0.12319542, payload={'address': '1401 Harris Place\\nJohnburgh, NC 52917', 'color': '#67e5a4', 'country': 'Jamaica', 'name': 'Diane Walter', 'url': 'https://www.bailey-soto.biz/', 'year': '1981'}, vector=None, shard_key=None),\n",
       " ScoredPoint(id=15, version=0, score=0.11182006, payload={'address': '944 Alexander Groves\\nNew Leahfort, KS 31061', 'color': '#23db88', 'country': 'Cuba', 'name': 'Brandi Cobb', 'url': 'http://khan-cruz.org/', 'year': '1970'}, vector=None, shard_key=None),\n",
       " ScoredPoint(id=14, version=0, score=0.10780914, payload={'address': '29341 Torres Avenue Suite 026\\nEdwardsfurt, AZ 10117', 'color': '#f2b787', 'country': 'Nigeria', 'name': 'Madison Johns', 'url': 'https://www.turner.com/', 'year': '2009'}, vector=None, shard_key=None),\n",
       " ScoredPoint(id=5, version=0, score=0.10405423, payload={'address': '5656 James Expressway Apt. 085\\nKimberlychester, DE 73219', 'color': '#8a72db', 'country': 'Bermuda', 'name': 'Seth Floyd', 'url': 'http://arnold-kim.net/', 'year': '1994'}, vector=None, shard_key=None),\n",
       " ScoredPoint(id=35, version=0, score=0.09995062, payload={'address': '35866 Andre River Apt. 118\\nJeffside, MS 15676', 'color': '#4c94db', 'country': 'Netherlands', 'name': 'Emily Adams', 'url': 'http://frederick.com/', 'year': '1994'}, vector=None, shard_key=None)]"
      ]
     },
     "execution_count": 13,
     "metadata": {},
     "output_type": "execute_result"
    }
   ],
   "source": [
    "\n",
    "client.search(\n",
    "    collection_name=dummy_data_collection,\n",
    "    query_vector=vector_data[0], # 100% matching vector\n",
    "    limit=15\n",
    ")"
   ]
  },
  {
   "cell_type": "code",
   "execution_count": 18,
   "metadata": {},
   "outputs": [
    {
     "data": {
      "text/plain": [
       "({'name': 'Candice Garcia',\n",
       "  'address': '533 Booth Mountains Apt. 983\\nPeterbury, NC 66735',\n",
       "  'country': 'Canada',\n",
       "  'url': 'http://miller.info/',\n",
       "  'year': '1987',\n",
       "  'color': '#9fe544'},\n",
       " '1987',\n",
       " array([ 0.19829526, -0.65049326, -0.85415402,  0.05506963]))"
      ]
     },
     "execution_count": 18,
     "metadata": {},
     "output_type": "execute_result"
    }
   ],
   "source": [
    "# 100% baised result\n",
    "payload_data[0], payload_data[0][\"year\"], vector_data[0][:4]"
   ]
  },
  {
   "cell_type": "code",
   "execution_count": 20,
   "metadata": {},
   "outputs": [
    {
     "data": {
      "text/plain": [
       "(Filter(should=None, min_should=None, must=[FieldCondition(key='year', match=MatchValue(value='1987'), range=None, geo_bounding_box=None, geo_radius=None, geo_polygon=None, values_count=None)], must_not=None),\n",
       " Filter(should=None, min_should=None, must=[FieldCondition(key='year', match=MatchValue(value='1980'), range=None, geo_bounding_box=None, geo_radius=None, geo_polygon=None, values_count=None)], must_not=None))"
      ]
     },
     "execution_count": 20,
     "metadata": {},
     "output_type": "execute_result"
    }
   ],
   "source": [
    "# Custom filters\n",
    "custom_filter_100_percent = models.Filter(\n",
    "    must=[\n",
    "        models.FieldCondition(\n",
    "            key=\"year\", match=models.MatchValue(value=payload_data[0][\"year\"])\n",
    "        )\n",
    "    ]\n",
    ")\n",
    "\n",
    "custom_filter_random = models.Filter(\n",
    "    must=[\n",
    "        models.FieldCondition(\n",
    "            key=\"year\", match=models.MatchValue(value=\"1980\")\n",
    "        )\n",
    "    ]\n",
    ")\n",
    "\n",
    "custom_filter_100_percent, custom_filter_random"
   ]
  },
  {
   "cell_type": "code",
   "execution_count": 21,
   "metadata": {},
   "outputs": [
    {
     "data": {
      "text/plain": [
       "[ScoredPoint(id=0, version=0, score=1.0, payload={'address': '533 Booth Mountains Apt. 983\\nPeterbury, NC 66735', 'color': '#9fe544', 'country': 'Canada', 'name': 'Candice Garcia', 'url': 'http://miller.info/', 'year': '1987'}, vector=None, shard_key=None)]"
      ]
     },
     "execution_count": 21,
     "metadata": {},
     "output_type": "execute_result"
    }
   ],
   "source": [
    "# Search with custom filter baised\n",
    "client.search(\n",
    "    collection_name=dummy_data_collection,\n",
    "    query_vector=vector_data[0], # 100% matching vector,\n",
    "    query_filter= custom_filter_100_percent,\n",
    "    limit=15\n",
    ")"
   ]
  },
  {
   "cell_type": "code",
   "execution_count": 22,
   "metadata": {},
   "outputs": [
    {
     "data": {
      "text/plain": [
       "[ScoredPoint(id=21, version=0, score=0.042913154, payload={'address': '6135 William Shoal Apt. 595\\nEast Jamesfort, IN 58664', 'color': '#8dd33d', 'country': 'Christmas Island', 'name': 'Suzanne Richards', 'url': 'http://browning-archer.com/', 'year': '1980'}, vector=None, shard_key=None),\n",
       " ScoredPoint(id=74, version=0, score=-0.11570884, payload={'address': '75215 Dickerson Harbors\\nPort Lisa, SD 79868', 'color': '#5c167f', 'country': 'Portugal', 'name': 'Veronica Morris', 'url': 'https://richardson-rios.com/', 'year': '1980'}, vector=None, shard_key=None),\n",
       " ScoredPoint(id=1, version=0, score=-0.1800782, payload={'address': '71518 Jasmine Cape Suite 334\\nWest Sarah, TX 17659', 'color': '#ed1225', 'country': 'New Zealand', 'name': 'Joel Lee', 'url': 'http://www.castillo-martinez.biz/', 'year': '1980'}, vector=None, shard_key=None)]"
      ]
     },
     "execution_count": 22,
     "metadata": {},
     "output_type": "execute_result"
    }
   ],
   "source": [
    "client.search(\n",
    "    collection_name=dummy_data_collection,\n",
    "    query_vector=serch_input_vector, # Random vector\n",
    "    query_filter= custom_filter_random,\n",
    "    limit=15\n",
    ")"
   ]
  },
  {
   "cell_type": "code",
   "execution_count": 29,
   "metadata": {},
   "outputs": [
    {
     "data": {
      "text/plain": [
       "[ScoredPoint(id=21, version=0, score=0.067769356, payload={'address': '6135 William Shoal Apt. 595\\nEast Jamesfort, IN 58664', 'color': '#8dd33d', 'country': 'Christmas Island', 'name': 'Suzanne Richards', 'url': 'http://browning-archer.com/', 'year': '1980'}, vector=None, shard_key=None),\n",
       " ScoredPoint(id=74, version=0, score=-0.03420703, payload={'address': '75215 Dickerson Harbors\\nPort Lisa, SD 79868', 'color': '#5c167f', 'country': 'Portugal', 'name': 'Veronica Morris', 'url': 'https://richardson-rios.com/', 'year': '1980'}, vector=None, shard_key=None)]"
      ]
     },
     "execution_count": 29,
     "metadata": {},
     "output_type": "execute_result"
    }
   ],
   "source": [
    "# Recommendation Engine\n",
    "\n",
    "client.recommend(\n",
    "    collection_name=dummy_data_collection,\n",
    "    positive=[1], # index of similar pattern\n",
    "    negative=[75,40], # negitive index\n",
    "    query_filter= custom_filter_random, # custom filter on day they were born\n",
    "    limit=5\n",
    ")\n"
   ]
  },
  {
   "cell_type": "code",
   "execution_count": null,
   "metadata": {},
   "outputs": [],
   "source": []
  }
 ],
 "metadata": {
  "kernelspec": {
   "display_name": "Python 3",
   "language": "python",
   "name": "python3"
  },
  "language_info": {
   "codemirror_mode": {
    "name": "ipython",
    "version": 3
   },
   "file_extension": ".py",
   "mimetype": "text/x-python",
   "name": "python",
   "nbconvert_exporter": "python",
   "pygments_lexer": "ipython3",
   "version": "3.11.8"
  }
 },
 "nbformat": 4,
 "nbformat_minor": 2
}
