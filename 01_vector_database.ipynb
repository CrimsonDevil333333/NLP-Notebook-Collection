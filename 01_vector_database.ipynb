{
 "cells": [
  {
   "cell_type": "code",
   "execution_count": 1,
   "metadata": {},
   "outputs": [],
   "source": [
    "# Added logging to see underline API calls of certain frameworks\n",
    "import logging\n",
    "logging.basicConfig(format='%(asctime)s : %(levelname)s : %(message)s', level=logging.INFO)"
   ]
  },
  {
   "cell_type": "code",
   "execution_count": 2,
   "metadata": {},
   "outputs": [
    {
     "data": {
      "text/plain": [
       "<qdrant_client.qdrant_client.QdrantClient at 0x1cad031e150>"
      ]
     },
     "execution_count": 2,
     "metadata": {},
     "output_type": "execute_result"
    }
   ],
   "source": [
    "from utilities import get_key\n",
    "\n",
    "from qdrant_client import QdrantClient\n",
    "from qdrant_client.http import models\n",
    "import numpy as np\n",
    "from faker import Faker\n",
    "\n",
    "client = QdrantClient(\n",
    "    url=get_key(\"QDRANT_URL\"),\n",
    "    api_key=get_key(\"QDRANT_KEY\"),\n",
    ")\n",
    "client"
   ]
  },
  {
   "cell_type": "code",
   "execution_count": 3,
   "metadata": {},
   "outputs": [],
   "source": [
    "# collection name\n",
    "dummy_data_collection = \"dummy_collection_01\""
   ]
  },
  {
   "cell_type": "code",
   "execution_count": 4,
   "metadata": {},
   "outputs": [
    {
     "data": {
      "text/plain": [
       "('Denise Jones',\n",
       " '811 Michelle Burgs\\nDunnberg, MN 44430',\n",
       " 'Lithuania',\n",
       " '#858e07')"
      ]
     },
     "execution_count": 4,
     "metadata": {},
     "output_type": "execute_result"
    }
   ],
   "source": [
    "# Fake User Data\n",
    "dummy_data_genrator = Faker()\n",
    "dummy_data_genrator.name(), dummy_data_genrator.address(), dummy_data_genrator.country(), dummy_data_genrator.color()\n"
   ]
  },
  {
   "cell_type": "code",
   "execution_count": 5,
   "metadata": {},
   "outputs": [],
   "source": [
    "vector_data_size = 100 # this is the Embedding dimensions\n",
    "vector_data = np.random.uniform(low=-1.0,high=1.0, size=(vector_data_size,100)) # genrating random embeddings for dummy data\n",
    "index = list(range(vector_data_size))"
   ]
  },
  {
   "cell_type": "code",
   "execution_count": 6,
   "metadata": {},
   "outputs": [
    {
     "data": {
      "text/plain": [
       "[{'name': 'Michael Hall',\n",
       "  'address': '4989 Jessica Loop Apt. 164\\nJustinview, NM 87428',\n",
       "  'country': 'United States Minor Outlying Islands',\n",
       "  'url': 'https://gonzalez-keith.org/',\n",
       "  'year': '1988',\n",
       "  'color': '#d67d2a'},\n",
       " {'name': 'Jennifer Williams',\n",
       "  'address': '287 Mills Stream\\nRiosborough, IN 69695',\n",
       "  'country': 'Vietnam',\n",
       "  'url': 'http://harrington.net/',\n",
       "  'year': '1990',\n",
       "  'color': '#dd4975'}]"
      ]
     },
     "execution_count": 6,
     "metadata": {},
     "output_type": "execute_result"
    }
   ],
   "source": [
    "payload_data = [] # genrating dummy payloads/data using Faker()\n",
    "\n",
    "for r in range(vector_data_size):\n",
    "    payload_data.append(\n",
    "        {\n",
    "            \"name\":dummy_data_genrator.name(),\n",
    "            \"address\":dummy_data_genrator.address(),\n",
    "            \"country\":dummy_data_genrator.country(),\n",
    "            \"url\":dummy_data_genrator.url(),\n",
    "            \"year\":dummy_data_genrator.year(),\n",
    "            \"color\":dummy_data_genrator.color()\n",
    "        }\n",
    "    )\n",
    "    \n",
    "payload_data[:2]"
   ]
  },
  {
   "cell_type": "code",
   "execution_count": 7,
   "metadata": {},
   "outputs": [
    {
     "name": "stderr",
     "output_type": "stream",
     "text": [
      "2024-03-22 07:36:45,391 : INFO : HTTP Request: PUT https://b54f2f73-aa84-43cb-9e5b-48738d261af3.us-east4-0.gcp.cloud.qdrant.io:6333/collections/dummy_collection_01 \"HTTP/1.1 200 OK\"\n"
     ]
    }
   ],
   "source": [
    "try:\n",
    "    # Creating a collection in vector database\n",
    "    client.create_collection(\n",
    "        collection_name=dummy_data_collection, # collection name!\n",
    "        vectors_config=models.VectorParams(size=100, distance=models.Distance.COSINE) # We are going to use COSINE similarity sementic search\n",
    "    )\n",
    "except Exception as ex:\n",
    "    print(ex)"
   ]
  },
  {
   "cell_type": "code",
   "execution_count": 8,
   "metadata": {},
   "outputs": [
    {
     "name": "stderr",
     "output_type": "stream",
     "text": [
      "2024-03-22 07:39:51,739 : INFO : HTTP Request: PUT https://b54f2f73-aa84-43cb-9e5b-48738d261af3.us-east4-0.gcp.cloud.qdrant.io:6333/collections/dummy_collection_01/points?wait=true \"HTTP/1.1 200 OK\"\n"
     ]
    },
    {
     "data": {
      "text/plain": [
       "UpdateResult(operation_id=0, status=<UpdateStatus.COMPLETED: 'completed'>)"
      ]
     },
     "execution_count": 8,
     "metadata": {},
     "output_type": "execute_result"
    }
   ],
   "source": [
    "# After creating the collection we will upsert/update/add our data in this newly created collection\n",
    "# In this senario we are adding out random genrated data with those random genrated vectors/embeddings\n",
    "client.upsert(\n",
    "    collection_name=dummy_data_collection,\n",
    "    points=models.Batch(\n",
    "        ids=index, # this will work as index/points in our vector db\n",
    "        vectors=vector_data.tolist(), # these are our vectors/embeddings\n",
    "        payloads=payload_data # related data for those embeddings\n",
    "    )\n",
    ")"
   ]
  },
  {
   "cell_type": "code",
   "execution_count": 9,
   "metadata": {},
   "outputs": [
    {
     "name": "stderr",
     "output_type": "stream",
     "text": [
      "2024-03-22 07:41:32,451 : INFO : HTTP Request: POST https://b54f2f73-aa84-43cb-9e5b-48738d261af3.us-east4-0.gcp.cloud.qdrant.io:6333/collections/dummy_collection_01/points/search \"HTTP/1.1 200 OK\"\n"
     ]
    },
    {
     "data": {
      "text/plain": [
       "[ScoredPoint(id=30, version=0, score=0.25461084, payload={'address': '51147 Dustin Court Apt. 567\\nSouth Carlos, AL 86378', 'color': '#a6e07d', 'country': 'Andorra', 'name': 'Holly Rangel', 'url': 'http://anderson.biz/', 'year': '1986'}, vector=None, shard_key=None),\n",
       " ScoredPoint(id=47, version=0, score=0.22383998, payload={'address': '6427 David Ridges\\nAmyfort, CA 90067', 'color': '#5cf2ae', 'country': 'Trinidad and Tobago', 'name': 'Paul Kelley', 'url': 'https://www.harris.com/', 'year': '1984'}, vector=None, shard_key=None),\n",
       " ScoredPoint(id=81, version=0, score=0.18675603, payload={'address': '88154 Rogers Shoal\\nPiercetown, VA 17009', 'color': '#eaccff', 'country': 'Bermuda', 'name': 'Cheryl Blackburn', 'url': 'https://mueller.com/', 'year': '1999'}, vector=None, shard_key=None),\n",
       " ScoredPoint(id=37, version=0, score=0.18208194, payload={'address': 'Unit 9573 Box 4380\\nDPO AA 29378', 'color': '#3ce83a', 'country': 'Niger', 'name': 'Darrell Martinez', 'url': 'http://york.com/', 'year': '2023'}, vector=None, shard_key=None),\n",
       " ScoredPoint(id=60, version=0, score=0.17727108, payload={'address': '95580 Michelle Light Suite 933\\nYoungburgh, TX 87265', 'color': '#bf1193', 'country': 'Malawi', 'name': 'Justin Morris', 'url': 'http://reyes.info/', 'year': '1982'}, vector=None, shard_key=None)]"
      ]
     },
     "execution_count": 9,
     "metadata": {},
     "output_type": "execute_result"
    }
   ],
   "source": [
    "# Now we will search some simillar points based on one random vector \n",
    "# dymentions of the vector should be same\n",
    "# there is no pattern in this data and everything is random so the score might not be gr8\n",
    "serch_input_vector = np.random.uniform(low=-1.0,high=1.0, size=(vector_data_size))\n",
    "\n",
    "client.search(\n",
    "    collection_name=dummy_data_collection,\n",
    "    query_vector=serch_input_vector, # Random vector\n",
    "    limit=5 # top 5 results\n",
    ")"
   ]
  },
  {
   "cell_type": "code",
   "execution_count": 10,
   "metadata": {},
   "outputs": [
    {
     "name": "stderr",
     "output_type": "stream",
     "text": [
      "2024-03-22 07:43:57,525 : INFO : HTTP Request: POST https://b54f2f73-aa84-43cb-9e5b-48738d261af3.us-east4-0.gcp.cloud.qdrant.io:6333/collections/dummy_collection_01/points/search \"HTTP/1.1 200 OK\"\n"
     ]
    },
    {
     "data": {
      "text/plain": [
       "[ScoredPoint(id=0, version=0, score=1.0, payload={'address': '4989 Jessica Loop Apt. 164\\nJustinview, NM 87428', 'color': '#d67d2a', 'country': 'United States Minor Outlying Islands', 'name': 'Michael Hall', 'url': 'https://gonzalez-keith.org/', 'year': '1988'}, vector=None, shard_key=None),\n",
       " ScoredPoint(id=66, version=0, score=0.2723331, payload={'address': '07927 Porter Curve Apt. 217\\nDominguezfurt, TX 51974', 'color': '#23d15d', 'country': 'Cape Verde', 'name': 'Seth Powers', 'url': 'https://estrada.com/', 'year': '1994'}, vector=None, shard_key=None),\n",
       " ScoredPoint(id=48, version=0, score=0.26127163, payload={'address': '42248 Williams Tunnel Apt. 849\\nSouth Courtneyberg, PR 48708', 'color': '#d1f49c', 'country': 'Azerbaijan', 'name': 'Katherine Wells', 'url': 'http://morris.org/', 'year': '2016'}, vector=None, shard_key=None),\n",
       " ScoredPoint(id=16, version=0, score=0.24914049, payload={'address': '753 Clark Square Suite 332\\nCrawfordshire, MD 79036', 'color': '#aefcaf', 'country': 'Guinea', 'name': 'Kathleen Willis', 'url': 'http://potter-oneal.com/', 'year': '1987'}, vector=None, shard_key=None),\n",
       " ScoredPoint(id=38, version=0, score=0.24611035, payload={'address': '372 Alan Circles\\nDalechester, WY 28142', 'color': '#a590db', 'country': 'Swaziland', 'name': 'Kevin Duke', 'url': 'https://spencer-collins.info/', 'year': '2013'}, vector=None, shard_key=None),\n",
       " ScoredPoint(id=98, version=0, score=0.21070558, payload={'address': '8943 Cooley Shore Suite 408\\nPort Brendafurt, MI 62343', 'color': '#3ef241', 'country': 'Grenada', 'name': 'Richard Watts', 'url': 'http://www.michael.info/', 'year': '2002'}, vector=None, shard_key=None),\n",
       " ScoredPoint(id=17, version=0, score=0.21023352, payload={'address': 'PSC 3764, Box 3342\\nAPO AE 03328', 'color': '#a8e579', 'country': 'Christmas Island', 'name': 'George Lewis', 'url': 'http://www.howell.com/', 'year': '2021'}, vector=None, shard_key=None),\n",
       " ScoredPoint(id=67, version=0, score=0.19348238, payload={'address': '5757 Cabrera Trail\\nPort David, MI 50983', 'color': '#f9da9a', 'country': 'France', 'name': 'Terri Gonzalez', 'url': 'https://peterson.com/', 'year': '1975'}, vector=None, shard_key=None),\n",
       " ScoredPoint(id=72, version=0, score=0.18466681, payload={'address': '843 Smith Gardens Apt. 824\\nLloydfort, DC 78054', 'color': '#302def', 'country': 'Saint Vincent and the Grenadines', 'name': 'Bryan King', 'url': 'http://parker-carter.com/', 'year': '1975'}, vector=None, shard_key=None),\n",
       " ScoredPoint(id=63, version=0, score=0.15004176, payload={'address': '10998 Tina Run Apt. 142\\nPort Adrianburgh, MI 26123', 'color': '#30b598', 'country': 'France', 'name': 'Shawn Jackson', 'url': 'http://bishop.com/', 'year': '2014'}, vector=None, shard_key=None),\n",
       " ScoredPoint(id=91, version=0, score=0.14308299, payload={'address': '751 Arthur Circle Suite 007\\nLeslieborough, OR 81431', 'color': '#b7cdf7', 'country': 'Bolivia', 'name': 'Erica Murray', 'url': 'https://smith.info/', 'year': '1981'}, vector=None, shard_key=None),\n",
       " ScoredPoint(id=71, version=0, score=0.13408525, payload={'address': '48452 Anderson Inlet\\nLake Benjamin, AS 08986', 'color': '#dcf9a2', 'country': 'Slovenia', 'name': 'Ryan Rivera', 'url': 'https://www.johnson.com/', 'year': '1978'}, vector=None, shard_key=None),\n",
       " ScoredPoint(id=34, version=0, score=0.12471158, payload={'address': 'Unit 9328 Box 2413\\nDPO AE 81524', 'color': '#254cba', 'country': 'Cuba', 'name': 'Ashley Coleman', 'url': 'http://www.vaughan-joyce.com/', 'year': '2005'}, vector=None, shard_key=None),\n",
       " ScoredPoint(id=90, version=0, score=0.120986864, payload={'address': '8285 Katie Via\\nWest Danielton, AL 46591', 'color': '#a8ea3f', 'country': 'South Georgia and the South Sandwich Islands', 'name': 'Robert Holt', 'url': 'http://www.freeman-white.info/', 'year': '1984'}, vector=None, shard_key=None),\n",
       " ScoredPoint(id=85, version=0, score=0.12030909, payload={'address': '00111 Jessica Heights Apt. 079\\nThomasborough, DC 41507', 'color': '#e84417', 'country': 'Fiji', 'name': 'Thomas Newton', 'url': 'http://www.smith.com/', 'year': '1970'}, vector=None, shard_key=None)]"
      ]
     },
     "execution_count": 10,
     "metadata": {},
     "output_type": "execute_result"
    }
   ],
   "source": [
    "# In this example we will get perfect score as we will use first exact randomly genrated vector\n",
    "client.search(\n",
    "    collection_name=dummy_data_collection,\n",
    "    query_vector=vector_data[0], # 100% matching vector\n",
    "    limit=15\n",
    ")"
   ]
  },
  {
   "cell_type": "code",
   "execution_count": 11,
   "metadata": {},
   "outputs": [
    {
     "data": {
      "text/plain": [
       "({'name': 'Michael Hall',\n",
       "  'address': '4989 Jessica Loop Apt. 164\\nJustinview, NM 87428',\n",
       "  'country': 'United States Minor Outlying Islands',\n",
       "  'url': 'https://gonzalez-keith.org/',\n",
       "  'year': '1988',\n",
       "  'color': '#d67d2a'},\n",
       " '1988',\n",
       " array([-0.43746901, -0.46790568, -0.82528065,  0.94929708]))"
      ]
     },
     "execution_count": 11,
     "metadata": {},
     "output_type": "execute_result"
    }
   ],
   "source": [
    "# 100% baised result\n",
    "payload_data[0], payload_data[0][\"year\"], vector_data[0][:4]"
   ]
  },
  {
   "cell_type": "code",
   "execution_count": 12,
   "metadata": {},
   "outputs": [
    {
     "data": {
      "text/plain": [
       "(Filter(should=None, min_should=None, must=[FieldCondition(key='year', match=MatchValue(value='1988'), range=None, geo_bounding_box=None, geo_radius=None, geo_polygon=None, values_count=None)], must_not=None),\n",
       " Filter(should=None, min_should=None, must=[FieldCondition(key='year', match=MatchValue(value='1980'), range=None, geo_bounding_box=None, geo_radius=None, geo_polygon=None, values_count=None)], must_not=None))"
      ]
     },
     "execution_count": 12,
     "metadata": {},
     "output_type": "execute_result"
    }
   ],
   "source": [
    "# we can create custom filters if like : year that we want to keep same or genre in if lets say making some video or book recommendations.\n",
    "# we will create 2 filters one that we will use to get exact user match and one random\n",
    "custom_filter_100_percent = models.Filter(\n",
    "    must=[\n",
    "        models.FieldCondition(\n",
    "            key=\"year\", match=models.MatchValue(value=payload_data[0][\"year\"])\n",
    "        )\n",
    "    ]\n",
    ")\n",
    "\n",
    "custom_filter_random = models.Filter(\n",
    "    must=[\n",
    "        models.FieldCondition(\n",
    "            key=\"year\", match=models.MatchValue(value=\"1980\")\n",
    "        )\n",
    "    ]\n",
    ")\n",
    "\n",
    "custom_filter_100_percent, custom_filter_random"
   ]
  },
  {
   "cell_type": "code",
   "execution_count": 14,
   "metadata": {},
   "outputs": [
    {
     "name": "stderr",
     "output_type": "stream",
     "text": [
      "2024-03-22 07:48:55,211 : INFO : HTTP Request: POST https://b54f2f73-aa84-43cb-9e5b-48738d261af3.us-east4-0.gcp.cloud.qdrant.io:6333/collections/dummy_collection_01/points/search \"HTTP/1.1 200 OK\"\n"
     ]
    },
    {
     "data": {
      "text/plain": [
       "[ScoredPoint(id=0, version=0, score=1.0, payload={'address': '4989 Jessica Loop Apt. 164\\nJustinview, NM 87428', 'color': '#d67d2a', 'country': 'United States Minor Outlying Islands', 'name': 'Michael Hall', 'url': 'https://gonzalez-keith.org/', 'year': '1988'}, vector=None, shard_key=None),\n",
       " ScoredPoint(id=13, version=0, score=0.06378834, payload={'address': '409 Mark Mall\\nLake Colton, CO 02725', 'color': '#2cd337', 'country': 'Suriname', 'name': 'Christy Wilson', 'url': 'http://www.mata-arellano.com/', 'year': '1988'}, vector=None, shard_key=None),\n",
       " ScoredPoint(id=77, version=0, score=-0.13962737, payload={'address': '998 Cruz Port Apt. 751\\nEast Philipchester, MD 33192', 'color': '#536ef4', 'country': 'Eritrea', 'name': 'Samuel Watson', 'url': 'http://www.gonzalez.biz/', 'year': '1988'}, vector=None, shard_key=None)]"
      ]
     },
     "execution_count": 14,
     "metadata": {},
     "output_type": "execute_result"
    }
   ],
   "source": [
    "# now we will do search but with custom query filter\n",
    "# Search with custom filter baised\n",
    "client.search(\n",
    "    collection_name=dummy_data_collection,\n",
    "    query_vector=vector_data[0], # 100% matching vector,\n",
    "    query_filter= custom_filter_100_percent,\n",
    "    limit=15\n",
    ")"
   ]
  },
  {
   "cell_type": "code",
   "execution_count": 13,
   "metadata": {},
   "outputs": [
    {
     "name": "stderr",
     "output_type": "stream",
     "text": [
      "2024-03-22 07:47:29,963 : INFO : HTTP Request: POST https://b54f2f73-aa84-43cb-9e5b-48738d261af3.us-east4-0.gcp.cloud.qdrant.io:6333/collections/dummy_collection_01/points/search \"HTTP/1.1 200 OK\"\n"
     ]
    },
    {
     "data": {
      "text/plain": [
       "[]"
      ]
     },
     "execution_count": 13,
     "metadata": {},
     "output_type": "execute_result"
    }
   ],
   "source": [
    "# this is with random filter\n",
    "# we may or may not get result as due to the size of data set and due to exact year missmatch in this senario\n",
    "client.search(\n",
    "    collection_name=dummy_data_collection,\n",
    "    query_vector=serch_input_vector, # Random vector\n",
    "    query_filter= custom_filter_random,\n",
    "    limit=15\n",
    ")"
   ]
  },
  {
   "cell_type": "code",
   "execution_count": 15,
   "metadata": {},
   "outputs": [
    {
     "name": "stderr",
     "output_type": "stream",
     "text": [
      "2024-03-22 07:51:18,401 : INFO : HTTP Request: POST https://b54f2f73-aa84-43cb-9e5b-48738d261af3.us-east4-0.gcp.cloud.qdrant.io:6333/collections/dummy_collection_01/points/recommend \"HTTP/1.1 200 OK\"\n"
     ]
    },
    {
     "data": {
      "text/plain": [
       "[ScoredPoint(id=95, version=0, score=0.17628264, payload={'address': '8743 Jackson Mission Suite 930\\nPetersonfurt, AR 93347', 'color': '#8cf291', 'country': 'Sweden', 'name': 'Timothy Callahan', 'url': 'http://kennedy.org/', 'year': '1996'}, vector=None, shard_key=None),\n",
       " ScoredPoint(id=84, version=0, score=0.17602436, payload={'address': '682 Thompson Pike\\nNorth Jamestown, IL 72640', 'color': '#ddf776', 'country': 'Oman', 'name': 'Timothy Lin', 'url': 'http://www.walsh-dunn.com/', 'year': '2016'}, vector=None, shard_key=None),\n",
       " ScoredPoint(id=79, version=0, score=0.1753848, payload={'address': '367 Shaffer Point Apt. 598\\nJenniferville, SC 04769', 'color': '#6f38a0', 'country': 'Grenada', 'name': 'Cynthia Davis', 'url': 'http://gregory.com/', 'year': '2000'}, vector=None, shard_key=None),\n",
       " ScoredPoint(id=78, version=0, score=0.17087176, payload={'address': '67004 Randy Mount Suite 927\\nWilliamland, AS 95892', 'color': '#ba4232', 'country': 'Liberia', 'name': 'George Owen', 'url': 'https://johnson.com/', 'year': '1982'}, vector=None, shard_key=None),\n",
       " ScoredPoint(id=24, version=0, score=0.17079619, payload={'address': '97326 Smith Glens\\nPort Jillview, MA 90124', 'color': '#3ffc00', 'country': 'Qatar', 'name': 'Timothy Tate', 'url': 'https://cunningham.org/', 'year': '2001'}, vector=None, shard_key=None)]"
      ]
     },
     "execution_count": 15,
     "metadata": {},
     "output_type": "execute_result"
    }
   ],
   "source": [
    "# Recommendation Engine\n",
    "# we can create recomendation engines based on our vector database collections\n",
    "client.recommend(\n",
    "    collection_name=dummy_data_collection,\n",
    "    positive=[1], # index of similar pattern\n",
    "    negative=[75,40], # negitive index\n",
    "    # query_filter= custom_filter_random, # custom filter if want to add in recomendation\n",
    "    limit=5\n",
    ")\n"
   ]
  },
  {
   "cell_type": "code",
   "execution_count": null,
   "metadata": {},
   "outputs": [],
   "source": []
  }
 ],
 "metadata": {
  "kernelspec": {
   "display_name": "Python 3 (ipykernel)",
   "language": "python",
   "name": "python3"
  },
  "language_info": {
   "codemirror_mode": {
    "name": "ipython",
    "version": 3
   },
   "file_extension": ".py",
   "mimetype": "text/x-python",
   "name": "python",
   "nbconvert_exporter": "python",
   "pygments_lexer": "ipython3",
   "version": "3.11.8"
  }
 },
 "nbformat": 4,
 "nbformat_minor": 4
}
